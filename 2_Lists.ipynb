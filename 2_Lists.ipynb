{
 "cells": [
  {
   "cell_type": "markdown",
   "id": "bfce1b3c",
   "metadata": {},
   "source": [
    "### Python DataTypes"
   ]
  },
  {
   "cell_type": "code",
   "execution_count": 94,
   "id": "ff9e70f7",
   "metadata": {},
   "outputs": [
    {
     "name": "stdout",
     "output_type": "stream",
     "text": [
      "start 30\n"
     ]
    }
   ],
   "source": [
    "print('start'+ ' ' + str(30))"
   ]
  },
  {
   "cell_type": "code",
   "execution_count": 100,
   "id": "6f7da539",
   "metadata": {},
   "outputs": [
    {
     "name": "stdout",
     "output_type": "stream",
     "text": [
      "start 30\n"
     ]
    }
   ],
   "source": [
    "print('start', 30)"
   ]
  },
  {
   "cell_type": "code",
   "execution_count": 3,
   "id": "0f7d85d2",
   "metadata": {},
   "outputs": [],
   "source": [
    "age = 30\n",
    "name = \"Modi\"\n",
    "logic = True\n",
    "age_2 = 30.0"
   ]
  },
  {
   "cell_type": "code",
   "execution_count": 1,
   "id": "1d359542",
   "metadata": {},
   "outputs": [],
   "source": [
    "# String: \"text under quotes\"\n",
    "#integer: number eg 10\n",
    "#float/decimal: Real numbers eg 10.0\n",
    "#Bool: True/False"
   ]
  },
  {
   "cell_type": "code",
   "execution_count": 4,
   "id": "324ae2af",
   "metadata": {},
   "outputs": [
    {
     "data": {
      "text/plain": [
       "int"
      ]
     },
     "execution_count": 4,
     "metadata": {},
     "output_type": "execute_result"
    }
   ],
   "source": [
    "type(age)"
   ]
  },
  {
   "cell_type": "code",
   "execution_count": 5,
   "id": "abc2a7b6",
   "metadata": {},
   "outputs": [
    {
     "data": {
      "text/plain": [
       "str"
      ]
     },
     "execution_count": 5,
     "metadata": {},
     "output_type": "execute_result"
    }
   ],
   "source": [
    "type(name)"
   ]
  },
  {
   "cell_type": "code",
   "execution_count": 6,
   "id": "b34f240a",
   "metadata": {},
   "outputs": [
    {
     "data": {
      "text/plain": [
       "bool"
      ]
     },
     "execution_count": 6,
     "metadata": {},
     "output_type": "execute_result"
    }
   ],
   "source": [
    "type(logic)"
   ]
  },
  {
   "cell_type": "code",
   "execution_count": 7,
   "id": "fc492e3e",
   "metadata": {},
   "outputs": [
    {
     "data": {
      "text/plain": [
       "float"
      ]
     },
     "execution_count": 7,
     "metadata": {},
     "output_type": "execute_result"
    }
   ],
   "source": [
    "type(age_2)"
   ]
  },
  {
   "cell_type": "code",
   "execution_count": 8,
   "id": "d307ee6b",
   "metadata": {},
   "outputs": [],
   "source": [
    "x = \"True\""
   ]
  },
  {
   "cell_type": "code",
   "execution_count": 9,
   "id": "70bad49d",
   "metadata": {},
   "outputs": [
    {
     "data": {
      "text/plain": [
       "str"
      ]
     },
     "execution_count": 9,
     "metadata": {},
     "output_type": "execute_result"
    }
   ],
   "source": [
    "type(x)"
   ]
  },
  {
   "cell_type": "markdown",
   "id": "91099465",
   "metadata": {},
   "source": [
    "#### Type casting"
   ]
  },
  {
   "cell_type": "code",
   "execution_count": 10,
   "id": "1ec39731",
   "metadata": {},
   "outputs": [
    {
     "data": {
      "text/plain": [
       "float"
      ]
     },
     "execution_count": 10,
     "metadata": {},
     "output_type": "execute_result"
    }
   ],
   "source": [
    "type(age_2)"
   ]
  },
  {
   "cell_type": "code",
   "execution_count": 11,
   "id": "0519f307",
   "metadata": {},
   "outputs": [
    {
     "data": {
      "text/plain": [
       "int"
      ]
     },
     "execution_count": 11,
     "metadata": {},
     "output_type": "execute_result"
    }
   ],
   "source": [
    "type(int(age_2))"
   ]
  },
  {
   "cell_type": "code",
   "execution_count": 12,
   "id": "3d0adaed",
   "metadata": {},
   "outputs": [
    {
     "data": {
      "text/plain": [
       "30"
      ]
     },
     "execution_count": 12,
     "metadata": {},
     "output_type": "execute_result"
    }
   ],
   "source": [
    "int(age_2)"
   ]
  },
  {
   "cell_type": "code",
   "execution_count": 13,
   "id": "afd544fb",
   "metadata": {},
   "outputs": [
    {
     "data": {
      "text/plain": [
       "30"
      ]
     },
     "execution_count": 13,
     "metadata": {},
     "output_type": "execute_result"
    }
   ],
   "source": [
    "round(30.5)"
   ]
  },
  {
   "cell_type": "markdown",
   "id": "04e719bc",
   "metadata": {},
   "source": [
    "## Python Lists"
   ]
  },
  {
   "cell_type": "code",
   "execution_count": 15,
   "id": "d1400b3b",
   "metadata": {},
   "outputs": [],
   "source": [
    "height_1 = 1.8\n",
    "height_2 = 1.6\n",
    "height_3 = 1.5\n",
    "height_4 = 2.0"
   ]
  },
  {
   "cell_type": "code",
   "execution_count": 33,
   "id": "8d0e5f05",
   "metadata": {},
   "outputs": [],
   "source": [
    "height = [1.8,1.6,1.5,2.0,4,8,9,6,4,7]\n",
    "#indexes_height = [0,1,2,3]\n",
    "\n",
    "\n",
    "#index = [0,-5,-4,-3,-2,-1]\n",
    "#index_normal = [0,1,2,3,4,5]"
   ]
  },
  {
   "cell_type": "code",
   "execution_count": 17,
   "id": "0e556684",
   "metadata": {},
   "outputs": [
    {
     "data": {
      "text/plain": [
       "list"
      ]
     },
     "execution_count": 17,
     "metadata": {},
     "output_type": "execute_result"
    }
   ],
   "source": [
    "type(height)"
   ]
  },
  {
   "cell_type": "code",
   "execution_count": 18,
   "id": "615909f9",
   "metadata": {},
   "outputs": [
    {
     "data": {
      "text/plain": [
       "4"
      ]
     },
     "execution_count": 18,
     "metadata": {},
     "output_type": "execute_result"
    }
   ],
   "source": [
    "len(height)"
   ]
  },
  {
   "cell_type": "code",
   "execution_count": 19,
   "id": "04b62252",
   "metadata": {},
   "outputs": [],
   "source": [
    "x = ['name',2, 2.3, True]"
   ]
  },
  {
   "cell_type": "markdown",
   "id": "99febdb0",
   "metadata": {},
   "source": [
    "##### Access single value in list"
   ]
  },
  {
   "cell_type": "code",
   "execution_count": 20,
   "id": "896c6922",
   "metadata": {},
   "outputs": [
    {
     "data": {
      "text/plain": [
       "1.8"
      ]
     },
     "execution_count": 20,
     "metadata": {},
     "output_type": "execute_result"
    }
   ],
   "source": [
    "height[0]"
   ]
  },
  {
   "cell_type": "code",
   "execution_count": 21,
   "id": "adfe1d3c",
   "metadata": {},
   "outputs": [
    {
     "data": {
      "text/plain": [
       "1.5"
      ]
     },
     "execution_count": 21,
     "metadata": {},
     "output_type": "execute_result"
    }
   ],
   "source": [
    "height[2]"
   ]
  },
  {
   "cell_type": "code",
   "execution_count": 22,
   "id": "5757f937",
   "metadata": {},
   "outputs": [
    {
     "data": {
      "text/plain": [
       "2.0"
      ]
     },
     "execution_count": 22,
     "metadata": {},
     "output_type": "execute_result"
    }
   ],
   "source": [
    "height[3]"
   ]
  },
  {
   "cell_type": "markdown",
   "id": "b7294be7",
   "metadata": {},
   "source": [
    "##### Accesss range of values in list / Slicing"
   ]
  },
  {
   "cell_type": "code",
   "execution_count": 24,
   "id": "0403d8f0",
   "metadata": {},
   "outputs": [],
   "source": [
    "#list_variable[start_index:end_index+1]"
   ]
  },
  {
   "cell_type": "code",
   "execution_count": 23,
   "id": "94613a2a",
   "metadata": {},
   "outputs": [
    {
     "data": {
      "text/plain": [
       "[1.6, 1.5]"
      ]
     },
     "execution_count": 23,
     "metadata": {},
     "output_type": "execute_result"
    }
   ],
   "source": [
    "height[1:3]"
   ]
  },
  {
   "cell_type": "code",
   "execution_count": 28,
   "id": "8235ca83",
   "metadata": {},
   "outputs": [
    {
     "data": {
      "text/plain": [
       "[1.5, 2.0]"
      ]
     },
     "execution_count": 28,
     "metadata": {},
     "output_type": "execute_result"
    }
   ],
   "source": [
    "height[2:4]"
   ]
  },
  {
   "cell_type": "code",
   "execution_count": 29,
   "id": "bca46562",
   "metadata": {},
   "outputs": [
    {
     "data": {
      "text/plain": [
       "[1.5, 2.0, 4, 8, 9, 6, 4, 7]"
      ]
     },
     "execution_count": 29,
     "metadata": {},
     "output_type": "execute_result"
    }
   ],
   "source": [
    "height[2:]"
   ]
  },
  {
   "cell_type": "code",
   "execution_count": 30,
   "id": "99dff7d6",
   "metadata": {},
   "outputs": [
    {
     "data": {
      "text/plain": [
       "[1.8, 1.6, 1.5]"
      ]
     },
     "execution_count": 30,
     "metadata": {},
     "output_type": "execute_result"
    }
   ],
   "source": [
    "height[:3]"
   ]
  },
  {
   "cell_type": "code",
   "execution_count": 31,
   "id": "9eb3897f",
   "metadata": {},
   "outputs": [
    {
     "data": {
      "text/plain": [
       "[1.8, 1.6, 1.5, 2.0, 4, 8, 9, 6, 4, 7]"
      ]
     },
     "execution_count": 31,
     "metadata": {},
     "output_type": "execute_result"
    }
   ],
   "source": [
    "height"
   ]
  },
  {
   "cell_type": "code",
   "execution_count": 32,
   "id": "c48b5c74",
   "metadata": {},
   "outputs": [
    {
     "data": {
      "text/plain": [
       "[1.8, 1.6, 1.5, 2.0, 4, 8, 9, 6, 4, 7]"
      ]
     },
     "execution_count": 32,
     "metadata": {},
     "output_type": "execute_result"
    }
   ],
   "source": [
    "height[:]"
   ]
  },
  {
   "cell_type": "code",
   "execution_count": 34,
   "id": "df832888",
   "metadata": {},
   "outputs": [
    {
     "data": {
      "text/plain": [
       "30"
      ]
     },
     "execution_count": 34,
     "metadata": {},
     "output_type": "execute_result"
    }
   ],
   "source": [
    "age[-1]"
   ]
  },
  {
   "cell_type": "code",
   "execution_count": 37,
   "id": "ed770ece",
   "metadata": {},
   "outputs": [
    {
     "data": {
      "text/plain": [
       "[24, 26, 28, 30]"
      ]
     },
     "execution_count": 37,
     "metadata": {},
     "output_type": "execute_result"
    }
   ],
   "source": [
    "age[-4:]"
   ]
  },
  {
   "cell_type": "code",
   "execution_count": 38,
   "id": "c5437bff",
   "metadata": {},
   "outputs": [],
   "source": [
    "age = [22,23,24,26,28,30]\n",
    "#indexes [0,-5,-4,-3,-2,-1]"
   ]
  },
  {
   "cell_type": "code",
   "execution_count": 39,
   "id": "3b313410",
   "metadata": {},
   "outputs": [],
   "source": [
    "#[23,24,26]\n",
    "#positive slicing: age[1:4]\n",
    "#negative slicing: age[-5:-2]"
   ]
  },
  {
   "cell_type": "markdown",
   "id": "9108ec04",
   "metadata": {},
   "source": [
    "### Insert/Delete in list"
   ]
  },
  {
   "cell_type": "code",
   "execution_count": 40,
   "id": "1a8f6a12",
   "metadata": {},
   "outputs": [
    {
     "data": {
      "text/plain": [
       "[22, 23, 24, 26, 28, 30]"
      ]
     },
     "execution_count": 40,
     "metadata": {},
     "output_type": "execute_result"
    }
   ],
   "source": [
    "age"
   ]
  },
  {
   "cell_type": "code",
   "execution_count": 41,
   "id": "57ef24c9",
   "metadata": {},
   "outputs": [],
   "source": [
    "age.append(32)"
   ]
  },
  {
   "cell_type": "code",
   "execution_count": 42,
   "id": "76c554ef",
   "metadata": {},
   "outputs": [
    {
     "data": {
      "text/plain": [
       "[22, 23, 24, 26, 28, 30, 32]"
      ]
     },
     "execution_count": 42,
     "metadata": {},
     "output_type": "execute_result"
    }
   ],
   "source": [
    "age"
   ]
  },
  {
   "cell_type": "code",
   "execution_count": 43,
   "id": "e878c4b9",
   "metadata": {},
   "outputs": [],
   "source": [
    "age.insert(1,36)"
   ]
  },
  {
   "cell_type": "code",
   "execution_count": 44,
   "id": "f1055231",
   "metadata": {},
   "outputs": [
    {
     "data": {
      "text/plain": [
       "[22, 36, 23, 24, 26, 28, 30, 32]"
      ]
     },
     "execution_count": 44,
     "metadata": {},
     "output_type": "execute_result"
    }
   ],
   "source": [
    "age"
   ]
  },
  {
   "cell_type": "code",
   "execution_count": 45,
   "id": "6eebb494",
   "metadata": {},
   "outputs": [],
   "source": [
    "age.remove(24)"
   ]
  },
  {
   "cell_type": "code",
   "execution_count": 46,
   "id": "df354457",
   "metadata": {},
   "outputs": [
    {
     "data": {
      "text/plain": [
       "[22, 36, 23, 26, 28, 30, 32]"
      ]
     },
     "execution_count": 46,
     "metadata": {},
     "output_type": "execute_result"
    }
   ],
   "source": [
    "age"
   ]
  },
  {
   "cell_type": "code",
   "execution_count": 47,
   "id": "01b20a10",
   "metadata": {},
   "outputs": [
    {
     "data": {
      "text/plain": [
       "22"
      ]
     },
     "execution_count": 47,
     "metadata": {},
     "output_type": "execute_result"
    }
   ],
   "source": [
    "age.pop(0)"
   ]
  },
  {
   "cell_type": "code",
   "execution_count": 48,
   "id": "b416b05f",
   "metadata": {},
   "outputs": [
    {
     "data": {
      "text/plain": [
       "[36, 23, 26, 28, 30, 32]"
      ]
     },
     "execution_count": 48,
     "metadata": {},
     "output_type": "execute_result"
    }
   ],
   "source": [
    "age"
   ]
  },
  {
   "cell_type": "code",
   "execution_count": 49,
   "id": "4e2558a4",
   "metadata": {},
   "outputs": [],
   "source": [
    "del age[1]"
   ]
  },
  {
   "cell_type": "code",
   "execution_count": 50,
   "id": "2def3889",
   "metadata": {},
   "outputs": [
    {
     "data": {
      "text/plain": [
       "[36, 26, 28, 30, 32]"
      ]
     },
     "execution_count": 50,
     "metadata": {},
     "output_type": "execute_result"
    }
   ],
   "source": [
    "age"
   ]
  },
  {
   "cell_type": "code",
   "execution_count": 51,
   "id": "0140f8bc",
   "metadata": {},
   "outputs": [],
   "source": [
    "age.append(32)"
   ]
  },
  {
   "cell_type": "code",
   "execution_count": 52,
   "id": "47d70fad",
   "metadata": {},
   "outputs": [
    {
     "data": {
      "text/plain": [
       "[36, 26, 28, 30, 32, 32]"
      ]
     },
     "execution_count": 52,
     "metadata": {},
     "output_type": "execute_result"
    }
   ],
   "source": [
    "age"
   ]
  },
  {
   "cell_type": "code",
   "execution_count": 53,
   "id": "86f688d2",
   "metadata": {},
   "outputs": [
    {
     "data": {
      "text/plain": [
       "32"
      ]
     },
     "execution_count": 53,
     "metadata": {},
     "output_type": "execute_result"
    }
   ],
   "source": [
    "age.pop(-2)"
   ]
  },
  {
   "cell_type": "code",
   "execution_count": 54,
   "id": "32eed605",
   "metadata": {},
   "outputs": [
    {
     "data": {
      "text/plain": [
       "[36, 26, 28, 30, 32]"
      ]
     },
     "execution_count": 54,
     "metadata": {},
     "output_type": "execute_result"
    }
   ],
   "source": [
    "age"
   ]
  },
  {
   "cell_type": "code",
   "execution_count": 56,
   "id": "fb8970f6",
   "metadata": {},
   "outputs": [],
   "source": [
    "age[1] = 46 #replace"
   ]
  },
  {
   "cell_type": "code",
   "execution_count": 57,
   "id": "f8ae648b",
   "metadata": {},
   "outputs": [
    {
     "data": {
      "text/plain": [
       "[36, 46, 28, 30, 32]"
      ]
     },
     "execution_count": 57,
     "metadata": {},
     "output_type": "execute_result"
    }
   ],
   "source": [
    "age"
   ]
  },
  {
   "cell_type": "markdown",
   "id": "bf84d30c",
   "metadata": {},
   "source": [
    "### For Loop"
   ]
  },
  {
   "cell_type": "code",
   "execution_count": 60,
   "id": "48f87727",
   "metadata": {},
   "outputs": [
    {
     "data": {
      "text/plain": [
       "False"
      ]
     },
     "execution_count": 60,
     "metadata": {},
     "output_type": "execute_result"
    }
   ],
   "source": [
    "25 in age"
   ]
  },
  {
   "cell_type": "code",
   "execution_count": 65,
   "id": "50c49d7a",
   "metadata": {},
   "outputs": [
    {
     "data": {
      "text/plain": [
       "True"
      ]
     },
     "execution_count": 65,
     "metadata": {},
     "output_type": "execute_result"
    }
   ],
   "source": [
    "30 in age"
   ]
  },
  {
   "cell_type": "code",
   "execution_count": 67,
   "id": "c51b2f0d",
   "metadata": {},
   "outputs": [
    {
     "data": {
      "text/plain": [
       "['apple', 'orange', 'banana']"
      ]
     },
     "execution_count": 67,
     "metadata": {},
     "output_type": "execute_result"
    }
   ],
   "source": [
    "list(('apple','orange','banana'))"
   ]
  },
  {
   "cell_type": "code",
   "execution_count": 68,
   "id": "e13febf4",
   "metadata": {},
   "outputs": [
    {
     "data": {
      "text/plain": [
       "[0, 1, 2, 3, 4]"
      ]
     },
     "execution_count": 68,
     "metadata": {},
     "output_type": "execute_result"
    }
   ],
   "source": [
    "list(range(0,5))\n",
    "#range(start,end+1)"
   ]
  },
  {
   "cell_type": "code",
   "execution_count": 69,
   "id": "77fc2d07",
   "metadata": {},
   "outputs": [
    {
     "data": {
      "text/plain": [
       "[1, 2, 3, 4]"
      ]
     },
     "execution_count": 69,
     "metadata": {},
     "output_type": "execute_result"
    }
   ],
   "source": [
    "list(range(1,5))"
   ]
  },
  {
   "cell_type": "code",
   "execution_count": 59,
   "id": "201e94fe",
   "metadata": {},
   "outputs": [
    {
     "name": "stdout",
     "output_type": "stream",
     "text": [
      "0\n",
      "1\n",
      "2\n",
      "3\n",
      "4\n"
     ]
    }
   ],
   "source": [
    "for i in range(0,5):\n",
    "    print(i)"
   ]
  },
  {
   "cell_type": "code",
   "execution_count": 70,
   "id": "167387ea",
   "metadata": {},
   "outputs": [
    {
     "name": "stdout",
     "output_type": "stream",
     "text": [
      "0\n",
      "1\n",
      "4\n",
      "9\n",
      "16\n"
     ]
    }
   ],
   "source": [
    "for i in range(0,5):\n",
    "    print(i**2)"
   ]
  },
  {
   "cell_type": "code",
   "execution_count": 71,
   "id": "26ca5c9e",
   "metadata": {},
   "outputs": [
    {
     "name": "stdout",
     "output_type": "stream",
     "text": [
      "10\n",
      "11\n",
      "12\n",
      "13\n",
      "14\n"
     ]
    }
   ],
   "source": [
    "for i in range(0,5):\n",
    "    print(i+10)"
   ]
  },
  {
   "cell_type": "code",
   "execution_count": 73,
   "id": "72b3bf7e",
   "metadata": {},
   "outputs": [
    {
     "data": {
      "text/plain": [
       "[36, 46, 28, 30, 32]"
      ]
     },
     "execution_count": 73,
     "metadata": {},
     "output_type": "execute_result"
    }
   ],
   "source": [
    "age"
   ]
  },
  {
   "cell_type": "code",
   "execution_count": 72,
   "id": "ccef06dd",
   "metadata": {},
   "outputs": [
    {
     "name": "stdout",
     "output_type": "stream",
     "text": [
      "36\n",
      "46\n",
      "28\n",
      "30\n",
      "32\n"
     ]
    }
   ],
   "source": [
    "for i in age:\n",
    "    print(i)"
   ]
  },
  {
   "cell_type": "markdown",
   "id": "b30160db",
   "metadata": {},
   "source": [
    "### Concepts Combo"
   ]
  },
  {
   "cell_type": "code",
   "execution_count": 79,
   "id": "f7164fe4",
   "metadata": {},
   "outputs": [
    {
     "name": "stdout",
     "output_type": "stream",
     "text": [
      "value same nathi\n",
      "value same nathi\n",
      "value same nathi\n",
      "value same nathi\n",
      "value same nathi\n"
     ]
    }
   ],
   "source": [
    "for i in age:\n",
    "    if i == 55:\n",
    "        print(i)\n",
    "    else:\n",
    "        print('value same nathi')"
   ]
  },
  {
   "cell_type": "code",
   "execution_count": 107,
   "id": "9806f5b5",
   "metadata": {},
   "outputs": [],
   "source": [
    "age = [36, 46, 28, 30, 32]\n",
    "#indexes= [0,1,2,3,4]"
   ]
  },
  {
   "cell_type": "code",
   "execution_count": 105,
   "id": "131ec092",
   "metadata": {},
   "outputs": [
    {
     "name": "stdout",
     "output_type": "stream",
     "text": [
      "input 36 [36, 46, 28, 30, 32]\n",
      "output [36, 46, 28, 30, 32]\n",
      "input 46 [36, 46, 28, 30, 32]\n",
      "output [36, 28, 30, 32]\n",
      "input 30 [36, 28, 30, 32]\n",
      "output [36, 28, 30, 32]\n",
      "input 32 [36, 28, 30, 32]\n",
      "output [36, 28, 30, 32]\n"
     ]
    }
   ],
   "source": [
    "#important concept of data manipulation using for loop and its effects\n",
    "for i in age:\n",
    "    print('input',i,age)\n",
    "    if i > 40:\n",
    "        age.remove(i)\n",
    "    print('output',age)"
   ]
  },
  {
   "cell_type": "code",
   "execution_count": null,
   "id": "568d4da6",
   "metadata": {},
   "outputs": [],
   "source": [
    "# Why 28 is not covered in above example\n",
    "#new age after manipulating the age list is [36,28,30,32]\n",
    "#new index is [0,1,2,3]"
   ]
  },
  {
   "cell_type": "code",
   "execution_count": 109,
   "id": "703725b1",
   "metadata": {},
   "outputs": [],
   "source": [
    "age = [36, 46, 28, 30, 32]\n",
    "#indexes= [0,1,2,3,4]"
   ]
  },
  {
   "cell_type": "code",
   "execution_count": 110,
   "id": "32e6adc6",
   "metadata": {},
   "outputs": [
    {
     "name": "stdout",
     "output_type": "stream",
     "text": [
      "input 36 [36, 46, 28, 30, 32]\n",
      "output [36, 46, 28, 30, 32]\n",
      "input 46 [36, 46, 28, 30, 32]\n",
      "old\n",
      "output [36, 46, 28, 30, 32]\n",
      "input 28 [36, 46, 28, 30, 32]\n",
      "output [36, 46, 28, 30, 32]\n",
      "input 30 [36, 46, 28, 30, 32]\n",
      "output [36, 46, 28, 30, 32]\n",
      "input 32 [36, 46, 28, 30, 32]\n",
      "output [36, 46, 28, 30, 32]\n"
     ]
    }
   ],
   "source": [
    "for i in age:\n",
    "    print('input',i,age)\n",
    "    if i > 40:\n",
    "        print('old')\n",
    "    print('output',age)"
   ]
  },
  {
   "cell_type": "markdown",
   "id": "b67a4b1b",
   "metadata": {},
   "source": [
    "## Assignment"
   ]
  },
  {
   "cell_type": "markdown",
   "id": "841d854f",
   "metadata": {},
   "source": [
    "### Question 1"
   ]
  },
  {
   "cell_type": "code",
   "execution_count": 112,
   "id": "0fb83634",
   "metadata": {},
   "outputs": [],
   "source": [
    "# concept before getting to question:\n",
    "# How to get remainder when we are dividing any number by another\n",
    "# for example: if we divide 12 by 3 the remainder is 0, and if we divide 7 by 2 the remainder is 1\n",
    "# python has special operator to get remainders: \"%\"\n",
    "#lets see some example"
   ]
  },
  {
   "cell_type": "code",
   "execution_count": 114,
   "id": "d9bc36c3",
   "metadata": {},
   "outputs": [
    {
     "name": "stdout",
     "output_type": "stream",
     "text": [
      "0\n",
      "1\n",
      "3\n"
     ]
    }
   ],
   "source": [
    "print(12%3)\n",
    "print(7%2)\n",
    "print(17%7)"
   ]
  },
  {
   "cell_type": "code",
   "execution_count": null,
   "id": "8459f09a",
   "metadata": {},
   "outputs": [],
   "source": [
    "#Question: In the range of 0 to 100, print the numbers that are divisible(remainder=0) by 5\n",
    "#your code:\n"
   ]
  },
  {
   "cell_type": "markdown",
   "id": "79c798df",
   "metadata": {},
   "source": [
    "### Question 2"
   ]
  },
  {
   "cell_type": "code",
   "execution_count": null,
   "id": "dd307e53",
   "metadata": {},
   "outputs": [],
   "source": [
    "# print pattern as shown below:\n",
    "*\n",
    "**\n",
    "***\n",
    "****\n",
    "*****\n",
    "# ask input from user for number of lines in the pattern, above mentioned output is for input=5\n",
    "#your code:"
   ]
  },
  {
   "cell_type": "markdown",
   "id": "5326301e",
   "metadata": {},
   "source": [
    "### Question 3"
   ]
  },
  {
   "cell_type": "code",
   "execution_count": null,
   "id": "a6df13f7",
   "metadata": {},
   "outputs": [],
   "source": [
    "# print pattern as shown below:\n",
    "1\n",
    "22\n",
    "333\n",
    "4444\n",
    "# ask input from user for number of lines in the pattern, above mentioned output is for input=4\n",
    "#your code:"
   ]
  }
 ],
 "metadata": {
  "kernelspec": {
   "display_name": "Python 3 (ipykernel)",
   "language": "python",
   "name": "python3"
  },
  "language_info": {
   "codemirror_mode": {
    "name": "ipython",
    "version": 3
   },
   "file_extension": ".py",
   "mimetype": "text/x-python",
   "name": "python",
   "nbconvert_exporter": "python",
   "pygments_lexer": "ipython3",
   "version": "3.10.8"
  }
 },
 "nbformat": 4,
 "nbformat_minor": 5
}
