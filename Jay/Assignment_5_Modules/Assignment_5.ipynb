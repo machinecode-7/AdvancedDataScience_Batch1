{
 "cells": [
  {
   "cell_type": "code",
   "execution_count": 3,
   "id": "48e4fbd1",
   "metadata": {},
   "outputs": [],
   "source": [
    "import ticketprice"
   ]
  },
  {
   "cell_type": "code",
   "execution_count": 4,
   "id": "17f2a51e",
   "metadata": {},
   "outputs": [
    {
     "name": "stdout",
     "output_type": "stream",
     "text": [
      "Please enter you age:30\n"
     ]
    },
    {
     "data": {
      "text/plain": [
       "'60$'"
      ]
     },
     "execution_count": 4,
     "metadata": {},
     "output_type": "execute_result"
    }
   ],
   "source": [
    "age = int(input(\"Please enter you age:\"))\n",
    "ticketprice.age(age)"
   ]
  },
  {
   "cell_type": "code",
   "execution_count": 1,
   "id": "9a945e1d",
   "metadata": {},
   "outputs": [],
   "source": [
    "import QUE2"
   ]
  },
  {
   "cell_type": "code",
   "execution_count": 2,
   "id": "0a7b4dc3",
   "metadata": {},
   "outputs": [
    {
     "name": "stdout",
     "output_type": "stream",
     "text": [
      "[4, 5, 6, 8, 10, 12, 12, 15, 18]\n"
     ]
    }
   ],
   "source": [
    "QUE2.list_mul()"
   ]
  },
  {
   "cell_type": "code",
   "execution_count": null,
   "id": "033a58a9",
   "metadata": {},
   "outputs": [],
   "source": []
  },
  {
   "cell_type": "code",
   "execution_count": null,
   "id": "fd6721f9",
   "metadata": {},
   "outputs": [],
   "source": []
  },
  {
   "cell_type": "code",
   "execution_count": null,
   "id": "9677e6b1",
   "metadata": {},
   "outputs": [],
   "source": []
  },
  {
   "cell_type": "code",
   "execution_count": null,
   "id": "52632e08",
   "metadata": {},
   "outputs": [],
   "source": []
  },
  {
   "cell_type": "code",
   "execution_count": null,
   "id": "7ec00887",
   "metadata": {},
   "outputs": [],
   "source": []
  }
 ],
 "metadata": {
  "kernelspec": {
   "display_name": "Python 3 (ipykernel)",
   "language": "python",
   "name": "python3"
  },
  "language_info": {
   "codemirror_mode": {
    "name": "ipython",
    "version": 3
   },
   "file_extension": ".py",
   "mimetype": "text/x-python",
   "name": "python",
   "nbconvert_exporter": "python",
   "pygments_lexer": "ipython3",
   "version": "3.9.13"
  }
 },
 "nbformat": 4,
 "nbformat_minor": 5
}
