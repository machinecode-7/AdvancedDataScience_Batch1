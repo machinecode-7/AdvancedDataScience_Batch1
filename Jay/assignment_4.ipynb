{
 "cells": [
  {
   "cell_type": "code",
   "execution_count": 27,
   "id": "2da01f71",
   "metadata": {},
   "outputs": [],
   "source": [
    "# Write a program that appends the square of each number to a new list.\n",
    "# Example:\n",
    "# Given x = [2,3,4,5,6,7,8]\n",
    "\n",
    "# Expected output \n",
    "# Result: [4, 9, 16, 25, 36, 49, 64]"
   ]
  },
  {
   "cell_type": "code",
   "execution_count": 28,
   "id": "8aa6a24f",
   "metadata": {},
   "outputs": [
    {
     "name": "stdout",
     "output_type": "stream",
     "text": [
      "[4, 9, 16, 25, 36, 49, 64]\n"
     ]
    }
   ],
   "source": [
    "x = [2,3,4,5,6,7,8]\n",
    "squares = []\n",
    "for i in x:\n",
    "    squares.append(i**2)\n",
    "print(squares)\n",
    "    \n"
   ]
  },
  {
   "cell_type": "code",
   "execution_count": 29,
   "id": "e6a2aebd",
   "metadata": {},
   "outputs": [],
   "source": [
    "# WAP(write a program) to separate positive and negative number from a list.\n",
    "# Example:\n",
    "# Given x = [23, 4, -6, 23, -9, 21, 3, -45, -8]\n",
    "\n",
    "# Expected output \n",
    "# Result:\n",
    "# Positive: [23, 4, 23, 21, 3] Negative: [-6, -45, -9, -8]"
   ]
  },
  {
   "cell_type": "code",
   "execution_count": 30,
   "id": "ef15e88f",
   "metadata": {},
   "outputs": [
    {
     "name": "stdout",
     "output_type": "stream",
     "text": [
      "[23, 4, 23, 21, 3]\n",
      "[-6, -9, -45, -8]\n"
     ]
    }
   ],
   "source": [
    "x = [23, 4, -6, 23, -9, 21, 3, -45, -8]\n",
    "\n",
    "Positive= []\n",
    "Negative = []\n",
    "for i in x:\n",
    "    if (i >= 0):\n",
    "        Positive.append(i)\n",
    "    else:\n",
    "        Negative.append(i)\n",
    "print(Positive) \n",
    "print(Negative)"
   ]
  },
  {
   "cell_type": "code",
   "execution_count": 31,
   "id": "5bd0afc2",
   "metadata": {},
   "outputs": [],
   "source": [
    "# Write a program that create a list with the type of elements from a  given list.\n",
    "# Example\n",
    "# Given x = [23, ‘Python’, 23.98]\n",
    "\n",
    "# Expected output \n",
    "# Result:\n",
    "# [<class 'int'>,<class 'str'>,<class 'float'>]"
   ]
  },
  {
   "cell_type": "code",
   "execution_count": 32,
   "id": "72da2c77",
   "metadata": {
    "scrolled": true
   },
   "outputs": [
    {
     "name": "stdout",
     "output_type": "stream",
     "text": [
      "[<class 'int'>, <class 'str'>, <class 'float'>]\n"
     ]
    }
   ],
   "source": [
    "x = [23, 'Python', 23.98]\n",
    "output = []\n",
    "for elements in x:\n",
    "    output.append(type(elements))\n",
    "print(output)\n"
   ]
  },
  {
   "cell_type": "code",
   "execution_count": 33,
   "id": "c3879228",
   "metadata": {},
   "outputs": [],
   "source": [
    "# Print a pattern as shown below:\n",
    "# 012345\n",
    "# 01234\n",
    "# 0123\n",
    "# 012\n",
    "# 01"
   ]
  },
  {
   "cell_type": "code",
   "execution_count": 34,
   "id": "d5eea8b8",
   "metadata": {},
   "outputs": [
    {
     "name": "stdout",
     "output_type": "stream",
     "text": [
      "012345\r\n",
      "01234\r\n",
      "0123\r\n",
      "012\r\n",
      "01\r\n"
     ]
    }
   ],
   "source": [
    "rows = 5\n",
    "for i in range(rows, 0, -1):\n",
    "    for j in range(0, i + 1):\n",
    "        print(j, end='')\n",
    "    print('\\r')"
   ]
  },
  {
   "cell_type": "code",
   "execution_count": null,
   "id": "d8a30f7b",
   "metadata": {},
   "outputs": [],
   "source": []
  },
  {
   "cell_type": "code",
   "execution_count": null,
   "id": "fbf29c12",
   "metadata": {},
   "outputs": [],
   "source": []
  }
 ],
 "metadata": {
  "kernelspec": {
   "display_name": "Python 3 (ipykernel)",
   "language": "python",
   "name": "python3"
  },
  "language_info": {
   "codemirror_mode": {
    "name": "ipython",
    "version": 3
   },
   "file_extension": ".py",
   "mimetype": "text/x-python",
   "name": "python",
   "nbconvert_exporter": "python",
   "pygments_lexer": "ipython3",
   "version": "3.9.13"
  }
 },
 "nbformat": 4,
 "nbformat_minor": 5
}
