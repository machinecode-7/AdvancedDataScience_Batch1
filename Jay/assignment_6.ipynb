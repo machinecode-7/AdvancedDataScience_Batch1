{
 "cells": [
  {
   "cell_type": "code",
   "execution_count": 21,
   "id": "77c13bb7",
   "metadata": {},
   "outputs": [],
   "source": [
    "import numpy as np"
   ]
  },
  {
   "cell_type": "code",
   "execution_count": null,
   "id": "db24e578",
   "metadata": {},
   "outputs": [],
   "source": [
    "# Give me every element of array4\n",
    "#array4 = array3.reshape(1,3,3)"
   ]
  },
  {
   "cell_type": "code",
   "execution_count": 22,
   "id": "a76efd64",
   "metadata": {},
   "outputs": [],
   "source": [
    "array = np.array([1,2,3,4,5,6,7,8,9]) \n",
    "array3 = array.reshape(3,3)\n",
    "array4 = array3.reshape(1,3,3)"
   ]
  },
  {
   "cell_type": "code",
   "execution_count": 23,
   "id": "74aecc20",
   "metadata": {},
   "outputs": [
    {
     "data": {
      "text/plain": [
       "array([[[1, 2, 3],\n",
       "        [4, 5, 6],\n",
       "        [7, 8, 9]]])"
      ]
     },
     "execution_count": 23,
     "metadata": {},
     "output_type": "execute_result"
    }
   ],
   "source": [
    "array4"
   ]
  },
  {
   "cell_type": "code",
   "execution_count": 24,
   "id": "124b5b88",
   "metadata": {},
   "outputs": [
    {
     "name": "stdout",
     "output_type": "stream",
     "text": [
      "1\n",
      "2\n",
      "3\n",
      "4\n",
      "5\n",
      "6\n",
      "7\n",
      "8\n",
      "9\n"
     ]
    }
   ],
   "source": [
    "for i in array4:\n",
    "    for x in i:\n",
    "        for y in x:\n",
    "            print(y)"
   ]
  },
  {
   "cell_type": "code",
   "execution_count": null,
   "id": "7f4a37a5",
   "metadata": {},
   "outputs": [],
   "source": [
    ",#Get the common elements between list1 and list2\n",
    "#For eg: input from user=> list1= [2,3,4] list2=[3,4,5] (search on how to take list as an input from user, lets learn googling)\n",
    "#output: [3,4]\n",
    "#Hint: One might think to use *in* operator,,"
   ]
  },
  {
   "cell_type": "code",
   "execution_count": 25,
   "id": "ca6de91c",
   "metadata": {},
   "outputs": [
    {
     "name": "stdout",
     "output_type": "stream",
     "text": [
      "Enter number of elements : 5\n",
      "1\n",
      "2\n",
      "3\n",
      "4\n",
      "5\n",
      "[1, 2, 3, 4, 5]\n",
      "Enter number of elements : 5\n",
      "3\n",
      "4\n",
      "5\n",
      "6\n",
      "7\n",
      "[3, 4, 5, 6, 7]\n",
      "[3, 4, 5]\n"
     ]
    }
   ],
   "source": [
    "lst_1 = []\n",
    "  \n",
    "# number of elements as input\n",
    "n = int(input(\"Enter number of elements : \"))\n",
    "  \n",
    "# iterating till the range\n",
    "for i in range(0, n):\n",
    "    ele = int(input())\n",
    "    # adding the element\n",
    "    lst_1.append(ele)  \n",
    "  \n",
    "print(lst_1)\n",
    "\n",
    "lst_2 = []\n",
    "n = int(input(\"Enter number of elements : \"))\n",
    "for i in range(0, n):\n",
    "    ele = int(input())\n",
    "    lst_2.append(ele)  \n",
    "print(lst_2)\n",
    "\n",
    "result = []\n",
    "for element in lst_1:\n",
    "    if element in lst_2:\n",
    "        result.append(element)\n",
    "print(result)\n"
   ]
  },
  {
   "cell_type": "code",
   "execution_count": null,
   "id": "20a0cd36",
   "metadata": {},
   "outputs": [],
   "source": [
    "#Try Q2 with numpy arrays instead of lists\n",
    "# Also, google if there are any shortcuts (I mean any dedicated function to find intersection between two arrays/list)"
   ]
  },
  {
   "cell_type": "code",
   "execution_count": 26,
   "id": "485b3ab8",
   "metadata": {},
   "outputs": [
    {
     "name": "stdout",
     "output_type": "stream",
     "text": [
      "[3 4 5]\n"
     ]
    }
   ],
   "source": [
    "print(np.intersect1d(lst_1, lst_2))\n"
   ]
  },
  {
   "cell_type": "code",
   "execution_count": null,
   "id": "e58401be",
   "metadata": {},
   "outputs": [],
   "source": [
    "## Remove the common elements of list1 from list2\n",
    "#For eg: input=> list1=[2,3,4] list2 = [3,4,5]\n",
    "#output: [2] #removed 3 and 4 since they were present in list2\n",
    "#hint: *in* and remove function of list\n",
    "#Try to perform the same with numpy array"
   ]
  },
  {
   "cell_type": "code",
   "execution_count": 27,
   "id": "30eb0b3d",
   "metadata": {},
   "outputs": [
    {
     "name": "stdout",
     "output_type": "stream",
     "text": [
      "Enter number of elements : 5\n",
      "1\n",
      "2\n",
      "3\n",
      "4\n",
      "5\n",
      "[1, 2, 3, 4, 5]\n",
      "Enter number of elements : 5\n",
      "3\n",
      "4\n",
      "5\n",
      "6\n",
      "7\n",
      "[3, 4, 5, 6, 7]\n",
      "[1, 2, 6, 7]\n"
     ]
    }
   ],
   "source": [
    "lst_1 = []\n",
    "n = int(input(\"Enter number of elements : \"))\n",
    "for i in range(0, n):\n",
    "    ele = int(input())\n",
    "    lst_1.append(ele)  \n",
    "print(lst_1)\n",
    "\n",
    "lst_2 = []\n",
    "n = int(input(\"Enter number of elements : \"))\n",
    "for i in range(0, n):\n",
    "    ele = int(input())\n",
    "    lst_2.append(ele)  \n",
    "print(lst_2)\n",
    "\n",
    "result = lst_1 + lst_2\n",
    "        \n",
    "for element in result:\n",
    "    if element in lst_1 and element in lst_2:\n",
    "        lst_1.remove(element)\n",
    "        lst_2.remove(element)\n",
    "        result = lst_1 + lst_2\n",
    "        \n",
    "print(result)\n"
   ]
  },
  {
   "cell_type": "code",
   "execution_count": 31,
   "id": "bada88cf",
   "metadata": {},
   "outputs": [
    {
     "name": "stdout",
     "output_type": "stream",
     "text": [
      "[1 2]\n"
     ]
    }
   ],
   "source": [
    "print(np.setdiff1d(lst_1, lst_2))\n"
   ]
  },
  {
   "cell_type": "code",
   "execution_count": null,
   "id": "1c209f20",
   "metadata": {},
   "outputs": [],
   "source": [
    "# Add(append) elements to list1 from list2 if that element is not present already in list1.\n",
    "#(I mean add the element which is not common)\n",
    "# for eg: input => list1=[1,2,3,4,5] list2=[3,4,5,6,7]\n",
    "#output=> [1,2,3,4,5,6,7] no need to add 3,4,5 again to list 1 since it is common\n",
    "#hint: *not in* and append"
   ]
  },
  {
   "cell_type": "code",
   "execution_count": 5,
   "id": "da7bd172",
   "metadata": {},
   "outputs": [
    {
     "name": "stdout",
     "output_type": "stream",
     "text": [
      "Enter number of elements : 5\n",
      "1\n",
      "2\n",
      "3\n",
      "4\n",
      "5\n",
      "[1, 2, 3, 4, 5]\n",
      "Enter number of elements : 5\n",
      "3\n",
      "4\n",
      "5\n",
      "6\n",
      "7\n",
      "[3, 4, 5, 6, 7]\n",
      "[1, 2, 3, 4, 5, 6, 7]\n"
     ]
    }
   ],
   "source": [
    "lst_1 = []\n",
    "n = int(input(\"Enter number of elements : \"))\n",
    "for i in range(0, n):\n",
    "    ele = int(input())\n",
    "    lst_1.append(ele)  \n",
    "print(lst_1)\n",
    "\n",
    "lst_2 = []\n",
    "n = int(input(\"Enter number of elements : \"))\n",
    "for i in range(0, n):\n",
    "    ele = int(input())\n",
    "    lst_2.append(ele)  \n",
    "print(lst_2)\n",
    "\n",
    "for element in lst_2:\n",
    "    if element not in lst_1:\n",
    "        lst_1.append(element)\n",
    "print(lst_1)"
   ]
  },
  {
   "cell_type": "code",
   "execution_count": 8,
   "id": "757a16d3",
   "metadata": {},
   "outputs": [
    {
     "data": {
      "text/plain": [
       "array([1, 2, 3, 4, 5, 6, 7])"
      ]
     },
     "execution_count": 8,
     "metadata": {},
     "output_type": "execute_result"
    }
   ],
   "source": [
    "np.union1d(lst_1, lst_2)"
   ]
  },
  {
   "cell_type": "code",
   "execution_count": null,
   "id": "373ff6d7",
   "metadata": {},
   "outputs": [],
   "source": []
  }
 ],
 "metadata": {
  "kernelspec": {
   "display_name": "Python 3 (ipykernel)",
   "language": "python",
   "name": "python3"
  },
  "language_info": {
   "codemirror_mode": {
    "name": "ipython",
    "version": 3
   },
   "file_extension": ".py",
   "mimetype": "text/x-python",
   "name": "python",
   "nbconvert_exporter": "python",
   "pygments_lexer": "ipython3",
   "version": "3.9.13"
  }
 },
 "nbformat": 4,
 "nbformat_minor": 5
}
