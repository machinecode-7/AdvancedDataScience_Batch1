{
 "cells": [
  {
   "cell_type": "code",
   "execution_count": 7,
   "id": "a8b1fcb0",
   "metadata": {},
   "outputs": [],
   "source": [
    "# Take a value greater than 1 from user (You can put it in any variable)\n",
    "# Print the sum of all numbers from 1 to that number\n",
    "#for eg: num=3\n",
    "#output should be 6 (since 1+2+3 is 6\n",
    "#Try implementing it with *For* as well as *While* Loop"
   ]
  },
  {
   "cell_type": "code",
   "execution_count": 3,
   "id": "5793f56c",
   "metadata": {},
   "outputs": [
    {
     "name": "stdout",
     "output_type": "stream",
     "text": [
      "21\n"
     ]
    }
   ],
   "source": [
    "num = 6\n",
    "sum=0\n",
    "for i in range(1,num+1):\n",
    "    sum += i\n",
    "print(sum)\n",
    "    "
   ]
  },
  {
   "cell_type": "code",
   "execution_count": 13,
   "id": "26b526c5",
   "metadata": {},
   "outputs": [],
   "source": [
    "# While loop"
   ]
  },
  {
   "cell_type": "code",
   "execution_count": 51,
   "id": "8785c3ec",
   "metadata": {},
   "outputs": [],
   "source": [
    "# Use a loop to display elements from a given list present at odd index positions\n",
    "# my_list = [10,20,11,22,33,44,66,76,87,98,20,30,40,50,23,45,67,89]"
   ]
  },
  {
   "cell_type": "code",
   "execution_count": 2,
   "id": "26630613",
   "metadata": {},
   "outputs": [],
   "source": [
    "my_list = [10,20,11,22,33,44,66,76,87,98,20,30,40,50,23,45,67,89]\n"
   ]
  },
  {
   "cell_type": "code",
   "execution_count": 12,
   "id": "ee18ce9b",
   "metadata": {},
   "outputs": [
    {
     "name": "stdout",
     "output_type": "stream",
     "text": [
      "20\n",
      "22\n",
      "44\n",
      "76\n",
      "98\n",
      "30\n",
      "50\n",
      "45\n",
      "89\n"
     ]
    }
   ],
   "source": [
    "x=0\n",
    "for i in my_list:\n",
    "    if x%2 !=0:\n",
    "        print(i)\n",
    "    x +=1\n",
    "    "
   ]
  },
  {
   "cell_type": "code",
   "execution_count": 39,
   "id": "20f31017",
   "metadata": {},
   "outputs": [],
   "source": [
    "#print pattern in the output as shown below, if the user input(or your variable value) is 4\n",
    "#*\n",
    "#**\n",
    "#***\n",
    "#****\n",
    "#***\n",
    "#**\n",
    "#*\n",
    "# the variable value represents the max value of stars"
   ]
  },
  {
   "cell_type": "code",
   "execution_count": 40,
   "id": "a1e89cf9",
   "metadata": {},
   "outputs": [
    {
     "name": "stdout",
     "output_type": "stream",
     "text": [
      "*\n",
      "**\n",
      "***\n",
      "****\n",
      "*****\n",
      "****\n",
      "***\n",
      "**\n",
      "*\n"
     ]
    }
   ],
   "source": [
    "star = 5\n",
    "for i in range(1,star+1):\n",
    "    print(\"*\"*i)\n",
    "for i in range(star-1,0,-1):\n",
    "    print(\"*\"*i)\n",
    "    \n"
   ]
  },
  {
   "cell_type": "code",
   "execution_count": 17,
   "id": "30c35455",
   "metadata": {},
   "outputs": [],
   "source": [
    "# concept: Factorial of 5 is 5*4*3*2*1 = 120\n",
    "# Find the factorial of any number provided by user"
   ]
  },
  {
   "cell_type": "code",
   "execution_count": 61,
   "id": "2b670195",
   "metadata": {},
   "outputs": [
    {
     "name": "stdout",
     "output_type": "stream",
     "text": [
      "1\n",
      "2\n",
      "6\n",
      "24\n",
      "120\n",
      "720\n"
     ]
    }
   ],
   "source": [
    "number = 6\n",
    "factorial = 1\n",
    "for i in range(1,number+1):\n",
    "    factorial *= i\n",
    "    print(factorial)"
   ]
  },
  {
   "cell_type": "code",
   "execution_count": 42,
   "id": "97d1b4f7",
   "metadata": {},
   "outputs": [],
   "source": [
    "# Display numbers from -10 to -1 using While and For Loop"
   ]
  },
  {
   "cell_type": "code",
   "execution_count": 43,
   "id": "7228a0cb",
   "metadata": {},
   "outputs": [
    {
     "name": "stdout",
     "output_type": "stream",
     "text": [
      "-10\n",
      "-9\n",
      "-8\n",
      "-7\n",
      "-6\n",
      "-5\n",
      "-4\n",
      "-3\n",
      "-2\n",
      "-1\n"
     ]
    }
   ],
   "source": [
    "K = -10\n",
    "while K < 0:\n",
    "    print(K)\n",
    "    K = K+1"
   ]
  },
  {
   "cell_type": "code",
   "execution_count": 1,
   "id": "361ee078",
   "metadata": {},
   "outputs": [
    {
     "name": "stdout",
     "output_type": "stream",
     "text": [
      "-10\n",
      "-9\n",
      "-8\n",
      "-7\n",
      "-6\n",
      "-5\n",
      "-4\n",
      "-3\n",
      "-2\n",
      "-1\n"
     ]
    }
   ],
   "source": [
    "for k in range(-10,0):\n",
    "    print(k)"
   ]
  },
  {
   "cell_type": "code",
   "execution_count": null,
   "id": "12e458fe",
   "metadata": {},
   "outputs": [],
   "source": []
  }
 ],
 "metadata": {
  "kernelspec": {
   "display_name": "Python 3 (ipykernel)",
   "language": "python",
   "name": "python3"
  },
  "language_info": {
   "codemirror_mode": {
    "name": "ipython",
    "version": 3
   },
   "file_extension": ".py",
   "mimetype": "text/x-python",
   "name": "python",
   "nbconvert_exporter": "python",
   "pygments_lexer": "ipython3",
   "version": "3.9.13"
  }
 },
 "nbformat": 4,
 "nbformat_minor": 5
}
