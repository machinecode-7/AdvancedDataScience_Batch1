{
 "cells": [
  {
   "cell_type": "code",
   "execution_count": 5,
   "id": "24eaeb81",
   "metadata": {},
   "outputs": [],
   "source": [
    "# Use of CONTINUE statement"
   ]
  },
  {
   "cell_type": "code",
   "execution_count": 1,
   "id": "94799774",
   "metadata": {},
   "outputs": [],
   "source": [
    "list_of_people = ['Dev','Jai','Lex','Dhyan']"
   ]
  },
  {
   "cell_type": "code",
   "execution_count": 2,
   "id": "113d6c76",
   "metadata": {},
   "outputs": [
    {
     "name": "stdout",
     "output_type": "stream",
     "text": [
      "Dev\n",
      "Jai\n"
     ]
    }
   ],
   "source": [
    "for i in list_of_people:\n",
    "    if i=='Lex':\n",
    "        break\n",
    "    print(i)"
   ]
  },
  {
   "cell_type": "code",
   "execution_count": 3,
   "id": "6792754a",
   "metadata": {},
   "outputs": [
    {
     "name": "stdout",
     "output_type": "stream",
     "text": [
      "Dev\n",
      "Jai\n",
      "Dhyan\n"
     ]
    }
   ],
   "source": [
    "for i in list_of_people:\n",
    "    if i=='Lex':\n",
    "        continue\n",
    "    print(i)"
   ]
  },
  {
   "cell_type": "code",
   "execution_count": 4,
   "id": "5303628c",
   "metadata": {},
   "outputs": [],
   "source": [
    "# Num py"
   ]
  },
  {
   "cell_type": "code",
   "execution_count": 8,
   "id": "3bc1bc27",
   "metadata": {},
   "outputs": [],
   "source": [
    "import numpy"
   ]
  },
  {
   "cell_type": "code",
   "execution_count": 9,
   "id": "bbc3bde9",
   "metadata": {},
   "outputs": [
    {
     "data": {
      "text/plain": [
       "array([1, 2, 3, 4, 5])"
      ]
     },
     "execution_count": 9,
     "metadata": {},
     "output_type": "execute_result"
    }
   ],
   "source": [
    "numpy.array([1,2,3,4,5])"
   ]
  },
  {
   "cell_type": "code",
   "execution_count": 10,
   "id": "31f96e88",
   "metadata": {},
   "outputs": [],
   "source": [
    "arr = numpy.array([1,2,3,4,5])"
   ]
  },
  {
   "cell_type": "code",
   "execution_count": 11,
   "id": "0bacc084",
   "metadata": {},
   "outputs": [
    {
     "data": {
      "text/plain": [
       "numpy.ndarray"
      ]
     },
     "execution_count": 11,
     "metadata": {},
     "output_type": "execute_result"
    }
   ],
   "source": [
    "type(arr)"
   ]
  },
  {
   "cell_type": "code",
   "execution_count": 13,
   "id": "f0905985",
   "metadata": {},
   "outputs": [
    {
     "ename": "ValueError",
     "evalue": "invalid literal for int() with base 10: 'Lex'",
     "output_type": "error",
     "traceback": [
      "\u001b[1;31m---------------------------------------------------------------------------\u001b[0m",
      "\u001b[1;31mValueError\u001b[0m                                Traceback (most recent call last)",
      "Cell \u001b[1;32mIn [13], line 2\u001b[0m\n\u001b[0;32m      1\u001b[0m \u001b[38;5;66;03m#one of the cons of array\u001b[39;00m\n\u001b[1;32m----> 2\u001b[0m \u001b[43mnumpy\u001b[49m\u001b[38;5;241;43m.\u001b[39;49m\u001b[43marray\u001b[49m\u001b[43m(\u001b[49m\u001b[43m[\u001b[49m\u001b[38;5;241;43m1\u001b[39;49m\u001b[43m,\u001b[49m\u001b[38;5;241;43m2\u001b[39;49m\u001b[43m,\u001b[49m\u001b[38;5;241;43m3\u001b[39;49m\u001b[43m,\u001b[49m\u001b[38;5;241;43m4\u001b[39;49m\u001b[43m,\u001b[49m\u001b[38;5;124;43m'\u001b[39;49m\u001b[38;5;124;43mLex\u001b[39;49m\u001b[38;5;124;43m'\u001b[39;49m\u001b[43m]\u001b[49m\u001b[43m,\u001b[49m\u001b[43m \u001b[49m\u001b[43mdtype\u001b[49m\u001b[38;5;241;43m=\u001b[39;49m\u001b[38;5;124;43m'\u001b[39;49m\u001b[38;5;124;43mi\u001b[39;49m\u001b[38;5;124;43m'\u001b[39;49m\u001b[43m)\u001b[49m\n",
      "\u001b[1;31mValueError\u001b[0m: invalid literal for int() with base 10: 'Lex'"
     ]
    }
   ],
   "source": [
    "#one of the cons of array\n",
    "numpy.array([1,2,3,4,'Lex'], dtype='i')"
   ]
  },
  {
   "cell_type": "code",
   "execution_count": 14,
   "id": "b7d5786c",
   "metadata": {},
   "outputs": [],
   "source": [
    "import numpy as np #alias, for lazy people ;)"
   ]
  },
  {
   "cell_type": "code",
   "execution_count": 15,
   "id": "20b2d8e3",
   "metadata": {},
   "outputs": [
    {
     "data": {
      "text/plain": [
       "array([1, 2, 3, 4, 5])"
      ]
     },
     "execution_count": 15,
     "metadata": {},
     "output_type": "execute_result"
    }
   ],
   "source": [
    "np.array([1,2,3,4,5])"
   ]
  },
  {
   "cell_type": "code",
   "execution_count": 16,
   "id": "989cf923",
   "metadata": {},
   "outputs": [],
   "source": [
    "# Dimensions"
   ]
  },
  {
   "cell_type": "code",
   "execution_count": 17,
   "id": "1262cba8",
   "metadata": {},
   "outputs": [
    {
     "data": {
      "text/plain": [
       "[['M', 1.8], ['A', 2], ['J', 3]]"
      ]
     },
     "execution_count": 17,
     "metadata": {},
     "output_type": "execute_result"
    }
   ],
   "source": [
    "[['M',1.8],['A',2],['J',3]]"
   ]
  },
  {
   "cell_type": "code",
   "execution_count": 18,
   "id": "fe31c860",
   "metadata": {},
   "outputs": [],
   "source": [
    "# Zero Dimension"
   ]
  },
  {
   "cell_type": "code",
   "execution_count": 21,
   "id": "1bc99f1a",
   "metadata": {},
   "outputs": [],
   "source": [
    "zero = np.array(10)"
   ]
  },
  {
   "cell_type": "code",
   "execution_count": 25,
   "id": "9581a51b",
   "metadata": {},
   "outputs": [
    {
     "data": {
      "text/plain": [
       "()"
      ]
     },
     "execution_count": 25,
     "metadata": {},
     "output_type": "execute_result"
    }
   ],
   "source": [
    "zero.shape"
   ]
  },
  {
   "cell_type": "code",
   "execution_count": 23,
   "id": "5e8018aa",
   "metadata": {},
   "outputs": [],
   "source": [
    "# One dimension"
   ]
  },
  {
   "cell_type": "code",
   "execution_count": 24,
   "id": "a50aacef",
   "metadata": {},
   "outputs": [],
   "source": [
    "one = np.array([10,11,12,13,14,15])"
   ]
  },
  {
   "cell_type": "code",
   "execution_count": 27,
   "id": "5f6cd87c",
   "metadata": {},
   "outputs": [
    {
     "data": {
      "text/plain": [
       "(6,)"
      ]
     },
     "execution_count": 27,
     "metadata": {},
     "output_type": "execute_result"
    }
   ],
   "source": [
    "one.shape"
   ]
  },
  {
   "cell_type": "code",
   "execution_count": 28,
   "id": "48e4e8d3",
   "metadata": {},
   "outputs": [],
   "source": [
    "# Two dimensional"
   ]
  },
  {
   "cell_type": "code",
   "execution_count": 31,
   "id": "c3ead757",
   "metadata": {},
   "outputs": [],
   "source": [
    "two = np.array([[10,11,12,13],[14,15,16,17]])"
   ]
  },
  {
   "cell_type": "code",
   "execution_count": 32,
   "id": "22e21780",
   "metadata": {},
   "outputs": [
    {
     "data": {
      "text/plain": [
       "(2, 4)"
      ]
     },
     "execution_count": 32,
     "metadata": {},
     "output_type": "execute_result"
    }
   ],
   "source": [
    "two.shape"
   ]
  },
  {
   "cell_type": "code",
   "execution_count": 33,
   "id": "8d254190",
   "metadata": {},
   "outputs": [],
   "source": [
    "#Three dimesnional"
   ]
  },
  {
   "cell_type": "code",
   "execution_count": 34,
   "id": "a9416b94",
   "metadata": {},
   "outputs": [],
   "source": [
    "three = np.array([ [[1,2,3],[4,5,6],[7,8,9]] ])"
   ]
  },
  {
   "cell_type": "code",
   "execution_count": 35,
   "id": "6ed817a2",
   "metadata": {},
   "outputs": [
    {
     "data": {
      "text/plain": [
       "(1, 3, 3)"
      ]
     },
     "execution_count": 35,
     "metadata": {},
     "output_type": "execute_result"
    }
   ],
   "source": [
    "three.shape\n",
    "#1: [[1,2,3],[4,5,6],[7,8,9]]\n",
    "#3: [1,2,3],[4,5,6],[7,8,9]\n",
    "#3 1,2,3"
   ]
  },
  {
   "cell_type": "code",
   "execution_count": 36,
   "id": "2ad39a09",
   "metadata": {},
   "outputs": [],
   "source": [
    "q_dimension = np.array([ [[1,2,3],[4,5,6],[7,8,9]], [[1,2,3],[4,5,6],[7,8,9]] ])"
   ]
  },
  {
   "cell_type": "code",
   "execution_count": 37,
   "id": "d5b138d5",
   "metadata": {},
   "outputs": [
    {
     "data": {
      "text/plain": [
       "(2, 3, 3)"
      ]
     },
     "execution_count": 37,
     "metadata": {},
     "output_type": "execute_result"
    }
   ],
   "source": [
    "q_dimension.shape"
   ]
  },
  {
   "cell_type": "code",
   "execution_count": 38,
   "id": "236a1d13",
   "metadata": {},
   "outputs": [],
   "source": [
    "#Operations on arrays"
   ]
  },
  {
   "cell_type": "code",
   "execution_count": 39,
   "id": "61d3f8a7",
   "metadata": {},
   "outputs": [
    {
     "data": {
      "text/plain": [
       "10"
      ]
     },
     "execution_count": 39,
     "metadata": {},
     "output_type": "execute_result"
    }
   ],
   "source": [
    "one[0]"
   ]
  },
  {
   "cell_type": "code",
   "execution_count": 40,
   "id": "10bea7ee",
   "metadata": {},
   "outputs": [
    {
     "data": {
      "text/plain": [
       "array([11, 12])"
      ]
     },
     "execution_count": 40,
     "metadata": {},
     "output_type": "execute_result"
    }
   ],
   "source": [
    "one[1:3]"
   ]
  },
  {
   "cell_type": "code",
   "execution_count": 41,
   "id": "e56592b0",
   "metadata": {},
   "outputs": [
    {
     "data": {
      "text/plain": [
       "16"
      ]
     },
     "execution_count": 41,
     "metadata": {},
     "output_type": "execute_result"
    }
   ],
   "source": [
    "two[1][2]"
   ]
  },
  {
   "cell_type": "code",
   "execution_count": 42,
   "id": "41c995ef",
   "metadata": {},
   "outputs": [
    {
     "data": {
      "text/plain": [
       "16"
      ]
     },
     "execution_count": 42,
     "metadata": {},
     "output_type": "execute_result"
    }
   ],
   "source": [
    "two[1,2]"
   ]
  },
  {
   "cell_type": "code",
   "execution_count": 43,
   "id": "b2bfb7a5",
   "metadata": {},
   "outputs": [
    {
     "data": {
      "text/plain": [
       "array([10, 11, 12, 13, 14, 15])"
      ]
     },
     "execution_count": 43,
     "metadata": {},
     "output_type": "execute_result"
    }
   ],
   "source": [
    "one"
   ]
  },
  {
   "cell_type": "code",
   "execution_count": 44,
   "id": "58bd8301",
   "metadata": {},
   "outputs": [
    {
     "data": {
      "text/plain": [
       "array([10, 12, 14])"
      ]
     },
     "execution_count": 44,
     "metadata": {},
     "output_type": "execute_result"
    }
   ],
   "source": [
    "one[::2] #double colon, when we need to skip certain elements [start:end:step]"
   ]
  },
  {
   "cell_type": "code",
   "execution_count": 45,
   "id": "e3e2a79d",
   "metadata": {},
   "outputs": [
    {
     "data": {
      "text/plain": [
       "array([10, 11, 12, 13, 14, 15])"
      ]
     },
     "execution_count": 45,
     "metadata": {},
     "output_type": "execute_result"
    }
   ],
   "source": [
    "one[:] #single colon means get all values"
   ]
  },
  {
   "cell_type": "code",
   "execution_count": 48,
   "id": "8b2936c0",
   "metadata": {},
   "outputs": [
    {
     "data": {
      "text/plain": [
       "array([10, 11])"
      ]
     },
     "execution_count": 48,
     "metadata": {},
     "output_type": "execute_result"
    }
   ],
   "source": [
    "one[:2]"
   ]
  },
  {
   "cell_type": "code",
   "execution_count": 49,
   "id": "241cb6f3",
   "metadata": {},
   "outputs": [
    {
     "data": {
      "text/plain": [
       "15"
      ]
     },
     "execution_count": 49,
     "metadata": {},
     "output_type": "execute_result"
    }
   ],
   "source": [
    "one[-1]"
   ]
  },
  {
   "cell_type": "code",
   "execution_count": 51,
   "id": "71afee06",
   "metadata": {},
   "outputs": [
    {
     "data": {
      "text/plain": [
       "(1, 3, 3)"
      ]
     },
     "execution_count": 51,
     "metadata": {},
     "output_type": "execute_result"
    }
   ],
   "source": [
    "three.shape"
   ]
  },
  {
   "cell_type": "code",
   "execution_count": 50,
   "id": "c6c12318",
   "metadata": {},
   "outputs": [
    {
     "data": {
      "text/plain": [
       "array([[[1, 2, 3],\n",
       "        [4, 5, 6],\n",
       "        [7, 8, 9]]])"
      ]
     },
     "execution_count": 50,
     "metadata": {},
     "output_type": "execute_result"
    }
   ],
   "source": [
    "three"
   ]
  },
  {
   "cell_type": "code",
   "execution_count": 52,
   "id": "4c1ef6b3",
   "metadata": {},
   "outputs": [
    {
     "data": {
      "text/plain": [
       "8"
      ]
     },
     "execution_count": 52,
     "metadata": {},
     "output_type": "execute_result"
    }
   ],
   "source": [
    "three[0,2,1]"
   ]
  },
  {
   "cell_type": "code",
   "execution_count": 53,
   "id": "ae5c793b",
   "metadata": {},
   "outputs": [
    {
     "data": {
      "text/plain": [
       "array([[1, 2, 3],\n",
       "       [4, 5, 6],\n",
       "       [7, 8, 9]])"
      ]
     },
     "execution_count": 53,
     "metadata": {},
     "output_type": "execute_result"
    }
   ],
   "source": [
    "three[0]"
   ]
  },
  {
   "cell_type": "code",
   "execution_count": 54,
   "id": "68277ebf",
   "metadata": {},
   "outputs": [
    {
     "data": {
      "text/plain": [
       "array([7, 8, 9])"
      ]
     },
     "execution_count": 54,
     "metadata": {},
     "output_type": "execute_result"
    }
   ],
   "source": [
    "three[0,2]"
   ]
  },
  {
   "cell_type": "code",
   "execution_count": 55,
   "id": "6d8c851e",
   "metadata": {},
   "outputs": [
    {
     "data": {
      "text/plain": [
       "8"
      ]
     },
     "execution_count": 55,
     "metadata": {},
     "output_type": "execute_result"
    }
   ],
   "source": [
    "three[0,2,1]"
   ]
  },
  {
   "cell_type": "code",
   "execution_count": 57,
   "id": "d0487f07",
   "metadata": {},
   "outputs": [
    {
     "data": {
      "text/plain": [
       "array([8, 9])"
      ]
     },
     "execution_count": 57,
     "metadata": {},
     "output_type": "execute_result"
    }
   ],
   "source": [
    "three[0,2,1:] #or three[0,2,1:3]  "
   ]
  },
  {
   "cell_type": "code",
   "execution_count": 58,
   "id": "0a4779ff",
   "metadata": {},
   "outputs": [
    {
     "data": {
      "text/plain": [
       "6"
      ]
     },
     "execution_count": 58,
     "metadata": {},
     "output_type": "execute_result"
    }
   ],
   "source": [
    "three[0,1,2]"
   ]
  },
  {
   "cell_type": "code",
   "execution_count": 60,
   "id": "69c632db",
   "metadata": {},
   "outputs": [],
   "source": [
    "# reshape the array"
   ]
  },
  {
   "cell_type": "code",
   "execution_count": 61,
   "id": "4124aada",
   "metadata": {},
   "outputs": [],
   "source": [
    "array1 = np.array([1,2,3,4,5,6,7,8,9,10])"
   ]
  },
  {
   "cell_type": "code",
   "execution_count": 67,
   "id": "d446aa63",
   "metadata": {},
   "outputs": [
    {
     "data": {
      "text/plain": [
       "array([[ 1,  2,  3,  4,  5],\n",
       "       [ 6,  7,  8,  9, 10]])"
      ]
     },
     "execution_count": 67,
     "metadata": {},
     "output_type": "execute_result"
    }
   ],
   "source": [
    "array1.reshape(2,5)"
   ]
  },
  {
   "cell_type": "code",
   "execution_count": 68,
   "id": "468bd728",
   "metadata": {},
   "outputs": [
    {
     "ename": "ValueError",
     "evalue": "cannot reshape array of size 10 into shape (4,4)",
     "output_type": "error",
     "traceback": [
      "\u001b[1;31m---------------------------------------------------------------------------\u001b[0m",
      "\u001b[1;31mValueError\u001b[0m                                Traceback (most recent call last)",
      "Cell \u001b[1;32mIn [68], line 1\u001b[0m\n\u001b[1;32m----> 1\u001b[0m \u001b[43marray1\u001b[49m\u001b[38;5;241;43m.\u001b[39;49m\u001b[43mreshape\u001b[49m\u001b[43m(\u001b[49m\u001b[38;5;241;43m4\u001b[39;49m\u001b[43m,\u001b[49m\u001b[38;5;241;43m4\u001b[39;49m\u001b[43m)\u001b[49m\n",
      "\u001b[1;31mValueError\u001b[0m: cannot reshape array of size 10 into shape (4,4)"
     ]
    }
   ],
   "source": [
    "array1.reshape(4,4)"
   ]
  },
  {
   "cell_type": "code",
   "execution_count": 69,
   "id": "d9bcda67",
   "metadata": {},
   "outputs": [
    {
     "data": {
      "text/plain": [
       "array([[[ 1,  2,  3,  4,  5],\n",
       "        [ 6,  7,  8,  9, 10]]])"
      ]
     },
     "execution_count": 69,
     "metadata": {},
     "output_type": "execute_result"
    }
   ],
   "source": [
    "array1.reshape(1,2,5)"
   ]
  },
  {
   "cell_type": "code",
   "execution_count": 70,
   "id": "524916a5",
   "metadata": {},
   "outputs": [],
   "source": [
    "# when you are not sure, what value should be there in place of 2nd dimension"
   ]
  },
  {
   "cell_type": "code",
   "execution_count": 71,
   "id": "8a4944c8",
   "metadata": {},
   "outputs": [
    {
     "data": {
      "text/plain": [
       "array([[ 1,  2,  3,  4,  5],\n",
       "       [ 6,  7,  8,  9, 10]])"
      ]
     },
     "execution_count": 71,
     "metadata": {},
     "output_type": "execute_result"
    }
   ],
   "source": [
    "array1.reshape(2,-1) #-1 will calculate what should be the ideal value of the 2nd dimension "
   ]
  },
  {
   "cell_type": "code",
   "execution_count": 72,
   "id": "7c896002",
   "metadata": {},
   "outputs": [],
   "source": [
    "array2 = array1.reshape(2,-1)"
   ]
  },
  {
   "cell_type": "code",
   "execution_count": 73,
   "id": "9a8b1c15",
   "metadata": {},
   "outputs": [
    {
     "data": {
      "text/plain": [
       "array([[ 1,  2,  3,  4,  5],\n",
       "       [ 6,  7,  8,  9, 10]])"
      ]
     },
     "execution_count": 73,
     "metadata": {},
     "output_type": "execute_result"
    }
   ],
   "source": [
    "array2"
   ]
  },
  {
   "cell_type": "code",
   "execution_count": 74,
   "id": "ac342d7a",
   "metadata": {},
   "outputs": [
    {
     "data": {
      "text/plain": [
       "array([ 1,  2,  3,  4,  5,  6,  7,  8,  9, 10])"
      ]
     },
     "execution_count": 74,
     "metadata": {},
     "output_type": "execute_result"
    }
   ],
   "source": [
    "array2.reshape(-1)"
   ]
  },
  {
   "cell_type": "code",
   "execution_count": 76,
   "id": "306c31c8",
   "metadata": {},
   "outputs": [],
   "source": [
    "flat_array = array2.reshape(-1)"
   ]
  },
  {
   "cell_type": "code",
   "execution_count": 75,
   "id": "901d30e1",
   "metadata": {},
   "outputs": [],
   "source": [
    "# iterating through arrays"
   ]
  },
  {
   "cell_type": "code",
   "execution_count": 77,
   "id": "4a945113",
   "metadata": {},
   "outputs": [
    {
     "name": "stdout",
     "output_type": "stream",
     "text": [
      "1\n",
      "2\n",
      "3\n",
      "4\n",
      "5\n",
      "6\n",
      "7\n",
      "8\n",
      "9\n",
      "10\n"
     ]
    }
   ],
   "source": [
    "for i in flat_array:\n",
    "    print(i)"
   ]
  },
  {
   "cell_type": "code",
   "execution_count": 78,
   "id": "63c9e612",
   "metadata": {},
   "outputs": [
    {
     "data": {
      "text/plain": [
       "array([[ 1,  2,  3,  4,  5],\n",
       "       [ 6,  7,  8,  9, 10]])"
      ]
     },
     "execution_count": 78,
     "metadata": {},
     "output_type": "execute_result"
    }
   ],
   "source": [
    "array2"
   ]
  },
  {
   "cell_type": "code",
   "execution_count": 79,
   "id": "2ae71995",
   "metadata": {},
   "outputs": [
    {
     "data": {
      "text/plain": [
       "2"
      ]
     },
     "execution_count": 79,
     "metadata": {},
     "output_type": "execute_result"
    }
   ],
   "source": [
    "len(array2)"
   ]
  },
  {
   "cell_type": "code",
   "execution_count": 80,
   "id": "e0005560",
   "metadata": {},
   "outputs": [
    {
     "name": "stdout",
     "output_type": "stream",
     "text": [
      "[1 2 3 4 5]\n",
      "[ 6  7  8  9 10]\n"
     ]
    }
   ],
   "source": [
    "for j in array2:\n",
    "    print(j)"
   ]
  },
  {
   "cell_type": "code",
   "execution_count": 81,
   "id": "e7d04b01",
   "metadata": {},
   "outputs": [],
   "source": [
    "array_with_nine_numbers = np.array([1,2,3,4,5,6,7,8,9])"
   ]
  },
  {
   "cell_type": "code",
   "execution_count": 83,
   "id": "a657965d",
   "metadata": {},
   "outputs": [],
   "source": [
    "array3 = array_with_nine_numbers.reshape(3,3)"
   ]
  },
  {
   "cell_type": "code",
   "execution_count": 84,
   "id": "27442ca2",
   "metadata": {},
   "outputs": [
    {
     "data": {
      "text/plain": [
       "array([[1, 2, 3],\n",
       "       [4, 5, 6],\n",
       "       [7, 8, 9]])"
      ]
     },
     "execution_count": 84,
     "metadata": {},
     "output_type": "execute_result"
    }
   ],
   "source": [
    "array3"
   ]
  },
  {
   "cell_type": "code",
   "execution_count": 85,
   "id": "ae9934a8",
   "metadata": {},
   "outputs": [
    {
     "name": "stdout",
     "output_type": "stream",
     "text": [
      "[1 2 3]\n",
      "[4 5 6]\n",
      "[7 8 9]\n"
     ]
    }
   ],
   "source": [
    "for l in array3:\n",
    "    print(l)"
   ]
  },
  {
   "cell_type": "code",
   "execution_count": 86,
   "id": "5cd8380d",
   "metadata": {},
   "outputs": [],
   "source": [
    "# how to access elements inside list of list/  multdimensional arrays"
   ]
  },
  {
   "cell_type": "code",
   "execution_count": 90,
   "id": "60b640c8",
   "metadata": {},
   "outputs": [
    {
     "name": "stdout",
     "output_type": "stream",
     "text": [
      "[1 2 3 4 5]\n",
      "1\n",
      "2\n",
      "3\n",
      "4\n",
      "5\n",
      "[ 6  7  8  9 10]\n",
      "6\n",
      "7\n",
      "8\n",
      "9\n",
      "10\n"
     ]
    }
   ],
   "source": [
    "for j in array2:\n",
    "    print(j) #j is nothing but a list\n",
    "    for i in j:\n",
    "        print(i)"
   ]
  },
  {
   "cell_type": "code",
   "execution_count": 91,
   "id": "241b8b80",
   "metadata": {},
   "outputs": [
    {
     "data": {
      "text/plain": [
       "(3, 3)"
      ]
     },
     "execution_count": 91,
     "metadata": {},
     "output_type": "execute_result"
    }
   ],
   "source": [
    "array3.shape"
   ]
  },
  {
   "cell_type": "code",
   "execution_count": 94,
   "id": "be799db8",
   "metadata": {},
   "outputs": [
    {
     "name": "stdout",
     "output_type": "stream",
     "text": [
      "1\n",
      "2\n",
      "3\n",
      "4\n",
      "5\n",
      "6\n",
      "7\n",
      "8\n",
      "9\n"
     ]
    }
   ],
   "source": [
    "for j in array3:\n",
    "    for i in j:\n",
    "        print(i)"
   ]
  },
  {
   "cell_type": "code",
   "execution_count": 95,
   "id": "e8af9ee8",
   "metadata": {},
   "outputs": [
    {
     "data": {
      "text/plain": [
       "(10, 10, 10)"
      ]
     },
     "execution_count": 95,
     "metadata": {},
     "output_type": "execute_result"
    }
   ],
   "source": [
    "(10)  #one dimensional - one loop\n",
    "(10,10) #two dimesnional - two loops\n",
    "(10,10,10) #three dimesnional -three loops"
   ]
  },
  {
   "cell_type": "code",
   "execution_count": 97,
   "id": "4b1e7ed2",
   "metadata": {},
   "outputs": [
    {
     "data": {
      "text/plain": [
       "array([[[1, 2, 3],\n",
       "        [4, 5, 6],\n",
       "        [7, 8, 9]]])"
      ]
     },
     "execution_count": 97,
     "metadata": {},
     "output_type": "execute_result"
    }
   ],
   "source": [
    "array3.reshape(1,3,3)"
   ]
  },
  {
   "cell_type": "markdown",
   "id": "4ca33a7b",
   "metadata": {},
   "source": [
    "## Assignment"
   ]
  },
  {
   "cell_type": "markdown",
   "id": "d06521ec",
   "metadata": {},
   "source": [
    "#### Q1"
   ]
  },
  {
   "cell_type": "code",
   "execution_count": 100,
   "id": "86fcc36f",
   "metadata": {},
   "outputs": [],
   "source": [
    "# Give me every element of array4\n",
    "#array4 = array3.reshape(1,3,3)"
   ]
  },
  {
   "cell_type": "markdown",
   "id": "1f18c6a7",
   "metadata": {},
   "source": [
    "#### Q2"
   ]
  },
  {
   "cell_type": "code",
   "execution_count": 102,
   "id": "72bc4c69",
   "metadata": {},
   "outputs": [],
   "source": [
    "#Get the common elements between list1 and list2\n",
    "#For eg: input from user=> list1= [2,3,4] list2=[3,4,5] (search on how to take list as an input from user, lets learn googling)\n",
    "#output: [3,4]\n",
    "#Hint: One might think to use *in* operator"
   ]
  },
  {
   "cell_type": "markdown",
   "id": "20e93b0c",
   "metadata": {},
   "source": [
    "#### Q3"
   ]
  },
  {
   "cell_type": "code",
   "execution_count": 103,
   "id": "c402c0aa",
   "metadata": {},
   "outputs": [],
   "source": [
    "#Try Q2 with numpy arrays instead of lists\n",
    "# Also, google if there are any shortcuts (I mean any dedicated function to find intersection between two arrays/list)"
   ]
  },
  {
   "cell_type": "markdown",
   "id": "2ac2094f",
   "metadata": {},
   "source": [
    "#### Q4"
   ]
  },
  {
   "cell_type": "code",
   "execution_count": 104,
   "id": "c8adc5ba",
   "metadata": {},
   "outputs": [],
   "source": [
    "# Remove the common elements of list1 from list2\n",
    "#For eg: input=> list1=[2,3,4] list2 = [3,4,5]\n",
    "#output: [2] #removed 3 and 4 since they were present in list2\n",
    "#hint: *in* and remove function of list\n",
    "#Try to perform the same with numpy array"
   ]
  },
  {
   "cell_type": "markdown",
   "id": "b9939755",
   "metadata": {},
   "source": [
    "#### Q5"
   ]
  },
  {
   "cell_type": "code",
   "execution_count": 105,
   "id": "bf47e43b",
   "metadata": {},
   "outputs": [],
   "source": [
    "# Add(append) elements to list1 from list2 if that element is not present already in list1.\n",
    "#(I mean add the element which is not common)\n",
    "# for eg: input => list1=[1,2,3,4,5] list2=[3,4,5,6,7]\n",
    "#output=> [1,2,3,4,5,6,7] no need to add 3,4,5 again to list 1 since it is common\n",
    "#hint: *not in* and append"
   ]
  },
  {
   "cell_type": "code",
   "execution_count": null,
   "id": "01bf7dc7",
   "metadata": {},
   "outputs": [],
   "source": []
  }
 ],
 "metadata": {
  "kernelspec": {
   "display_name": "Python 3 (ipykernel)",
   "language": "python",
   "name": "python3"
  },
  "language_info": {
   "codemirror_mode": {
    "name": "ipython",
    "version": 3
   },
   "file_extension": ".py",
   "mimetype": "text/x-python",
   "name": "python",
   "nbconvert_exporter": "python",
   "pygments_lexer": "ipython3",
   "version": "3.10.8"
  }
 },
 "nbformat": 4,
 "nbformat_minor": 5
}
