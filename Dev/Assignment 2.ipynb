{
 "cells": [
  {
   "cell_type": "code",
   "execution_count": 1,
   "id": "18ac489b",
   "metadata": {},
   "outputs": [],
   "source": [
    "#Question 1 Printing all the numbers which are divisible by 5"
   ]
  },
  {
   "cell_type": "code",
   "execution_count": 2,
   "id": "a3d2eebf",
   "metadata": {},
   "outputs": [
    {
     "name": "stdout",
     "output_type": "stream",
     "text": [
      "0\n",
      "5\n",
      "10\n",
      "15\n",
      "20\n",
      "25\n",
      "30\n",
      "35\n",
      "40\n",
      "45\n",
      "50\n",
      "55\n",
      "60\n",
      "65\n",
      "70\n",
      "75\n",
      "80\n",
      "85\n",
      "90\n",
      "95\n",
      "100\n"
     ]
    }
   ],
   "source": [
    "for i in range(101):\n",
    "    if i % 5 == 0:\n",
    "        print(i)"
   ]
  },
  {
   "cell_type": "code",
   "execution_count": 3,
   "id": "7c37b24a",
   "metadata": {},
   "outputs": [],
   "source": [
    "#Question 2: print pattern as shown below:\n",
    "*\n",
    "**\n",
    "***\n",
    "****\n",
    "*****\n",
    "# ask input from user for number of lines in the pattern, above mentioned output is for input=5"
   ]
  },
  {
   "cell_type": "code",
   "execution_count": 25,
   "id": "4f473133",
   "metadata": {
    "scrolled": true
   },
   "outputs": [
    {
     "name": "stdout",
     "output_type": "stream",
     "text": [
      "Enter the number of line you wish : 5\n",
      "*\n",
      "**\n",
      "***\n",
      "****\n",
      "*****\n"
     ]
    }
   ],
   "source": [
    "lines = int(input(\"Enter the number of line you wish : \"))\n",
    "for rows in range(1, lines+1):\n",
    "    for columns in range(1, rows+1):\n",
    "        print(\"*\", end=\"\")\n",
    "    print()"
   ]
  },
  {
   "cell_type": "code",
   "execution_count": 10,
   "id": "7621e96c",
   "metadata": {},
   "outputs": [],
   "source": [
    "#Question 3: print pattern as shown below:\n",
    "1\n",
    "22\n",
    "333\n",
    "4444\n",
    "# ask input from user for number of lines in the pattern, above mentioned output is for input=4"
   ]
  },
  {
   "cell_type": "code",
   "execution_count": 22,
   "id": "8589ff99",
   "metadata": {},
   "outputs": [
    {
     "name": "stdout",
     "output_type": "stream",
     "text": [
      "Enter number of lines you wish : 5\n",
      "1\n",
      "12\n",
      "123\n",
      "1234\n",
      "12345\n"
     ]
    }
   ],
   "source": [
    "lines = int(input(\"Enter number of lines you wish : \"))\n",
    "for rows in range(1, lines+1):\n",
    "    for columns in range(1,rows+1):\n",
    "        print(columns, end=\"\")\n",
    "    print()"
   ]
  },
  {
   "cell_type": "code",
   "execution_count": null,
   "id": "b20f41ac",
   "metadata": {},
   "outputs": [],
   "source": []
  }
 ],
 "metadata": {
  "kernelspec": {
   "display_name": "Python 3 (ipykernel)",
   "language": "python",
   "name": "python3"
  },
  "language_info": {
   "codemirror_mode": {
    "name": "ipython",
    "version": 3
   },
   "file_extension": ".py",
   "mimetype": "text/x-python",
   "name": "python",
   "nbconvert_exporter": "python",
   "pygments_lexer": "ipython3",
   "version": "3.9.13"
  }
 },
 "nbformat": 4,
 "nbformat_minor": 5
}
