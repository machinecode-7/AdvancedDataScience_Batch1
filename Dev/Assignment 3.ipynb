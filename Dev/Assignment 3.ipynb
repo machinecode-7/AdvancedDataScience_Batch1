{
 "cells": [
  {
   "cell_type": "code",
   "execution_count": 34,
   "id": "1c0a519b",
   "metadata": {},
   "outputs": [
    {
     "name": "stdout",
     "output_type": "stream",
     "text": [
      "Enter A number greater than 1: 4\n",
      "The total of numbers entered is =  10\n",
      "The user is entering the value for while loop!\n",
      "Enter a number greater than 1: 5\n",
      "the value of while loop is :  15\n"
     ]
    }
   ],
   "source": [
    "#Question 1:\n",
    "# Take a value greater than 1 from user (You can put it in any variable)\n",
    "# Print the sum of all numbers from 1 to that number\n",
    "#for eg: num=3\n",
    "#output should be 6 (since 1+2+3 is 6\n",
    "#Try implementing it with *For* as well as *While* Loop\n",
    "\n",
    "\n",
    "number = int(input(\"Enter A number greater than 1: \"))\n",
    "\n",
    "#taking a temporary variable to store the calculation and assigning a neutral number\n",
    "sum = 0\n",
    "#using for loop\n",
    "for i in range (1,number+1):\n",
    "    sum+=i\n",
    "    \n",
    "print(\"The total of numbers entered is = \",sum)\n",
    "\n",
    "#while loop\n",
    "print(\"The user is entering the value for while loop!\")\n",
    "number1 = int(input(\"Enter a number greater than 1: \"))\n",
    "\n",
    "temp = 0\n",
    "\n",
    "j=1\n",
    "\n",
    "while j<= number1:\n",
    "    temp+=j\n",
    "    j+=1#incrementing the loop\n",
    "print(\"the value of while loop is : \",temp)"
   ]
  },
  {
   "cell_type": "code",
   "execution_count": 33,
   "id": "bb8f556c",
   "metadata": {},
   "outputs": [
    {
     "name": "stdout",
     "output_type": "stream",
     "text": [
      "20\n",
      "22\n",
      "44\n",
      "76\n",
      "98\n",
      "30\n",
      "50\n",
      "45\n",
      "89\n"
     ]
    }
   ],
   "source": [
    "#question 2:\n",
    "#Use a loop to display elements from a given list present at odd index positions\n",
    "my_list = [10,20,11,22,33,44,66,76,87,98,20,30,40,50,23,45,67,89]\n",
    "for i in range(1,len(my_list),2):\n",
    "    print(my_list[i])"
   ]
  },
  {
   "cell_type": "code",
   "execution_count": 17,
   "id": "d36a38bf",
   "metadata": {},
   "outputs": [
    {
     "name": "stdout",
     "output_type": "stream",
     "text": [
      "Enter a number: 5\n",
      "*\n",
      "**\n",
      "***\n",
      "****\n",
      "*****\n",
      "****\n",
      "***\n",
      "**\n",
      "*\n"
     ]
    }
   ],
   "source": [
    "#question 3:\n",
    "num = int(input(\"Enter a number: \"))\n",
    "\n",
    "for i in range(1, num+1):\n",
    "    print('*' * i)\n",
    "\n",
    "for i in range(num-1, 0, -1):#num-1 = it will start from 1 number less than the input, it will stop at 0, and the incrementation is -1\n",
    "    print('*' * i)"
   ]
  },
  {
   "cell_type": "code",
   "execution_count": 26,
   "id": "4d53891d",
   "metadata": {},
   "outputs": [
    {
     "name": "stdout",
     "output_type": "stream",
     "text": [
      "enter a number: 3\n",
      "the factorial is  6\n"
     ]
    }
   ],
   "source": [
    "#concept: Factorial of 5 is 5*4*3*2*1 = 120\n",
    "# Find the factorial of any number provided by user\n",
    "\n",
    "number = int(input(\"enter a number: \"))\n",
    "factorial = 1\n",
    "\n",
    "for i in range(1,number+1):\n",
    "    factorial *= i\n",
    "print(\"the factorial is \",factorial)"
   ]
  },
  {
   "cell_type": "code",
   "execution_count": 28,
   "id": "0c9dd620",
   "metadata": {},
   "outputs": [
    {
     "name": "stdout",
     "output_type": "stream",
     "text": [
      "Using for loop!\n",
      "-10\n",
      "-9\n",
      "-8\n",
      "-7\n",
      "-6\n",
      "-5\n",
      "-4\n",
      "-3\n",
      "-2\n",
      "-1\n",
      "using while loop!\n",
      "-10\n",
      "-9\n",
      "-8\n",
      "-7\n",
      "-6\n",
      "-5\n",
      "-4\n",
      "-3\n",
      "-2\n",
      "-1\n"
     ]
    }
   ],
   "source": [
    "#Display numbers from -10 to -1 using While and For Loop\n",
    "print(\"Using for loop!\")\n",
    "for i in range(-10,0):\n",
    "    print(i)\n",
    "    \n",
    "print(\"using while loop!\")\n",
    "j = -10\n",
    "while j<=-1:\n",
    "    print(j)\n",
    "    j += 1"
   ]
  },
  {
   "cell_type": "code",
   "execution_count": null,
   "id": "67b4d636",
   "metadata": {},
   "outputs": [],
   "source": []
  }
 ],
 "metadata": {
  "kernelspec": {
   "display_name": "Python 3 (ipykernel)",
   "language": "python",
   "name": "python3"
  },
  "language_info": {
   "codemirror_mode": {
    "name": "ipython",
    "version": 3
   },
   "file_extension": ".py",
   "mimetype": "text/x-python",
   "name": "python",
   "nbconvert_exporter": "python",
   "pygments_lexer": "ipython3",
   "version": "3.9.13"
  }
 },
 "nbformat": 4,
 "nbformat_minor": 5
}
