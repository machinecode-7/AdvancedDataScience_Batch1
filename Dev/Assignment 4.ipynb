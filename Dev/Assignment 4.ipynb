{
 "cells": [
  {
   "cell_type": "code",
   "execution_count": 1,
   "id": "a93d7446",
   "metadata": {},
   "outputs": [
    {
     "name": "stdout",
     "output_type": "stream",
     "text": [
      "[4, 9, 16, 25, 36, 49, 64, 81]\n"
     ]
    }
   ],
   "source": [
    "#Question 1\n",
    "#Write a program that appends the square of each number to a new list.\n",
    "# Example:\n",
    "# Given x = [2,3,4,5,6,7,8]\n",
    "\n",
    "# Expected output \n",
    "# Result: [4, 9, 16, 25, 36, 49, 64]\n",
    "\n",
    "x = [2,3,4,5,6,7,8,9]\n",
    "squared_result = []#saving for later\n",
    "\n",
    "for i in x:\n",
    "    square = i**2\n",
    "    squared_result.append(square)\n",
    "    \n",
    "print(squared_result)"
   ]
  },
  {
   "cell_type": "code",
   "execution_count": 2,
   "id": "970adf08",
   "metadata": {},
   "outputs": [
    {
     "name": "stdout",
     "output_type": "stream",
     "text": [
      "Answer\n",
      "[23, 4, 20, 22, 7]\n",
      "[-6, -9, -95, -10]\n"
     ]
    }
   ],
   "source": [
    "#Question 2\n",
    "#WAP(write a program) to separate positive and negative number from a list.\n",
    "# Example:\n",
    "# Given x = [23, 4, -6, 23, -9, 21, 3, -45, -8]\n",
    "\n",
    "# Expected output \n",
    "# Result:\n",
    "# Positive: [23, 4, 23, 21, 3] Negative: [-6, -45, -9, -8]\n",
    "\n",
    "x = [23,4,-6,20,-9,22,7,-95,-10]#changed the list\n",
    "positive_list = []#saving for later\n",
    "negative_list = []#saving for later\n",
    "\n",
    "for pn in x:\n",
    "    if pn >= 0:\n",
    "        positive_list.append(pn)\n",
    "    else:\n",
    "        negative_list.append(pn)\n",
    "        \n",
    "print(\"Answer\")\n",
    "print(positive_list)\n",
    "print(negative_list)"
   ]
  },
  {
   "cell_type": "code",
   "execution_count": 4,
   "id": "c817ebb4",
   "metadata": {},
   "outputs": [
    {
     "name": "stdout",
     "output_type": "stream",
     "text": [
      "[<class 'int'>, <class 'str'>, <class 'float'>]\n"
     ]
    }
   ],
   "source": [
    "#Question 3\n",
    "# Write a program that create a list with the type of elements from a  given list.\n",
    "# Example\n",
    "# Given x = [23, ‘Python’, 23.98]\n",
    "\n",
    "# Expected output \n",
    "# Result:\n",
    "# [<class 'int'>,<class 'str'>,<class 'float'>]\n",
    "\n",
    "x = [23,'Python',23.98]\n",
    "type_list = []\n",
    "\n",
    "for data in x:\n",
    "    type_list.append(type(data))\n",
    "    \n",
    "print(type_list)"
   ]
  },
  {
   "cell_type": "code",
   "execution_count": 11,
   "id": "72d3ad39",
   "metadata": {},
   "outputs": [
    {
     "name": "stdout",
     "output_type": "stream",
     "text": [
      "012345\n",
      "01234\n",
      "0123\n",
      "012\n",
      "01\n"
     ]
    }
   ],
   "source": [
    "#Question 4\n",
    "# Print a pattern as shown below:\n",
    "# 012345\n",
    "# 01234\n",
    "# 0123\n",
    "# 012\n",
    "# 01\n",
    "\n",
    "for x in range(6,1,-1):\n",
    "    for y in range(0,x):\n",
    "        print(y,end='')\n",
    "    print()"
   ]
  },
  {
   "cell_type": "code",
   "execution_count": null,
   "id": "a2535f19",
   "metadata": {},
   "outputs": [],
   "source": []
  }
 ],
 "metadata": {
  "kernelspec": {
   "display_name": "Python 3 (ipykernel)",
   "language": "python",
   "name": "python3"
  },
  "language_info": {
   "codemirror_mode": {
    "name": "ipython",
    "version": 3
   },
   "file_extension": ".py",
   "mimetype": "text/x-python",
   "name": "python",
   "nbconvert_exporter": "python",
   "pygments_lexer": "ipython3",
   "version": "3.9.13"
  }
 },
 "nbformat": 4,
 "nbformat_minor": 5
}
