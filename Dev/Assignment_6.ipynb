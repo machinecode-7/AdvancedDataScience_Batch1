{
 "cells": [
  {
   "cell_type": "code",
   "execution_count": 2,
   "id": "747279bb",
   "metadata": {},
   "outputs": [
    {
     "name": "stdout",
     "output_type": "stream",
     "text": [
      "1\n",
      "2\n",
      "3\n",
      "4\n",
      "5\n",
      "6\n",
      "7\n",
      "8\n",
      "9\n"
     ]
    }
   ],
   "source": [
    "#Question 1\n",
    "# Give me every element of array4\n",
    "#array4 = array3.reshape(1,3,3)\n",
    "\n",
    "import numpy as np\n",
    "array3 = np.array([[1,2,3], [4,5,6], [7,8,9]])\n",
    "array4 = array3.reshape(1,3,3)\n",
    "\n",
    "# iterate through each element in each row and column of array4\n",
    "for row in array4:\n",
    "    for column in row:\n",
    "        for element in column:\n",
    "            print(element)"
   ]
  },
  {
   "cell_type": "code",
   "execution_count": 4,
   "id": "e1a229c3",
   "metadata": {},
   "outputs": [
    {
     "name": "stdout",
     "output_type": "stream",
     "text": [
      "Enter elements of list1 separated by spaces: 1 2\n",
      "Enter elements of list2 separated by spaces: 2 5\n",
      "the common of both lists is :  [2]\n"
     ]
    }
   ],
   "source": [
    "#Question 2\n",
    "#Get the common elements between list1 and list2\n",
    "#For eg: input from user=> list1= [2,3,4] list2=[3,4,5] (search on how to take list as an input from user, lets learn googling)\n",
    "#output: [3,4]\n",
    "#Hint: One might think to use *in* operator\n",
    "\n",
    "\n",
    "#taking input from user\n",
    "list1 = input(\"Enter elements of list1 separated by spaces: \").split()\n",
    "list2 = input(\"Enter elements of list2 separated by spaces: \").split()\n",
    "\n",
    "# convert input strings to lists of integers\n",
    "list1 = [int(x) for x in list1]\n",
    "list2 = [int(x) for x in list2]\n",
    "\n",
    "# finding common elements using the in operator\n",
    "common_elements = []\n",
    "for x in list1:\n",
    "    if x in list2 and x not in common_elements:\n",
    "        common_elements.append(x)\n",
    "\n",
    "print(\"the common of both lists is : \",common_elements)"
   ]
  },
  {
   "cell_type": "code",
   "execution_count": 5,
   "id": "2b76ba44",
   "metadata": {},
   "outputs": [
    {
     "name": "stdout",
     "output_type": "stream",
     "text": [
      "Enter elements of array1 separated by spaces: 1 2 3 4\n"
     ]
    },
    {
     "name": "stderr",
     "output_type": "stream",
     "text": [
      "C:\\Users\\dell\\AppData\\Local\\Temp\\ipykernel_23080\\203965050.py:8: DeprecationWarning: `np.int` is a deprecated alias for the builtin `int`. To silence this warning, use `int` by itself. Doing this will not modify any behavior and is safe. When replacing `np.int`, you may wish to use e.g. `np.int64` or `np.int32` to specify the precision. If you wish to review your current use, check the release note link for additional information.\n",
      "Deprecated in NumPy 1.20; for more details and guidance: https://numpy.org/devdocs/release/1.20.0-notes.html#deprecations\n",
      "  array1 = np.array(input(\"Enter elements of array1 separated by spaces: \").split(), dtype=np.int)\n"
     ]
    },
    {
     "name": "stdout",
     "output_type": "stream",
     "text": [
      "Enter elements of array2 separated by spaces: 1 2 5 6\n",
      "The common of both arrays is :  [1 2]\n"
     ]
    },
    {
     "name": "stderr",
     "output_type": "stream",
     "text": [
      "C:\\Users\\dell\\AppData\\Local\\Temp\\ipykernel_23080\\203965050.py:9: DeprecationWarning: `np.int` is a deprecated alias for the builtin `int`. To silence this warning, use `int` by itself. Doing this will not modify any behavior and is safe. When replacing `np.int`, you may wish to use e.g. `np.int64` or `np.int32` to specify the precision. If you wish to review your current use, check the release note link for additional information.\n",
      "Deprecated in NumPy 1.20; for more details and guidance: https://numpy.org/devdocs/release/1.20.0-notes.html#deprecations\n",
      "  array2 = np.array(input(\"Enter elements of array2 separated by spaces: \").split(), dtype=np.int)\n"
     ]
    }
   ],
   "source": [
    "#Question 3\n",
    "#Try Q2 with numpy arrays instead of lists\n",
    "# Also, google if there are any shortcuts (I mean any dedicated function to find intersection between two arrays/list)\n",
    "\n",
    "import numpy as np\n",
    "\n",
    "#taking values from user\n",
    "array1 = np.array(input(\"Enter elements of array1 separated by spaces: \").split(), dtype=np.int)\n",
    "array2 = np.array(input(\"Enter elements of array2 separated by spaces: \").split(), dtype=np.int)\n",
    "\n",
    "# finding common elements\n",
    "common_elements = np.intersect1d(array1, array2)\n",
    "\n",
    "print(\"The common of both arrays is : \",common_elements)"
   ]
  },
  {
   "cell_type": "code",
   "execution_count": 12,
   "id": "02a378b7",
   "metadata": {},
   "outputs": [
    {
     "name": "stdout",
     "output_type": "stream",
     "text": [
      "Enter elements of list1 separated by spaces: 1 2 3 4\n",
      "Enter elements of list2 separated by spaces: 2 3 4 5\n",
      "Updated list2 [5]\n",
      "Trying with array\n",
      "Enter elements of first array separated by spaces: 6 9 8 7\n",
      "Enter elements of second array separated by spaces: 8 4 5 3\n",
      "the new array is :  [6 7 9]\n"
     ]
    }
   ],
   "source": [
    "#QUestion 4\n",
    "# Remove the common elements of list1 from list2\n",
    "#For eg: input=> list1=[2,3,4] list2 = [3,4,5]\n",
    "#output: [2] #removed 3 and 4 since they were present in list2\n",
    "#hint: *in* and remove function of list\n",
    "#Try to perform the same with numpy array\n",
    "\n",
    "list1 = list(map(int, input(\"Enter elements of list1 separated by spaces: \").split()))\n",
    "list2 = list(map(int, input(\"Enter elements of list2 separated by spaces: \").split()))\n",
    "\n",
    "for element in list1:\n",
    "    if element in list2:\n",
    "        list2.remove(element)\n",
    "\n",
    "print(\"Updated list2\",list2)\n",
    "\n",
    "print(\"Trying with array\")\n",
    "\n",
    "import numpy as np\n",
    "\n",
    "array1 = np.array(input(\"Enter elements of first array separated by spaces: \").split(), dtype=int)\n",
    "array2 = np.array(input(\"Enter elements of second array separated by spaces: \").split(), dtype=int)\n",
    "\n",
    "difference = np.setdiff1d(array1, array2)\n",
    "print(\"the new array is : \",difference)\n"
   ]
  },
  {
   "cell_type": "code",
   "execution_count": 15,
   "id": "c95648e4",
   "metadata": {},
   "outputs": [
    {
     "name": "stdout",
     "output_type": "stream",
     "text": [
      "Enter elements for list1 separated by spaces: 4 5 6 7 8\n",
      "Enter elements for list2 separated by spaces:  1 1 1 2 2 \n",
      "New list is :  ['4', '5', '6', '7', '8', '1', '2']\n"
     ]
    }
   ],
   "source": [
    "#Question 3\n",
    "# Add(append) elements to list1 from list2 if that element is not present already in list1.\n",
    "#(I mean add the element which is not common)\n",
    "# for eg: input => list1=[1,2,3,4,5] list2=[3,4,5,6,7]\n",
    "#output=> [1,2,3,4,5,6,7] no need to add 3,4,5 again to list 1 since it is common\n",
    "#hint: *not in* and append\n",
    "\n",
    "list1 = input(\"Enter elements for list1 separated by spaces: \").split()\n",
    "list2 = input(\"Enter elements for list2 separated by spaces: \").split()\n",
    "\n",
    "for data in list2:\n",
    "    if data not in list1:\n",
    "        list1.append(data)\n",
    "\n",
    "print(\"New list is : \",list1)"
   ]
  },
  {
   "cell_type": "code",
   "execution_count": null,
   "id": "babdd147",
   "metadata": {},
   "outputs": [],
   "source": []
  }
 ],
 "metadata": {
  "kernelspec": {
   "display_name": "Python 3 (ipykernel)",
   "language": "python",
   "name": "python3"
  },
  "language_info": {
   "codemirror_mode": {
    "name": "ipython",
    "version": 3
   },
   "file_extension": ".py",
   "mimetype": "text/x-python",
   "name": "python",
   "nbconvert_exporter": "python",
   "pygments_lexer": "ipython3",
   "version": "3.9.13"
  }
 },
 "nbformat": 4,
 "nbformat_minor": 5
}
