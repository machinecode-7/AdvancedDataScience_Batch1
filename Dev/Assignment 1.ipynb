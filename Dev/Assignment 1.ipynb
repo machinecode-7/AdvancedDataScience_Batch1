{
 "cells": [
  {
   "cell_type": "code",
   "execution_count": 1,
   "id": "a6fb7447",
   "metadata": {},
   "outputs": [],
   "source": [
    "# Imagine you are on a date :)\n",
    "# You both mutually decide that..\n",
    "#if *bill amount* is between 75$ to 100$ the girl will pay (print \"girl\" in this case)\n",
    "#if bill amount is less than 25$ again girl will pay (print \"girl\" in this case)\n",
    "#if bill amount is more than 150$ again girl will pay (print \"girl\" in this case)\n",
    "#else the boy will pay. (print \"boy\" in this case)\n",
    "# Completely hypothetical (we know who pays, right!!)\n",
    "#Jokes apart, this question shall solidify your concept on Logical operators(And,Or) and Conditional Statements(if-elif-else)"
   ]
  },
  {
   "cell_type": "markdown",
   "id": "e15fcfc5",
   "metadata": {},
   "source": [
    "# Assignment 1"
   ]
  },
  {
   "cell_type": "code",
   "execution_count": 7,
   "id": "dd7abaa8",
   "metadata": {},
   "outputs": [
    {
     "name": "stdout",
     "output_type": "stream",
     "text": [
      "What is the bill amount? 50\n",
      "Boy is paying.\n"
     ]
    }
   ],
   "source": [
    "bill_amount = float(input(\"What is the bill amount? \"))\n",
    "if bill_amount <= 25 or bill_amount >=150:\n",
    "    print(\"Girl is paying.\")\n",
    "elif bill_amount >=75 and bill_amount <=100:\n",
    "    print(\"Bill paid by girl.\")\n",
    "else:\n",
    "    print(\"Boy is paying.\")"
   ]
  },
  {
   "cell_type": "code",
   "execution_count": null,
   "id": "280573c6",
   "metadata": {},
   "outputs": [],
   "source": []
  }
 ],
 "metadata": {
  "kernelspec": {
   "display_name": "Python 3 (ipykernel)",
   "language": "python",
   "name": "python3"
  },
  "language_info": {
   "codemirror_mode": {
    "name": "ipython",
    "version": 3
   },
   "file_extension": ".py",
   "mimetype": "text/x-python",
   "name": "python",
   "nbconvert_exporter": "python",
   "pygments_lexer": "ipython3",
   "version": "3.9.13"
  }
 },
 "nbformat": 4,
 "nbformat_minor": 5
}
