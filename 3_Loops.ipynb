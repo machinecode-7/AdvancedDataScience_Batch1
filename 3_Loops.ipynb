{
 "cells": [
  {
   "cell_type": "markdown",
   "id": "c4236270",
   "metadata": {},
   "source": [
    "### Operators"
   ]
  },
  {
   "cell_type": "markdown",
   "id": "ad836d04",
   "metadata": {},
   "source": [
    "#### Arithmetic Operators"
   ]
  },
  {
   "cell_type": "code",
   "execution_count": 2,
   "id": "0a11e4c4",
   "metadata": {},
   "outputs": [
    {
     "name": "stdout",
     "output_type": "stream",
     "text": [
      "15\n",
      "5\n",
      "50\n",
      "0\n",
      "100000\n"
     ]
    }
   ],
   "source": [
    "print(10+5)\n",
    "print(10-5)\n",
    "print(10*5)\n",
    "print(10%5)\n",
    "print(10**5)"
   ]
  },
  {
   "cell_type": "code",
   "execution_count": 5,
   "id": "70517fb4",
   "metadata": {
    "scrolled": true
   },
   "outputs": [
    {
     "name": "stdout",
     "output_type": "stream",
     "text": [
      "2.2\n"
     ]
    }
   ],
   "source": [
    "print(11/5) #divison"
   ]
  },
  {
   "cell_type": "code",
   "execution_count": 7,
   "id": "a38745a8",
   "metadata": {},
   "outputs": [
    {
     "name": "stdout",
     "output_type": "stream",
     "text": [
      "2\n"
     ]
    }
   ],
   "source": [
    "print(11//5) #floor divison"
   ]
  },
  {
   "cell_type": "markdown",
   "id": "86839adb",
   "metadata": {},
   "source": [
    "#### Assignment Operators"
   ]
  },
  {
   "cell_type": "code",
   "execution_count": 8,
   "id": "f0b889da",
   "metadata": {},
   "outputs": [],
   "source": [
    "x = 6"
   ]
  },
  {
   "cell_type": "code",
   "execution_count": 9,
   "id": "e4d95ca8",
   "metadata": {},
   "outputs": [
    {
     "name": "stdout",
     "output_type": "stream",
     "text": [
      "6\n"
     ]
    }
   ],
   "source": [
    "print(x)"
   ]
  },
  {
   "cell_type": "code",
   "execution_count": 10,
   "id": "02cbcfd6",
   "metadata": {},
   "outputs": [],
   "source": [
    "x = x + 3\n",
    "#x += 3 "
   ]
  },
  {
   "cell_type": "code",
   "execution_count": 11,
   "id": "0eafc212",
   "metadata": {},
   "outputs": [
    {
     "name": "stdout",
     "output_type": "stream",
     "text": [
      "9\n"
     ]
    }
   ],
   "source": [
    "print(x)"
   ]
  },
  {
   "cell_type": "code",
   "execution_count": 12,
   "id": "dd1e517c",
   "metadata": {},
   "outputs": [],
   "source": [
    "x = x - 3\n",
    "#x -= 3"
   ]
  },
  {
   "cell_type": "code",
   "execution_count": 13,
   "id": "3b87b840",
   "metadata": {},
   "outputs": [
    {
     "name": "stdout",
     "output_type": "stream",
     "text": [
      "6\n"
     ]
    }
   ],
   "source": [
    "print(x)"
   ]
  },
  {
   "cell_type": "markdown",
   "id": "deadd22f",
   "metadata": {},
   "source": [
    "#### Comparison Operators"
   ]
  },
  {
   "cell_type": "code",
   "execution_count": 16,
   "id": "cf16f79c",
   "metadata": {},
   "outputs": [
    {
     "data": {
      "text/plain": [
       "False"
      ]
     },
     "execution_count": 16,
     "metadata": {},
     "output_type": "execute_result"
    }
   ],
   "source": [
    "1 == 2"
   ]
  },
  {
   "cell_type": "code",
   "execution_count": 17,
   "id": "97d0ab02",
   "metadata": {},
   "outputs": [
    {
     "data": {
      "text/plain": [
       "True"
      ]
     },
     "execution_count": 17,
     "metadata": {},
     "output_type": "execute_result"
    }
   ],
   "source": [
    "2 == 2"
   ]
  },
  {
   "cell_type": "code",
   "execution_count": 18,
   "id": "31520388",
   "metadata": {},
   "outputs": [
    {
     "data": {
      "text/plain": [
       "True"
      ]
     },
     "execution_count": 18,
     "metadata": {},
     "output_type": "execute_result"
    }
   ],
   "source": [
    "3 != 2  "
   ]
  },
  {
   "cell_type": "code",
   "execution_count": 19,
   "id": "e8812923",
   "metadata": {},
   "outputs": [
    {
     "data": {
      "text/plain": [
       "False"
      ]
     },
     "execution_count": 19,
     "metadata": {},
     "output_type": "execute_result"
    }
   ],
   "source": [
    "3 != 3"
   ]
  },
  {
   "cell_type": "code",
   "execution_count": 20,
   "id": "25c71e0e",
   "metadata": {},
   "outputs": [
    {
     "data": {
      "text/plain": [
       "False"
      ]
     },
     "execution_count": 20,
     "metadata": {},
     "output_type": "execute_result"
    }
   ],
   "source": [
    "3 > 4"
   ]
  },
  {
   "cell_type": "code",
   "execution_count": 21,
   "id": "3f9582ec",
   "metadata": {},
   "outputs": [
    {
     "data": {
      "text/plain": [
       "True"
      ]
     },
     "execution_count": 21,
     "metadata": {},
     "output_type": "execute_result"
    }
   ],
   "source": [
    "4 < 6"
   ]
  },
  {
   "cell_type": "code",
   "execution_count": 22,
   "id": "0d2adc08",
   "metadata": {},
   "outputs": [
    {
     "data": {
      "text/plain": [
       "False"
      ]
     },
     "execution_count": 22,
     "metadata": {},
     "output_type": "execute_result"
    }
   ],
   "source": [
    "4 <= 3"
   ]
  },
  {
   "cell_type": "code",
   "execution_count": 23,
   "id": "b7a6943e",
   "metadata": {},
   "outputs": [
    {
     "data": {
      "text/plain": [
       "True"
      ]
     },
     "execution_count": 23,
     "metadata": {},
     "output_type": "execute_result"
    }
   ],
   "source": [
    "3 >= 1"
   ]
  },
  {
   "cell_type": "markdown",
   "id": "61f58d5b",
   "metadata": {},
   "source": [
    "#### Logical Operators"
   ]
  },
  {
   "cell_type": "code",
   "execution_count": 24,
   "id": "95f90073",
   "metadata": {},
   "outputs": [],
   "source": [
    "#And\n",
    "#Or\n",
    "#Not"
   ]
  },
  {
   "cell_type": "code",
   "execution_count": 25,
   "id": "8ed28dea",
   "metadata": {},
   "outputs": [
    {
     "data": {
      "text/plain": [
       "False"
      ]
     },
     "execution_count": 25,
     "metadata": {},
     "output_type": "execute_result"
    }
   ],
   "source": [
    "not True"
   ]
  },
  {
   "cell_type": "code",
   "execution_count": 26,
   "id": "4cbfbf5c",
   "metadata": {},
   "outputs": [
    {
     "data": {
      "text/plain": [
       "True"
      ]
     },
     "execution_count": 26,
     "metadata": {},
     "output_type": "execute_result"
    }
   ],
   "source": [
    "not False"
   ]
  },
  {
   "cell_type": "code",
   "execution_count": 27,
   "id": "137a86f5",
   "metadata": {},
   "outputs": [
    {
     "data": {
      "text/plain": [
       "True"
      ]
     },
     "execution_count": 27,
     "metadata": {},
     "output_type": "execute_result"
    }
   ],
   "source": [
    "True and True"
   ]
  },
  {
   "cell_type": "code",
   "execution_count": 28,
   "id": "8c96e72f",
   "metadata": {},
   "outputs": [
    {
     "data": {
      "text/plain": [
       "False"
      ]
     },
     "execution_count": 28,
     "metadata": {},
     "output_type": "execute_result"
    }
   ],
   "source": [
    "True and (not True)\n",
    "#True and False"
   ]
  },
  {
   "cell_type": "markdown",
   "id": "6f59948f",
   "metadata": {},
   "source": [
    "#### Membership Operators"
   ]
  },
  {
   "cell_type": "code",
   "execution_count": 29,
   "id": "44bc1a38",
   "metadata": {},
   "outputs": [
    {
     "data": {
      "text/plain": [
       "True"
      ]
     },
     "execution_count": 29,
     "metadata": {},
     "output_type": "execute_result"
    }
   ],
   "source": [
    "1 in [0,1,2,3,4,5]"
   ]
  },
  {
   "cell_type": "code",
   "execution_count": 31,
   "id": "18d6d15e",
   "metadata": {},
   "outputs": [
    {
     "data": {
      "text/plain": [
       "True"
      ]
     },
     "execution_count": 31,
     "metadata": {},
     "output_type": "execute_result"
    }
   ],
   "source": [
    "10 not in [0,1,2,3,4,5]"
   ]
  },
  {
   "cell_type": "markdown",
   "id": "1bbfd629",
   "metadata": {},
   "source": [
    "##### List of List"
   ]
  },
  {
   "cell_type": "code",
   "execution_count": 32,
   "id": "39835dda",
   "metadata": {},
   "outputs": [
    {
     "data": {
      "text/plain": [
       "[0, 'name', 0.3, True, False, 8]"
      ]
     },
     "execution_count": 32,
     "metadata": {},
     "output_type": "execute_result"
    }
   ],
   "source": [
    "[0, \"name\", 0.3, True, False, 2**3]"
   ]
  },
  {
   "cell_type": "code",
   "execution_count": 33,
   "id": "26686388",
   "metadata": {},
   "outputs": [
    {
     "data": {
      "text/plain": [
       "[1.8, 1.6, 1.4, 1.3]"
      ]
     },
     "execution_count": 33,
     "metadata": {},
     "output_type": "execute_result"
    }
   ],
   "source": [
    "[1.8, 1.6, 1.4, 1.3]\n",
    "[['name1',1.8], ['name2',1.6]]"
   ]
  },
  {
   "cell_type": "code",
   "execution_count": 41,
   "id": "5bbe1d47",
   "metadata": {},
   "outputs": [],
   "source": [
    "height_with_names = [['dhyan',1.8], ['dev',1.6],['Kinjal',1.7]]"
   ]
  },
  {
   "cell_type": "code",
   "execution_count": 38,
   "id": "3d93a0c6",
   "metadata": {},
   "outputs": [
    {
     "data": {
      "text/plain": [
       "['dhyan', 1.8]"
      ]
     },
     "execution_count": 38,
     "metadata": {},
     "output_type": "execute_result"
    }
   ],
   "source": [
    "height_with_names[0]"
   ]
  },
  {
   "cell_type": "code",
   "execution_count": 39,
   "id": "0a07964c",
   "metadata": {},
   "outputs": [
    {
     "data": {
      "text/plain": [
       "['dev', 1.6]"
      ]
     },
     "execution_count": 39,
     "metadata": {},
     "output_type": "execute_result"
    }
   ],
   "source": [
    "height_with_names[1]"
   ]
  },
  {
   "cell_type": "code",
   "execution_count": 42,
   "id": "92e57451",
   "metadata": {},
   "outputs": [
    {
     "data": {
      "text/plain": [
       "['Kinjal', 1.7]"
      ]
     },
     "execution_count": 42,
     "metadata": {},
     "output_type": "execute_result"
    }
   ],
   "source": [
    "height_with_names[2]"
   ]
  },
  {
   "cell_type": "code",
   "execution_count": 50,
   "id": "43828117",
   "metadata": {},
   "outputs": [
    {
     "data": {
      "text/plain": [
       "'dhyan'"
      ]
     },
     "execution_count": 50,
     "metadata": {},
     "output_type": "execute_result"
    }
   ],
   "source": [
    "height_with_names[0][0]"
   ]
  },
  {
   "cell_type": "code",
   "execution_count": 51,
   "id": "8ccb328c",
   "metadata": {},
   "outputs": [
    {
     "data": {
      "text/plain": [
       "1.6"
      ]
     },
     "execution_count": 51,
     "metadata": {},
     "output_type": "execute_result"
    }
   ],
   "source": [
    "height_with_names[1][1]"
   ]
  },
  {
   "cell_type": "code",
   "execution_count": 52,
   "id": "acb69d5b",
   "metadata": {},
   "outputs": [
    {
     "data": {
      "text/plain": [
       "1.7"
      ]
     },
     "execution_count": 52,
     "metadata": {},
     "output_type": "execute_result"
    }
   ],
   "source": [
    "height_with_names[2][1]"
   ]
  },
  {
   "cell_type": "markdown",
   "id": "e2a790a7",
   "metadata": {},
   "source": [
    "#### DataType in List/Collection Family"
   ]
  },
  {
   "cell_type": "markdown",
   "id": "bd364784",
   "metadata": {},
   "source": [
    "##### Tuples"
   ]
  },
  {
   "cell_type": "code",
   "execution_count": 59,
   "id": "d04e1717",
   "metadata": {},
   "outputs": [],
   "source": [
    "my_tuple = ('apple','banana','litchi')"
   ]
  },
  {
   "cell_type": "code",
   "execution_count": 60,
   "id": "edd9416e",
   "metadata": {},
   "outputs": [
    {
     "name": "stdout",
     "output_type": "stream",
     "text": [
      "('apple', 'banana', 'litchi')\n"
     ]
    }
   ],
   "source": [
    "print(my_tuple)"
   ]
  },
  {
   "cell_type": "code",
   "execution_count": 61,
   "id": "90b5923c",
   "metadata": {},
   "outputs": [
    {
     "data": {
      "text/plain": [
       "'apple'"
      ]
     },
     "execution_count": 61,
     "metadata": {},
     "output_type": "execute_result"
    }
   ],
   "source": [
    "my_tuple[0] #similar to lists"
   ]
  },
  {
   "cell_type": "code",
   "execution_count": 62,
   "id": "807b979a",
   "metadata": {},
   "outputs": [
    {
     "ename": "TypeError",
     "evalue": "'tuple' object does not support item assignment",
     "output_type": "error",
     "traceback": [
      "\u001b[1;31m---------------------------------------------------------------------------\u001b[0m",
      "\u001b[1;31mTypeError\u001b[0m                                 Traceback (most recent call last)",
      "Cell \u001b[1;32mIn [62], line 1\u001b[0m\n\u001b[1;32m----> 1\u001b[0m \u001b[43mmy_tuple\u001b[49m\u001b[43m[\u001b[49m\u001b[38;5;241;43m0\u001b[39;49m\u001b[43m]\u001b[49m \u001b[38;5;241m=\u001b[39m \u001b[38;5;124m'\u001b[39m\u001b[38;5;124mchickoo\u001b[39m\u001b[38;5;124m'\u001b[39m \u001b[38;5;66;03m#different from list, since list supports replacing a value at any index\u001b[39;00m\n",
      "\u001b[1;31mTypeError\u001b[0m: 'tuple' object does not support item assignment"
     ]
    }
   ],
   "source": [
    "my_tuple[0] = 'chickoo' #different from list, since list supports replacing a value at any index"
   ]
  },
  {
   "cell_type": "code",
   "execution_count": 63,
   "id": "3e05848e",
   "metadata": {},
   "outputs": [
    {
     "data": {
      "text/plain": [
       "3"
      ]
     },
     "execution_count": 63,
     "metadata": {},
     "output_type": "execute_result"
    }
   ],
   "source": [
    "len(my_tuple)"
   ]
  },
  {
   "cell_type": "code",
   "execution_count": 64,
   "id": "101da56f",
   "metadata": {},
   "outputs": [
    {
     "data": {
      "text/plain": [
       "tuple"
      ]
     },
     "execution_count": 64,
     "metadata": {},
     "output_type": "execute_result"
    }
   ],
   "source": [
    "type(my_tuple)"
   ]
  },
  {
   "cell_type": "markdown",
   "id": "d4e7e189",
   "metadata": {},
   "source": [
    "##### Sets"
   ]
  },
  {
   "cell_type": "code",
   "execution_count": 66,
   "id": "ea395e67",
   "metadata": {},
   "outputs": [],
   "source": [
    "my_list = ['apple','banana','litchi', 'apple']"
   ]
  },
  {
   "cell_type": "code",
   "execution_count": 68,
   "id": "56a4e2d6",
   "metadata": {},
   "outputs": [],
   "source": [
    "my_set = set(my_list)"
   ]
  },
  {
   "cell_type": "code",
   "execution_count": 69,
   "id": "19686cb3",
   "metadata": {},
   "outputs": [
    {
     "ename": "TypeError",
     "evalue": "'set' object is not subscriptable",
     "output_type": "error",
     "traceback": [
      "\u001b[1;31m---------------------------------------------------------------------------\u001b[0m",
      "\u001b[1;31mTypeError\u001b[0m                                 Traceback (most recent call last)",
      "Cell \u001b[1;32mIn [69], line 1\u001b[0m\n\u001b[1;32m----> 1\u001b[0m \u001b[43mmy_set\u001b[49m\u001b[43m[\u001b[49m\u001b[38;5;241;43m0\u001b[39;49m\u001b[43m]\u001b[49m\n",
      "\u001b[1;31mTypeError\u001b[0m: 'set' object is not subscriptable"
     ]
    }
   ],
   "source": [
    "my_set[0]"
   ]
  },
  {
   "cell_type": "code",
   "execution_count": 70,
   "id": "0e8ebe7d",
   "metadata": {},
   "outputs": [],
   "source": [
    "my_set2 = {'apple','banana','litchi'}"
   ]
  },
  {
   "cell_type": "code",
   "execution_count": 71,
   "id": "ee0d491d",
   "metadata": {},
   "outputs": [
    {
     "data": {
      "text/plain": [
       "set"
      ]
     },
     "execution_count": 71,
     "metadata": {},
     "output_type": "execute_result"
    }
   ],
   "source": [
    "type(my_set2)"
   ]
  },
  {
   "cell_type": "code",
   "execution_count": 82,
   "id": "4cdc9d89",
   "metadata": {},
   "outputs": [],
   "source": [
    "set3 = {\"name\",1,0.7 ,False} "
   ]
  },
  {
   "cell_type": "code",
   "execution_count": 83,
   "id": "752f8436",
   "metadata": {},
   "outputs": [
    {
     "data": {
      "text/plain": [
       "{0.7, 1, False, 'name'}"
      ]
     },
     "execution_count": 83,
     "metadata": {},
     "output_type": "execute_result"
    }
   ],
   "source": [
    "set3"
   ]
  },
  {
   "cell_type": "code",
   "execution_count": 84,
   "id": "2c5884f1",
   "metadata": {},
   "outputs": [
    {
     "data": {
      "text/plain": [
       "{1}"
      ]
     },
     "execution_count": 84,
     "metadata": {},
     "output_type": "execute_result"
    }
   ],
   "source": [
    "{1, True} #False = 0, True = 1\n",
    "#{1, 1} # set will remove duplicates"
   ]
  },
  {
   "cell_type": "markdown",
   "id": "6c6d0cff",
   "metadata": {},
   "source": [
    "#### Dictionaries"
   ]
  },
  {
   "cell_type": "code",
   "execution_count": 100,
   "id": "8b9ac791",
   "metadata": {},
   "outputs": [],
   "source": [
    "my_dictionary = {\n",
    "    \"dhyan\": \"1.8\",\n",
    "    \"dev\": 1.6,\n",
    "    \"kinjal\": 1.5\n",
    "}  \n",
    "#Lower case and Upper case are two different values\n",
    "#'DHYAN' == 'dhyan'"
   ]
  },
  {
   "cell_type": "code",
   "execution_count": 98,
   "id": "9397290e",
   "metadata": {},
   "outputs": [
    {
     "data": {
      "text/plain": [
       "'1.8'"
      ]
     },
     "execution_count": 98,
     "metadata": {},
     "output_type": "execute_result"
    }
   ],
   "source": [
    "my_dictionary[\"dhyan\"]"
   ]
  },
  {
   "cell_type": "code",
   "execution_count": 99,
   "id": "136945d7",
   "metadata": {},
   "outputs": [
    {
     "name": "stdout",
     "output_type": "stream",
     "text": [
      "{'dhyan': '1.8', 'dev': 1.6, 'kinjal': 1.5}\n"
     ]
    }
   ],
   "source": [
    "print(my_dictionary)"
   ]
  },
  {
   "cell_type": "code",
   "execution_count": 87,
   "id": "5470491d",
   "metadata": {},
   "outputs": [
    {
     "data": {
      "text/plain": [
       "dict"
      ]
     },
     "execution_count": 87,
     "metadata": {},
     "output_type": "execute_result"
    }
   ],
   "source": [
    "type(my_dictionary)"
   ]
  },
  {
   "cell_type": "code",
   "execution_count": 106,
   "id": "a56bebe3",
   "metadata": {},
   "outputs": [],
   "source": [
    "#Summary:\n",
    "# List: Ordered, Changeable, allows duplicates, does not have keys\n",
    "# Tuple: ordered, Unchangeable, allows duplicates, does not have keys\n",
    "# Set: Unordered, unchangeable, no duplicates, does not have keys\n",
    "#dictionary: ordered, changeable, no duplicates*, it has keys "
   ]
  },
  {
   "cell_type": "code",
   "execution_count": 107,
   "id": "06e33448",
   "metadata": {},
   "outputs": [
    {
     "name": "stdout",
     "output_type": "stream",
     "text": [
      "1\n",
      "2\n",
      "3\n",
      "4\n",
      "5\n",
      "6\n",
      "7\n",
      "8\n",
      "9\n",
      "10\n",
      "11\n",
      "12\n",
      "13\n",
      "14\n",
      "15\n",
      "16\n",
      "17\n",
      "18\n",
      "19\n",
      "20\n",
      "21\n",
      "22\n",
      "23\n",
      "24\n",
      "25\n",
      "26\n",
      "27\n",
      "28\n",
      "29\n",
      "30\n",
      "31\n",
      "32\n",
      "33\n",
      "34\n",
      "35\n",
      "36\n",
      "37\n",
      "38\n",
      "39\n",
      "40\n",
      "41\n",
      "42\n",
      "43\n",
      "44\n",
      "45\n"
     ]
    }
   ],
   "source": [
    "# For loops Extended\n",
    "for i in range(1,101):\n",
    "    print(i)\n",
    "    if i == 45:\n",
    "        break"
   ]
  },
  {
   "cell_type": "code",
   "execution_count": 108,
   "id": "d1ec4985",
   "metadata": {},
   "outputs": [
    {
     "name": "stdout",
     "output_type": "stream",
     "text": [
      "dhyan\n",
      "dev\n",
      "laksh\n",
      "jay\n"
     ]
    }
   ],
   "source": [
    "for j in ['dhyan','dev','laksh','jay','himanshu','kinjal','shukan']:\n",
    "    print(j)\n",
    "    if j == 'jay':\n",
    "        break"
   ]
  },
  {
   "cell_type": "markdown",
   "id": "0174a9c5",
   "metadata": {},
   "source": [
    "##### While Loop"
   ]
  },
  {
   "cell_type": "code",
   "execution_count": 116,
   "id": "0cfd4e53",
   "metadata": {},
   "outputs": [
    {
     "name": "stdout",
     "output_type": "stream",
     "text": [
      "1\n",
      "2\n",
      "3\n",
      "4\n",
      "5\n",
      "6\n"
     ]
    }
   ],
   "source": [
    "k = 1\n",
    "while k <= 6:\n",
    "    print(k)\n",
    "    k = k + 1 # Most important step"
   ]
  },
  {
   "cell_type": "code",
   "execution_count": 110,
   "id": "769eb0b0",
   "metadata": {},
   "outputs": [
    {
     "data": {
      "text/plain": [
       "False"
      ]
     },
     "execution_count": 110,
     "metadata": {},
     "output_type": "execute_result"
    }
   ],
   "source": [
    "6 < 6"
   ]
  },
  {
   "cell_type": "code",
   "execution_count": 115,
   "id": "54f1a7fd",
   "metadata": {},
   "outputs": [
    {
     "name": "stdout",
     "output_type": "stream",
     "text": [
      "1\n",
      "2\n",
      "3\n"
     ]
    }
   ],
   "source": [
    "k = 1\n",
    "while k < 6:\n",
    "    print(k)\n",
    "    if k == 3:\n",
    "        break\n",
    "    k = k + 1 # Most important step"
   ]
  },
  {
   "cell_type": "markdown",
   "id": "0bd740f6",
   "metadata": {},
   "source": [
    "# 3_Assignment"
   ]
  },
  {
   "cell_type": "markdown",
   "id": "5d223c05",
   "metadata": {},
   "source": [
    "### Q1"
   ]
  },
  {
   "cell_type": "code",
   "execution_count": 2,
   "id": "9c63e1e1",
   "metadata": {},
   "outputs": [],
   "source": [
    "# Take a value greater than 1 from user (You can put it in any variable)\n",
    "# Print the sum of all numbers from 1 to that number\n",
    "#for eg: num=3\n",
    "#output should be 6 (since 1+2+3 is 6\n",
    "#Try implementing it with *For* as well as *While* Loop"
   ]
  },
  {
   "cell_type": "markdown",
   "id": "92d49912",
   "metadata": {},
   "source": [
    "### Q2"
   ]
  },
  {
   "cell_type": "code",
   "execution_count": 3,
   "id": "0c5acc2e",
   "metadata": {},
   "outputs": [],
   "source": [
    "# Use a loop to display elements from a given list present at odd index positions\n",
    "# my_list = [10,20,11,22,33,44,66,76,87,98,20,30,40,50,23,45,67,89]"
   ]
  },
  {
   "cell_type": "markdown",
   "id": "f4ed962e",
   "metadata": {},
   "source": [
    "### Q3"
   ]
  },
  {
   "cell_type": "code",
   "execution_count": null,
   "id": "884bdca1",
   "metadata": {},
   "outputs": [],
   "source": [
    "#print pattern in the output as shown below, if the user input(or your variable value) is 4\n",
    "*\n",
    "**\n",
    "***\n",
    "****\n",
    "***\n",
    "**\n",
    "*\n",
    "# the variable value represents the max value of stars"
   ]
  },
  {
   "cell_type": "markdown",
   "id": "cfc737e0",
   "metadata": {},
   "source": [
    "### Q4"
   ]
  },
  {
   "cell_type": "code",
   "execution_count": 5,
   "id": "11bb9f7d",
   "metadata": {},
   "outputs": [],
   "source": [
    "# concept: Factorial of 5 is 5*4*3*2*1 = 120\n",
    "# Find the factorial of any number provided by user"
   ]
  },
  {
   "cell_type": "markdown",
   "id": "83721853",
   "metadata": {},
   "source": [
    "### Q5"
   ]
  },
  {
   "cell_type": "code",
   "execution_count": 6,
   "id": "be75b484",
   "metadata": {},
   "outputs": [],
   "source": [
    "# Display numbers from -10 to -1 using While and For Loop"
   ]
  }
 ],
 "metadata": {
  "kernelspec": {
   "display_name": "Python 3 (ipykernel)",
   "language": "python",
   "name": "python3"
  },
  "language_info": {
   "codemirror_mode": {
    "name": "ipython",
    "version": 3
   },
   "file_extension": ".py",
   "mimetype": "text/x-python",
   "name": "python",
   "nbconvert_exporter": "python",
   "pygments_lexer": "ipython3",
   "version": "3.10.8"
  }
 },
 "nbformat": 4,
 "nbformat_minor": 5
}
