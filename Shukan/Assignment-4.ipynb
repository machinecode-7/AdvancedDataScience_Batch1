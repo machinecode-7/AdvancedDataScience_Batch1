{
 "cells": [
  {
   "cell_type": "code",
   "execution_count": 4,
   "id": "be81bba6",
   "metadata": {},
   "outputs": [
    {
     "name": "stdout",
     "output_type": "stream",
     "text": [
      "updated list: [4, 16, 36, 64, 100, 144, 196, 256, 324, 400]\n"
     ]
    }
   ],
   "source": [
    "# Write a program that appends the square of each number to a new list.\n",
    "# Example:\n",
    "# Given x = [2,3,4,5,6,7,8]\n",
    "\n",
    "my_list = [2,4,6,8,10,12,14,16,18,20]\n",
    "new_list=[]\n",
    "\n",
    "for i in my_list:\n",
    "    new_list.append(i*i)\n",
    "    \n",
    "print(\"updated list:\",new_list)"
   ]
  },
  {
   "cell_type": "code",
   "execution_count": 8,
   "id": "4e370a0c",
   "metadata": {},
   "outputs": [
    {
     "name": "stdout",
     "output_type": "stream",
     "text": [
      "Negative Number: [-6, -9, -45, -8]\n",
      "Positive Numbers: [23, 4, 23, 21, 3]\n"
     ]
    }
   ],
   "source": [
    "# WAP(write a program) to separate positive and negative number from a list.\n",
    "# Example:\n",
    "# Given x = [23, 4, -6, 23, -9, 21, 3, -45, -8]\n",
    "\n",
    "x = [23, 4, -6, 23, -9, 21, 3, -45, -8]\n",
    "y=[]\n",
    "z=[]\n",
    "\n",
    "for i in x:\n",
    "    if i <= 0:\n",
    "        y.append(i)\n",
    "        \n",
    "print(\"Negative Number:\",y)\n",
    "\n",
    "\n",
    "for i in x:\n",
    "    if i >= 0:\n",
    "        z.append(i)\n",
    "        \n",
    "print(\"Positive Numbers:\",z)"
   ]
  },
  {
   "cell_type": "code",
   "execution_count": 10,
   "id": "26cdb458",
   "metadata": {},
   "outputs": [
    {
     "name": "stdout",
     "output_type": "stream",
     "text": [
      "type of elements:  [<class 'int'>, <class 'str'>, <class 'float'>]\n"
     ]
    }
   ],
   "source": [
    "# Write a program that create a list with the type of elements from a  given list.\n",
    "# Example\n",
    "# Given x = [23, ‘Python’, 23.98]\n",
    "\n",
    "x = [23, 'Python', 23.98]\n",
    "y = []\n",
    "\n",
    "for i in x:\n",
    "    y.append(type(i))\n",
    "    \n",
    "print(\"type of elements: \",y)"
   ]
  },
  {
   "cell_type": "code",
   "execution_count": 12,
   "id": "66b9735e",
   "metadata": {},
   "outputs": [
    {
     "name": "stdout",
     "output_type": "stream",
     "text": [
      "Enter any number:6\n",
      "012345\n",
      "01234\n",
      "0123\n",
      "012\n",
      "01\n",
      "0\n"
     ]
    }
   ],
   "source": [
    "# Print a pattern as shown below:\n",
    "\n",
    "num = int(input(\"Enter any number:\"))\n",
    "\n",
    "for i in range(num,0,-1):\n",
    "    for j in range(0,i,+1):\n",
    "        \n",
    "        print (j,end='')\n",
    "    print()"
   ]
  }
 ],
 "metadata": {
  "kernelspec": {
   "display_name": "Python 3 (ipykernel)",
   "language": "python",
   "name": "python3"
  },
  "language_info": {
   "codemirror_mode": {
    "name": "ipython",
    "version": 3
   },
   "file_extension": ".py",
   "mimetype": "text/x-python",
   "name": "python",
   "nbconvert_exporter": "python",
   "pygments_lexer": "ipython3",
   "version": "3.10.9"
  }
 },
 "nbformat": 4,
 "nbformat_minor": 5
}
