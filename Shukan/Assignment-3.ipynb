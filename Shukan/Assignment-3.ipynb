{
 "cells": [
  {
   "cell_type": "code",
   "execution_count": 17,
   "id": "441ad44a",
   "metadata": {},
   "outputs": [
    {
     "name": "stdout",
     "output_type": "stream",
     "text": [
      "Enter any number:3\n",
      "6\n"
     ]
    }
   ],
   "source": [
    "####Question1:   \n",
    "####      Take a value greater than 1 from user (You can put it in any variable)\n",
    "####      Print the sum of all numbers from 1 to that number\n",
    "\n",
    "num = int(input(\"Enter any number:\"))\n",
    "\n",
    "if num <=1:\n",
    "    print(\"enter greater than 1 number\")\n",
    "    \n",
    "else:\n",
    "    print (sum(range(num+1)))"
   ]
  },
  {
   "cell_type": "code",
   "execution_count": 27,
   "id": "2a67ca55",
   "metadata": {},
   "outputs": [
    {
     "name": "stdout",
     "output_type": "stream",
     "text": [
      "11\n",
      "33\n",
      "87\n",
      "23\n",
      "45\n",
      "67\n",
      "89\n"
     ]
    }
   ],
   "source": [
    "####Question2: \n",
    "#Use a loop to display elements from a given list present at odd index positions\n",
    "\n",
    "my_list = [10,20,11,22,33,44,66,76,87,98,20,30,40,50,23,45,67,89]\n",
    "\n",
    "for i in my_list:\n",
    "    if i % 2 != 0:\n",
    "        print(i)"
   ]
  },
  {
   "cell_type": "code",
   "execution_count": 24,
   "id": "d81f1612",
   "metadata": {},
   "outputs": [
    {
     "name": "stdout",
     "output_type": "stream",
     "text": [
      "Enter any number:5\n",
      "*\n",
      "**\n",
      "***\n",
      "****\n",
      "*****\n",
      "***\n",
      "**\n",
      "*\n",
      "\n"
     ]
    }
   ],
   "source": [
    "#####Question3: \n",
    "#print pattern in the output as shown below, if the user input(or your variable value) is 4\n",
    "\n",
    "num = int(input(\"Enter any number:\"))\n",
    "\n",
    "for i in range(1, num + 1):\n",
    "    for j in range(1,i+1):\n",
    "        \n",
    "        print (\"*\",end='')\n",
    "    print()\n",
    "    \n",
    "\n",
    "for i in range(1, num):\n",
    "    for j in range(i,num-1):\n",
    "        \n",
    "        print (\"*\",end='')\n",
    "    print()"
   ]
  },
  {
   "cell_type": "code",
   "execution_count": 2,
   "id": "e630e7c9",
   "metadata": {},
   "outputs": [
    {
     "name": "stdout",
     "output_type": "stream",
     "text": [
      "enter any number:5\n",
      "120\n"
     ]
    }
   ],
   "source": [
    "######Question4: \n",
    "#concept: Factorial of 5 is 5*4*3*2*1 = 120\n",
    "# Find the factorial of any number provided by user\n",
    "\n",
    "total=1\n",
    "\n",
    "num = int(input(\"enter any number:\"))\n",
    "\n",
    "for i in range(1,num+1):\n",
    "    total = total *i\n",
    "    \n",
    "print(total)"
   ]
  },
  {
   "cell_type": "code",
   "execution_count": 10,
   "id": "67b3c7d1",
   "metadata": {},
   "outputs": [
    {
     "name": "stdout",
     "output_type": "stream",
     "text": [
      "-10\n",
      "-9\n",
      "-8\n",
      "-7\n",
      "-6\n",
      "-5\n",
      "-4\n",
      "-3\n",
      "-2\n",
      "-1\n"
     ]
    }
   ],
   "source": [
    "######Question5:\n",
    "# Display numbers from -10 to -1 using While and For Loop\n",
    "\n",
    "for i in range(-10, -1+1):\n",
    "    \n",
    "    print(i)"
   ]
  }
 ],
 "metadata": {
  "kernelspec": {
   "display_name": "Python 3 (ipykernel)",
   "language": "python",
   "name": "python3"
  },
  "language_info": {
   "codemirror_mode": {
    "name": "ipython",
    "version": 3
   },
   "file_extension": ".py",
   "mimetype": "text/x-python",
   "name": "python",
   "nbconvert_exporter": "python",
   "pygments_lexer": "ipython3",
   "version": "3.10.9"
  }
 },
 "nbformat": 4,
 "nbformat_minor": 5
}
