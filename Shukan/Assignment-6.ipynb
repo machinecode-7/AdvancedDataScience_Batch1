{
 "cells": [
  {
   "cell_type": "code",
   "execution_count": 1,
   "id": "bb182f8c",
   "metadata": {},
   "outputs": [
    {
     "name": "stdout",
     "output_type": "stream",
     "text": [
      "enter first element of list 1:2\n",
      "enter second element of list 1:3\n",
      "enter third element of list 1:4\n",
      "element of list1: [2, 3, 4]\n",
      "enter first element of list 2:3\n",
      "enter second element of list 2:4\n",
      "enter third element of list 2:5\n",
      "element of list2: [3, 4, 5]\n",
      "new list:  [3, 4]\n"
     ]
    }
   ],
   "source": [
    "#questiion-2\n",
    "\n",
    "\n",
    "list1=[]\n",
    "list2=[]\n",
    "list3=[]\n",
    "\n",
    "a = int(input(\"enter first element of list 1:\"))\n",
    "b = int(input(\"enter second element of list 1:\"))\n",
    "x = int(input(\"enter third element of list 1:\"))\n",
    "\n",
    "list1.append(a)\n",
    "list1.append(b)\n",
    "list1.append(x)\n",
    "\n",
    "print(\"element of list1:\",list1)\n",
    "\n",
    "\n",
    "\n",
    "c = int(input(\"enter first element of list 2:\"))\n",
    "d = int(input(\"enter second element of list 2:\"))\n",
    "y = int(input(\"enter third element of list 2:\"))\n",
    "\n",
    "list2.append(c)\n",
    "list2.append(d)\n",
    "list2.append(y)\n",
    "\n",
    "print(\"element of list2:\",list2)\n",
    "for p in list1:\n",
    "    if p in list2:\n",
    "        list3.append(p)\n",
    "print(\"new list: \",list3)"
   ]
  },
  {
   "cell_type": "code",
   "execution_count": 4,
   "id": "bd881e12",
   "metadata": {},
   "outputs": [
    {
     "name": "stdout",
     "output_type": "stream",
     "text": [
      "enter first element of list 1:2\n",
      "enter second element of list 1:3\n",
      "enter third element of list 1:4\n",
      "element of list1: [2, 3, 4]\n",
      "enter first element of list 2:3\n",
      "enter second element of list 2:4\n",
      "enter third element of list 2:5\n",
      "new list:  [3 4]\n"
     ]
    }
   ],
   "source": [
    "#question-3\n",
    "\n",
    "\n",
    "import numpy as np\n",
    "\n",
    "\n",
    "list1=[]\n",
    "list2=[]\n",
    "\n",
    "\n",
    "a = int(input(\"enter first element of list 1:\"))\n",
    "b = int(input(\"enter second element of list 1:\"))\n",
    "x = int(input(\"enter third element of list 1:\"))\n",
    "\n",
    "list1.append(a)\n",
    "list1.append(b)\n",
    "list1.append(x)\n",
    "\n",
    "print(\"element of list1:\",list1)\n",
    "\n",
    "\n",
    "\n",
    "c = int(input(\"enter first element of list 2:\"))\n",
    "d = int(input(\"enter second element of list 2:\"))\n",
    "y = int(input(\"enter third element of list 2:\"))\n",
    "\n",
    "list2.append(c)\n",
    "list2.append(d)\n",
    "list2.append(y)\n",
    "\n",
    "\n",
    "\n",
    "\n",
    "\n",
    "\n",
    "arr1= np.array(list1)\n",
    "arr2= np.array(list2)\n",
    "\n",
    "print(\"new list: \",np.intersect1d(arr1, arr2))"
   ]
  },
  {
   "cell_type": "code",
   "execution_count": 5,
   "id": "a9de85e8",
   "metadata": {},
   "outputs": [
    {
     "name": "stdout",
     "output_type": "stream",
     "text": [
      "enter first element of list 1:2\n",
      "enter second element of list 1:3\n",
      "enter third element of list 1:4\n",
      "element of list1: [2, 3, 4]\n",
      "enter first element of list 2:3\n",
      "enter second element of list 2:4\n",
      "enter third element of list 2:5\n",
      "element of list2: [3, 4, 5]\n",
      "new list:  [2]\n"
     ]
    }
   ],
   "source": [
    "#questiion-4 (using list)\n",
    "\n",
    "\n",
    "list1=[]\n",
    "list2=[]\n",
    "list3=[]\n",
    "\n",
    "a = int(input(\"enter first element of list 1:\"))\n",
    "b = int(input(\"enter second element of list 1:\"))\n",
    "x = int(input(\"enter third element of list 1:\"))\n",
    "\n",
    "list1.append(a)\n",
    "list1.append(b)\n",
    "list1.append(x)\n",
    "\n",
    "print(\"element of list1:\",list1)\n",
    "\n",
    "\n",
    "\n",
    "c = int(input(\"enter first element of list 2:\"))\n",
    "d = int(input(\"enter second element of list 2:\"))\n",
    "y = int(input(\"enter third element of list 2:\"))\n",
    "\n",
    "list2.append(c)\n",
    "list2.append(d)\n",
    "list2.append(y)\n",
    "\n",
    "print(\"element of list2:\",list2)\n",
    "for p in list1:\n",
    "    if p not in list2:\n",
    "        list3.append(p)\n",
    "print(\"new list: \",list3)\n",
    "\n",
    "\n",
    "\n"
   ]
  },
  {
   "cell_type": "code",
   "execution_count": 9,
   "id": "8fc57976",
   "metadata": {},
   "outputs": [
    {
     "name": "stdout",
     "output_type": "stream",
     "text": [
      "enter first element of list 1:2\n",
      "enter second element of list 1:3\n",
      "enter third element of list 1:4\n",
      "enter first element of list 2:3\n",
      "enter second element of list 2:4\n",
      "enter third element of list 2:5\n",
      "new list:  [2 5]\n"
     ]
    }
   ],
   "source": [
    "#(using numpy array)\n",
    "\n",
    "a = int(input(\"enter first element of list 1:\"))\n",
    "b = int(input(\"enter second element of list 1:\"))\n",
    "x = int(input(\"enter third element of list 1:\"))\n",
    "\n",
    "list1.append(a)\n",
    "list1.append(b)\n",
    "list1.append(x)\n",
    "\n",
    "\n",
    "c = int(input(\"enter first element of list 2:\"))\n",
    "d = int(input(\"enter second element of list 2:\"))\n",
    "y = int(input(\"enter third element of list 2:\"))\n",
    "\n",
    "list2.append(c)\n",
    "list2.append(d)\n",
    "list2.append(y)\n",
    "\n",
    "\n",
    "\n",
    "\n",
    "arr1= np.array(list1)\n",
    "arr2= np.array(list2)\n",
    "\n",
    "print(\"new list: \",np.setxor1d(arr1, arr2))"
   ]
  },
  {
   "cell_type": "code",
   "execution_count": 7,
   "id": "3520d6cb",
   "metadata": {},
   "outputs": [
    {
     "name": "stdout",
     "output_type": "stream",
     "text": [
      "[1, 2, 3, 4, 5, 6, 7]\n"
     ]
    }
   ],
   "source": [
    "#Question -5\n",
    "\n",
    "import numpy as np\n",
    "\n",
    "list1=[1,2,3,4,5]\n",
    "list2=[3,4,5,6,7]\n",
    "list3=[]\n",
    "\n",
    "for i in list1:\n",
    "     list3.append(i)\n",
    "        \n",
    "for i in list2:\n",
    "    list3.append(i)\n",
    "        \n",
    "set1  = set(list3)\n",
    "\n",
    "\n",
    "final = list(set1)\n",
    "\n",
    "print(final)"
   ]
  }
 ],
 "metadata": {
  "kernelspec": {
   "display_name": "Python 3 (ipykernel)",
   "language": "python",
   "name": "python3"
  },
  "language_info": {
   "codemirror_mode": {
    "name": "ipython",
    "version": 3
   },
   "file_extension": ".py",
   "mimetype": "text/x-python",
   "name": "python",
   "nbconvert_exporter": "python",
   "pygments_lexer": "ipython3",
   "version": "3.10.9"
  }
 },
 "nbformat": 4,
 "nbformat_minor": 5
}
