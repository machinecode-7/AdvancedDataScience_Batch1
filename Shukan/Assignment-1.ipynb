{
 "cells": [
  {
   "cell_type": "code",
   "execution_count": 6,
   "id": "aefcac63",
   "metadata": {},
   "outputs": [
    {
     "name": "stdout",
     "output_type": "stream",
     "text": [
      "Enter Amount12\n",
      "Girl will pay\n"
     ]
    }
   ],
   "source": [
    "#####Assignment-1\n",
    "\n",
    "Bill = int(input(\"Enter Amount\"))\n",
    "\n",
    "if Bill>150:\n",
    "    print(\"Girl will pay\")\n",
    "    \n",
    "elif Bill<25:\n",
    "    print(\"Girl will pay\")\n",
    "    \n",
    "elif Bill>75 and Bill<100:\n",
    "    print(\"Girl will pay\")\n",
    "    \n",
    "else:\n",
    "    print(\"Boy will pay\")"
   ]
  }
 ],
 "metadata": {
  "kernelspec": {
   "display_name": "Python 3 (ipykernel)",
   "language": "python",
   "name": "python3"
  },
  "language_info": {
   "codemirror_mode": {
    "name": "ipython",
    "version": 3
   },
   "file_extension": ".py",
   "mimetype": "text/x-python",
   "name": "python",
   "nbconvert_exporter": "python",
   "pygments_lexer": "ipython3",
   "version": "3.10.9"
  }
 },
 "nbformat": 4,
 "nbformat_minor": 5
}
