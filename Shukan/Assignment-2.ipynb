{
 "cells": [
  {
   "cell_type": "code",
   "execution_count": 17,
   "id": "cf328be7",
   "metadata": {},
   "outputs": [
    {
     "name": "stdout",
     "output_type": "stream",
     "text": [
      "0\n",
      "5\n",
      "10\n",
      "15\n",
      "20\n",
      "25\n",
      "30\n",
      "35\n",
      "40\n",
      "45\n",
      "50\n",
      "55\n",
      "60\n",
      "65\n",
      "70\n",
      "75\n",
      "80\n",
      "85\n",
      "90\n",
      "95\n",
      "100\n"
     ]
    }
   ],
   "source": [
    "######Question: In the range of 0 to 100, print the numbers that are divisible(remainder=0) by 5\n",
    "\n",
    "for x in range(0, 100+1):\n",
    "    if x%5==0:\n",
    "        print(x)"
   ]
  },
  {
   "cell_type": "code",
   "execution_count": 18,
   "id": "ec842aef",
   "metadata": {},
   "outputs": [
    {
     "name": "stdout",
     "output_type": "stream",
     "text": [
      "Enter any number:8\n",
      "*\n",
      "**\n",
      "***\n",
      "****\n",
      "*****\n",
      "******\n",
      "*******\n",
      "********\n"
     ]
    }
   ],
   "source": [
    "# Question: print pattern\n",
    "# ask input from user for number of lines in the pattern\n",
    "\n",
    "num = int(input(\"Enter any number:\"))\n",
    "\n",
    "for i in range(1, num + 1):\n",
    "    for j in range(1,i+1):\n",
    "        \n",
    "        print (\"*\",end='')\n",
    "    print()"
   ]
  },
  {
   "cell_type": "code",
   "execution_count": 19,
   "id": "34460f69",
   "metadata": {},
   "outputs": [
    {
     "name": "stdout",
     "output_type": "stream",
     "text": [
      "Enter any number:5\n",
      "1\n",
      "22\n",
      "333\n",
      "4444\n",
      "55555\n"
     ]
    }
   ],
   "source": [
    "# Question: print pattern\n",
    "# ask input from user for number of lines in the pattern (numbers)\n",
    "\n",
    "num = int(input(\"Enter any number:\"))\n",
    "\n",
    "for i in range(0, num):\n",
    "    for j in range(i,-1,-1):\n",
    "        \n",
    "        print (i+1,end='')\n",
    "    print()"
   ]
  }
 ],
 "metadata": {
  "kernelspec": {
   "display_name": "Python 3 (ipykernel)",
   "language": "python",
   "name": "python3"
  },
  "language_info": {
   "codemirror_mode": {
    "name": "ipython",
    "version": 3
   },
   "file_extension": ".py",
   "mimetype": "text/x-python",
   "name": "python",
   "nbconvert_exporter": "python",
   "pygments_lexer": "ipython3",
   "version": "3.10.9"
  }
 },
 "nbformat": 4,
 "nbformat_minor": 5
}
