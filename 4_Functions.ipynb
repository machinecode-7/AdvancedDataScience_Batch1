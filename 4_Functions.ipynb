{
 "cells": [
  {
   "cell_type": "markdown",
   "id": "30e4621d",
   "metadata": {},
   "source": [
    "#### User Input"
   ]
  },
  {
   "cell_type": "code",
   "execution_count": 3,
   "id": "e32c6d85",
   "metadata": {},
   "outputs": [
    {
     "name": "stdout",
     "output_type": "stream",
     "text": [
      "What's your age: 24\n"
     ]
    }
   ],
   "source": [
    "age = input(\"What's your age: \" )"
   ]
  },
  {
   "cell_type": "code",
   "execution_count": 4,
   "id": "e6d594da",
   "metadata": {},
   "outputs": [
    {
     "name": "stdout",
     "output_type": "stream",
     "text": [
      "24\n"
     ]
    }
   ],
   "source": [
    "print(age)"
   ]
  },
  {
   "cell_type": "code",
   "execution_count": 5,
   "id": "900e3555",
   "metadata": {},
   "outputs": [
    {
     "data": {
      "text/plain": [
       "str"
      ]
     },
     "execution_count": 5,
     "metadata": {},
     "output_type": "execute_result"
    }
   ],
   "source": [
    "type(age)"
   ]
  },
  {
   "cell_type": "code",
   "execution_count": 7,
   "id": "1ae0cb3c",
   "metadata": {},
   "outputs": [
    {
     "name": "stdout",
     "output_type": "stream",
     "text": [
      "What's your age: 25\n"
     ]
    }
   ],
   "source": [
    "age = int(input(\"What's your age: \" ))"
   ]
  },
  {
   "cell_type": "code",
   "execution_count": 8,
   "id": "9920ee69",
   "metadata": {},
   "outputs": [
    {
     "data": {
      "text/plain": [
       "int"
      ]
     },
     "execution_count": 8,
     "metadata": {},
     "output_type": "execute_result"
    }
   ],
   "source": [
    "type(age)"
   ]
  },
  {
   "cell_type": "code",
   "execution_count": 43,
   "id": "441c9113",
   "metadata": {},
   "outputs": [
    {
     "name": "stdout",
     "output_type": "stream",
     "text": [
      "D\n",
      "h\n",
      "y\n",
      "a\n",
      "n\n"
     ]
    }
   ],
   "source": [
    "for y in 'Dhyan':\n",
    "    print(y)"
   ]
  },
  {
   "cell_type": "markdown",
   "id": "42628ab7",
   "metadata": {},
   "source": [
    "#### Nested For Loop"
   ]
  },
  {
   "cell_type": "code",
   "execution_count": 12,
   "id": "8a40fb15",
   "metadata": {},
   "outputs": [
    {
     "name": "stdout",
     "output_type": "stream",
     "text": [
      "1\n",
      "2\n",
      "3\n",
      "4\n"
     ]
    }
   ],
   "source": [
    "#single loop\n",
    "for i in range(1,5):\n",
    "    print(i)"
   ]
  },
  {
   "cell_type": "code",
   "execution_count": 29,
   "id": "7d02b46d",
   "metadata": {},
   "outputs": [
    {
     "name": "stdout",
     "output_type": "stream",
     "text": [
      "1 1\n",
      "1 2\n",
      "1 3\n",
      "1 4\n",
      "2 1\n",
      "2 2\n",
      "2 3\n",
      "2 4\n",
      "3 1\n",
      "3 2\n",
      "3 3\n",
      "3 4\n",
      "4 1\n",
      "4 2\n",
      "4 3\n",
      "4 4\n"
     ]
    }
   ],
   "source": [
    "#nested loop with second loop range static\n",
    "for i in range(1,5):\n",
    "    for j in range(1,5):\n",
    "        print(i,j)"
   ]
  },
  {
   "cell_type": "code",
   "execution_count": 24,
   "id": "175908e9",
   "metadata": {},
   "outputs": [
    {
     "name": "stdout",
     "output_type": "stream",
     "text": [
      "1 1 1\n",
      "1 1 2\n",
      "1 1 3\n",
      "1 1 4\n",
      "\n",
      "\n",
      "1 2 1\n",
      "1 2 2\n",
      "1 2 3\n",
      "1 2 4\n",
      "\n",
      "\n",
      "1 3 1\n",
      "1 3 2\n",
      "1 3 3\n",
      "1 3 4\n",
      "\n",
      "\n",
      "1 4 1\n",
      "1 4 2\n",
      "1 4 3\n",
      "1 4 4\n",
      "\n",
      "\n",
      "2 1 1\n",
      "2 1 2\n",
      "2 1 3\n",
      "2 1 4\n",
      "\n",
      "\n",
      "2 2 1\n",
      "2 2 2\n",
      "2 2 3\n",
      "2 2 4\n",
      "\n",
      "\n",
      "2 3 1\n",
      "2 3 2\n",
      "2 3 3\n",
      "2 3 4\n",
      "\n",
      "\n",
      "2 4 1\n",
      "2 4 2\n",
      "2 4 3\n",
      "2 4 4\n",
      "\n",
      "\n",
      "3 1 1\n",
      "3 1 2\n",
      "3 1 3\n",
      "3 1 4\n",
      "\n",
      "\n",
      "3 2 1\n",
      "3 2 2\n",
      "3 2 3\n",
      "3 2 4\n",
      "\n",
      "\n",
      "3 3 1\n",
      "3 3 2\n",
      "3 3 3\n",
      "3 3 4\n",
      "\n",
      "\n",
      "3 4 1\n",
      "3 4 2\n",
      "3 4 3\n",
      "3 4 4\n",
      "\n",
      "\n",
      "4 1 1\n",
      "4 1 2\n",
      "4 1 3\n",
      "4 1 4\n",
      "\n",
      "\n",
      "4 2 1\n",
      "4 2 2\n",
      "4 2 3\n",
      "4 2 4\n",
      "\n",
      "\n",
      "4 3 1\n",
      "4 3 2\n",
      "4 3 3\n",
      "4 3 4\n",
      "\n",
      "\n",
      "4 4 1\n",
      "4 4 2\n",
      "4 4 3\n",
      "4 4 4\n",
      "\n",
      "\n"
     ]
    }
   ],
   "source": [
    "#nested loop\n",
    "for i in range(1,5):\n",
    "    for j in range(1,5):\n",
    "        for k in range(1,5):\n",
    "            print(i,j,k)\n",
    "        print('\\n')"
   ]
  },
  {
   "cell_type": "code",
   "execution_count": 30,
   "id": "b30e6601",
   "metadata": {},
   "outputs": [
    {
     "name": "stdout",
     "output_type": "stream",
     "text": [
      "0\n",
      "\n",
      "01\n",
      "\n",
      "012\n",
      "\n",
      "0123\n",
      "\n"
     ]
    }
   ],
   "source": [
    "#Range is dynamic in second loop\n",
    "for i in range(1,5): #(i=1, j=0), (i=2,j=0,1), (i=3, j=0,1,2), (i=4, j=0,1,2,3)\n",
    "    for j in range(0,i):\n",
    "        print(j, end='')\n",
    "    print('\\n')"
   ]
  },
  {
   "cell_type": "code",
   "execution_count": 25,
   "id": "19bb1e6d",
   "metadata": {},
   "outputs": [
    {
     "name": "stdout",
     "output_type": "stream",
     "text": [
      "0\n"
     ]
    }
   ],
   "source": [
    "for j in range(0,1):\n",
    "    print(j)"
   ]
  },
  {
   "cell_type": "code",
   "execution_count": 26,
   "id": "d683d605",
   "metadata": {},
   "outputs": [
    {
     "name": "stdout",
     "output_type": "stream",
     "text": [
      "0\n",
      "1\n"
     ]
    }
   ],
   "source": [
    "for j in range(0,2):\n",
    "    print(j)"
   ]
  },
  {
   "cell_type": "code",
   "execution_count": 27,
   "id": "f3893f4b",
   "metadata": {},
   "outputs": [
    {
     "name": "stdout",
     "output_type": "stream",
     "text": [
      "0\n",
      "1\n",
      "2\n"
     ]
    }
   ],
   "source": [
    "for j in range(0,3):\n",
    "    print(j)"
   ]
  },
  {
   "cell_type": "code",
   "execution_count": 32,
   "id": "708345a0",
   "metadata": {},
   "outputs": [
    {
     "name": "stdout",
     "output_type": "stream",
     "text": [
      "Hello Everyone, \n",
      " Good Evening\n"
     ]
    }
   ],
   "source": [
    "print('Hello Everyone, \\n Good Evening')"
   ]
  },
  {
   "cell_type": "markdown",
   "id": "c794d0ac",
   "metadata": {},
   "source": [
    "###  Debugging in Jupyter notebook"
   ]
  },
  {
   "cell_type": "code",
   "execution_count": 34,
   "id": "7f7f1f29",
   "metadata": {},
   "outputs": [],
   "source": [
    "from IPython.core.debugger import set_trace"
   ]
  },
  {
   "cell_type": "code",
   "execution_count": 35,
   "id": "ebe4690e",
   "metadata": {},
   "outputs": [
    {
     "name": "stdout",
     "output_type": "stream",
     "text": [
      "1 1 1\n",
      "> \u001b[1;32mc:\\users\\mt40028\\appdata\\local\\temp\\ipykernel_10524\\3279623808.py\u001b[0m(3)\u001b[0;36m<module>\u001b[1;34m()\u001b[0m\n",
      "\n",
      "ipdb> continue\n",
      "1 1 2\n",
      "> \u001b[1;32mc:\\users\\mt40028\\appdata\\local\\temp\\ipykernel_10524\\3279623808.py\u001b[0m(3)\u001b[0;36m<module>\u001b[1;34m()\u001b[0m\n",
      "\n",
      "ipdb> help\n",
      "\n",
      "Documented commands (type help <topic>):\n",
      "========================================\n",
      "EOF    commands   enable    ll        pp       s                until \n",
      "a      condition  exit      longlist  psource  skip_hidden      up    \n",
      "alias  cont       h         n         q        skip_predicates  w     \n",
      "args   context    help      next      quit     source           whatis\n",
      "b      continue   ignore    p         r        step             where \n",
      "break  d          interact  pdef      restart  tbreak         \n",
      "bt     debug      j         pdoc      return   u              \n",
      "c      disable    jump      pfile     retval   unalias        \n",
      "cl     display    l         pinfo     run      undisplay      \n",
      "clear  down       list      pinfo2    rv       unt            \n",
      "\n",
      "Miscellaneous help topics:\n",
      "==========================\n",
      "exec  pdb\n",
      "\n",
      "--KeyboardInterrupt--\n",
      "\n",
      "KeyboardInterrupt: Interrupted by user\n",
      "1 1 3\n",
      "> \u001b[1;32mc:\\users\\mt40028\\appdata\\local\\temp\\ipykernel_10524\\3279623808.py\u001b[0m(3)\u001b[0;36m<module>\u001b[1;34m()\u001b[0m\n",
      "\n",
      "ipdb> quit\n"
     ]
    }
   ],
   "source": [
    "for i in range(1,5):\n",
    "    for j in range(1,5):\n",
    "        for k in range(1,5):\n",
    "            print(i,j,k)\n",
    "            set_trace()"
   ]
  },
  {
   "cell_type": "markdown",
   "id": "0b37e801",
   "metadata": {},
   "source": [
    "## Functions"
   ]
  },
  {
   "cell_type": "code",
   "execution_count": 42,
   "id": "1525817b",
   "metadata": {},
   "outputs": [
    {
     "name": "stdout",
     "output_type": "stream",
     "text": [
      "5\n",
      "3\n"
     ]
    }
   ],
   "source": [
    "# len is one of the inbuilt function in python\n",
    "print(len([1,2,3,4,5]))\n",
    "print(len('Jay'))"
   ]
  },
  {
   "cell_type": "code",
   "execution_count": 44,
   "id": "5a4121c6",
   "metadata": {},
   "outputs": [],
   "source": [
    "def hello():\n",
    "    print('Hello Himanshu')"
   ]
  },
  {
   "cell_type": "code",
   "execution_count": 45,
   "id": "6db3035c",
   "metadata": {},
   "outputs": [
    {
     "name": "stdout",
     "output_type": "stream",
     "text": [
      "Hello Himanshu\n"
     ]
    }
   ],
   "source": [
    "hello()"
   ]
  },
  {
   "cell_type": "code",
   "execution_count": 47,
   "id": "6b4f87cf",
   "metadata": {},
   "outputs": [],
   "source": [
    "def greeting(name):\n",
    "    print ('Hello ' + name)"
   ]
  },
  {
   "cell_type": "code",
   "execution_count": 48,
   "id": "785127aa",
   "metadata": {},
   "outputs": [
    {
     "name": "stdout",
     "output_type": "stream",
     "text": [
      "Hello Shukan\n"
     ]
    }
   ],
   "source": [
    "greeting('Shukan')"
   ]
  },
  {
   "cell_type": "code",
   "execution_count": 49,
   "id": "e8363885",
   "metadata": {},
   "outputs": [
    {
     "ename": "TypeError",
     "evalue": "greeting() missing 1 required positional argument: 'name'",
     "output_type": "error",
     "traceback": [
      "\u001b[1;31m---------------------------------------------------------------------------\u001b[0m",
      "\u001b[1;31mTypeError\u001b[0m                                 Traceback (most recent call last)",
      "Cell \u001b[1;32mIn [49], line 1\u001b[0m\n\u001b[1;32m----> 1\u001b[0m \u001b[43mgreeting\u001b[49m\u001b[43m(\u001b[49m\u001b[43m)\u001b[49m\n",
      "\u001b[1;31mTypeError\u001b[0m: greeting() missing 1 required positional argument: 'name'"
     ]
    }
   ],
   "source": [
    "greeting()"
   ]
  },
  {
   "cell_type": "code",
   "execution_count": 50,
   "id": "f63e22c5",
   "metadata": {},
   "outputs": [],
   "source": [
    "def default_greeting(name='Kinjal'):\n",
    "    print ('Hello ' + name)"
   ]
  },
  {
   "cell_type": "code",
   "execution_count": 51,
   "id": "e1e833d9",
   "metadata": {},
   "outputs": [
    {
     "name": "stdout",
     "output_type": "stream",
     "text": [
      "Hello Jigar\n"
     ]
    }
   ],
   "source": [
    "default_greeting('Jigar')"
   ]
  },
  {
   "cell_type": "code",
   "execution_count": 52,
   "id": "7e0d2e64",
   "metadata": {},
   "outputs": [
    {
     "name": "stdout",
     "output_type": "stream",
     "text": [
      "Hello Kinjal\n"
     ]
    }
   ],
   "source": [
    "default_greeting()"
   ]
  },
  {
   "cell_type": "code",
   "execution_count": 53,
   "id": "ca00f2f2",
   "metadata": {},
   "outputs": [],
   "source": [
    "def default_greeting_return(name='Kinjal'):\n",
    "    return 'Hello ' + name"
   ]
  },
  {
   "cell_type": "code",
   "execution_count": 54,
   "id": "181127bc",
   "metadata": {},
   "outputs": [
    {
     "data": {
      "text/plain": [
       "'Hello Miral'"
      ]
     },
     "execution_count": 54,
     "metadata": {},
     "output_type": "execute_result"
    }
   ],
   "source": [
    "default_greeting_return('Miral')"
   ]
  },
  {
   "cell_type": "code",
   "execution_count": null,
   "id": "86788765",
   "metadata": {},
   "outputs": [],
   "source": [
    "#def : Keyword, which help python to knopw that you are lookinng to create a function\n",
    "#parameter: input for that function\n",
    "#argument: value which will be assigned to the parameter (which is basically your input for the function)\n",
    "#def function_name(parameter):\n",
    "    #\"your code\"\n",
    "\n",
    "#function_name(argument)"
   ]
  },
  {
   "cell_type": "code",
   "execution_count": 55,
   "id": "fcd770d4",
   "metadata": {},
   "outputs": [
    {
     "name": "stdout",
     "output_type": "stream",
     "text": [
      "1\n",
      "2\n",
      "4\n"
     ]
    }
   ],
   "source": [
    "for z in [1,2,4]:\n",
    "    print(z)"
   ]
  },
  {
   "cell_type": "code",
   "execution_count": 56,
   "id": "f1d82c18",
   "metadata": {},
   "outputs": [],
   "source": [
    "def my_length(my_list):\n",
    "    count = 0\n",
    "    for i in my_list:\n",
    "        count = count + 1\n",
    "    print(count)"
   ]
  },
  {
   "cell_type": "code",
   "execution_count": 60,
   "id": "d53777d4",
   "metadata": {},
   "outputs": [
    {
     "name": "stdout",
     "output_type": "stream",
     "text": [
      "17\n"
     ]
    }
   ],
   "source": [
    "my_length([1,2,100,3,4,5,6,7,8,9,0,'Jigar',1,2,34,5,6])"
   ]
  },
  {
   "cell_type": "code",
   "execution_count": 65,
   "id": "94b12a6b",
   "metadata": {},
   "outputs": [
    {
     "name": "stdout",
     "output_type": "stream",
     "text": [
      "before: 0\n",
      "after 1\n",
      "\n",
      "\n",
      "before: 1\n",
      "after 2\n",
      "\n",
      "\n",
      "before: 2\n",
      "after 3\n",
      "\n",
      "\n"
     ]
    }
   ],
   "source": [
    "counter = 0\n",
    "for i in [1,2,300]:\n",
    "    print('before:',counter)\n",
    "    counter = counter + 1\n",
    "    print('after',counter)\n",
    "    print('\\n')\n"
   ]
  },
  {
   "cell_type": "code",
   "execution_count": 71,
   "id": "7721e819",
   "metadata": {},
   "outputs": [],
   "source": [
    "def form(name, age, height=1.8, weight=100):\n",
    "    print('name:'+ name)\n",
    "    print('age:', age)"
   ]
  },
  {
   "cell_type": "code",
   "execution_count": 72,
   "id": "5af62d5a",
   "metadata": {},
   "outputs": [
    {
     "name": "stdout",
     "output_type": "stream",
     "text": [
      "name:Jigar\n",
      "age: 20\n"
     ]
    }
   ],
   "source": [
    "form('Jigar',20)"
   ]
  },
  {
   "cell_type": "code",
   "execution_count": 74,
   "id": "6f010f2b",
   "metadata": {},
   "outputs": [
    {
     "name": "stdout",
     "output_type": "stream",
     "text": [
      "name:Jigar\n",
      "age: 20\n"
     ]
    }
   ],
   "source": [
    "form(age=20,name='Jigar')"
   ]
  },
  {
   "cell_type": "code",
   "execution_count": 75,
   "id": "89cf3524",
   "metadata": {},
   "outputs": [
    {
     "ename": "SyntaxError",
     "evalue": "positional argument follows keyword argument (3402744955.py, line 1)",
     "output_type": "error",
     "traceback": [
      "\u001b[1;36m  Cell \u001b[1;32mIn [75], line 1\u001b[1;36m\u001b[0m\n\u001b[1;33m    form(age=20,'Jigar')\u001b[0m\n\u001b[1;37m                       ^\u001b[0m\n\u001b[1;31mSyntaxError\u001b[0m\u001b[1;31m:\u001b[0m positional argument follows keyword argument\n"
     ]
    }
   ],
   "source": [
    "form(age=20,'Jigar') #confusing for python"
   ]
  },
  {
   "cell_type": "markdown",
   "id": "dfb6c819",
   "metadata": {},
   "source": [
    "## Assignment 4"
   ]
  },
  {
   "cell_type": "markdown",
   "id": "9e9ddac4",
   "metadata": {},
   "source": [
    "#### Q1"
   ]
  },
  {
   "cell_type": "code",
   "execution_count": null,
   "id": "78eefdac",
   "metadata": {},
   "outputs": [],
   "source": [
    "# Write a program that appends the square of each number to a new list.\n",
    "# Example:\n",
    "# Given x = [2,3,4,5,6,7,8]\n",
    "\n",
    "# Expected output \n",
    "# Result: [4, 9, 16, 25, 36, 49, 64]"
   ]
  },
  {
   "cell_type": "markdown",
   "id": "267dece9",
   "metadata": {},
   "source": [
    "#### Q2"
   ]
  },
  {
   "cell_type": "code",
   "execution_count": 76,
   "id": "abdd5941",
   "metadata": {},
   "outputs": [],
   "source": [
    "# WAP(write a program) to separate positive and negative number from a list.\n",
    "# Example:\n",
    "# Given x = [23, 4, -6, 23, -9, 21, 3, -45, -8]\n",
    "\n",
    "# Expected output \n",
    "# Result:\n",
    "# Positive: [23, 4, 23, 21, 3] Negative: [-6, -45, -9, -8]"
   ]
  },
  {
   "cell_type": "markdown",
   "id": "9542537c",
   "metadata": {},
   "source": [
    "#### Q3"
   ]
  },
  {
   "cell_type": "code",
   "execution_count": 77,
   "id": "76fb4f1c",
   "metadata": {},
   "outputs": [],
   "source": [
    "# Write a program that create a list with the type of elements from a  given list.\n",
    "# Example\n",
    "# Given x = [23, ‘Python’, 23.98]\n",
    "\n",
    "# Expected output \n",
    "# Result:\n",
    "# [<class 'int'>,<class 'str'>,<class 'float'>]"
   ]
  },
  {
   "cell_type": "markdown",
   "id": "c2e20882",
   "metadata": {},
   "source": [
    "#### Q4"
   ]
  },
  {
   "cell_type": "code",
   "execution_count": 78,
   "id": "012d47d7",
   "metadata": {},
   "outputs": [],
   "source": [
    "# Print a pattern as shown below:\n",
    "# 012345\n",
    "# 01234\n",
    "# 0123\n",
    "# 012\n",
    "# 01"
   ]
  }
 ],
 "metadata": {
  "kernelspec": {
   "display_name": "Python 3 (ipykernel)",
   "language": "python",
   "name": "python3"
  },
  "language_info": {
   "codemirror_mode": {
    "name": "ipython",
    "version": 3
   },
   "file_extension": ".py",
   "mimetype": "text/x-python",
   "name": "python",
   "nbconvert_exporter": "python",
   "pygments_lexer": "ipython3",
   "version": "3.10.8"
  }
 },
 "nbformat": 4,
 "nbformat_minor": 5
}
