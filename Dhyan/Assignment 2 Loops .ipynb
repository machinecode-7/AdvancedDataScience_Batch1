{
 "cells": [
  {
   "cell_type": "code",
   "execution_count": 1,
   "id": "8a7f5efb-dac4-42ec-9e8e-8fd231bb2e2e",
   "metadata": {},
   "outputs": [],
   "source": [
    "# concept before getting to question:\n",
    "# How to get remainder when we are dividing any number by another\n",
    "# for example: if we divide 12 by 3 the remainder is 0, and if we divide 7 by 2 the remainder is 1\n",
    "# python has special operator to get remainders: \"%\"\n",
    "#lets see some example"
   ]
  },
  {
   "cell_type": "code",
   "execution_count": 6,
   "id": "686645c5-e4d0-40ba-a7e3-97cf8efc6c86",
   "metadata": {},
   "outputs": [
    {
     "name": "stdout",
     "output_type": "stream",
     "text": [
      "0\n",
      "5\n",
      "10\n",
      "15\n",
      "20\n",
      "25\n",
      "30\n",
      "35\n",
      "40\n",
      "45\n",
      "50\n",
      "55\n",
      "60\n",
      "65\n",
      "70\n",
      "75\n",
      "80\n",
      "85\n",
      "90\n",
      "95\n",
      "100\n"
     ]
    }
   ],
   "source": [
    "for i in range(101):\n",
    "    if i % 5 == 0:\n",
    "        print(i)"
   ]
  },
  {
   "cell_type": "code",
   "execution_count": 2,
   "id": "6a446e5b-2f49-4760-ac56-d7813ef44303",
   "metadata": {
    "collapsed": true,
    "jupyter": {
     "outputs_hidden": true
    },
    "tags": []
   },
   "outputs": [
    {
     "ename": "SyntaxError",
     "evalue": "invalid syntax (1932845912.py, line 2)",
     "output_type": "error",
     "traceback": [
      "\u001b[0;36m  File \u001b[0;32m\"/var/folders/gq/pqxhzr4s42n4p98ynt7hmnhc0000gn/T/ipykernel_82771/1932845912.py\"\u001b[0;36m, line \u001b[0;32m2\u001b[0m\n\u001b[0;31m    *\u001b[0m\n\u001b[0m     ^\u001b[0m\n\u001b[0;31mSyntaxError\u001b[0m\u001b[0;31m:\u001b[0m invalid syntax\n"
     ]
    }
   ],
   "source": [
    "# print pattern as shown below:\n",
    "*\n",
    "**\n",
    "***\n",
    "****\n",
    "*****\n",
    "# ask input from user for number of lines in the pattern, above mentioned output is for input=5\n",
    "#your code:"
   ]
  },
  {
   "cell_type": "code",
   "execution_count": 4,
   "id": "ba9c61b5-f164-4709-b4d0-a8f20ab0c482",
   "metadata": {},
   "outputs": [
    {
     "name": "stdout",
     "output_type": "stream",
     "text": [
      "*\n",
      "**\n",
      "***\n",
      "****\n",
      "*****\n"
     ]
    }
   ],
   "source": [
    "for i in range(1, 6):\n",
    "    print('*' * i)"
   ]
  },
  {
   "cell_type": "code",
   "execution_count": 3,
   "id": "eaf4e069-6801-401c-9958-a0e3ef56e2ac",
   "metadata": {
    "collapsed": true,
    "jupyter": {
     "outputs_hidden": true
    },
    "tags": []
   },
   "outputs": [
    {
     "data": {
      "text/plain": [
       "4444"
      ]
     },
     "execution_count": 3,
     "metadata": {},
     "output_type": "execute_result"
    }
   ],
   "source": [
    "# print pattern as shown below:\n",
    "1\n",
    "22\n",
    "333\n",
    "4444\n",
    "# ask input from user for number of lines in the pattern, above mentioned output is for input=4\n",
    "#your code:"
   ]
  },
  {
   "cell_type": "code",
   "execution_count": 5,
   "id": "eb472de6-1755-41f9-a990-324e5498c025",
   "metadata": {},
   "outputs": [
    {
     "name": "stdout",
     "output_type": "stream",
     "text": [
      "1\n",
      "22\n",
      "333\n",
      "4444\n"
     ]
    }
   ],
   "source": [
    "for i in range(1, 5):\n",
    "    print(str(i) * i)"
   ]
  },
  {
   "cell_type": "code",
   "execution_count": null,
   "id": "d9b1b375-18c3-47dc-9df6-4732505ee01c",
   "metadata": {},
   "outputs": [],
   "source": []
  }
 ],
 "metadata": {
  "kernelspec": {
   "display_name": "Python 3 (ipykernel)",
   "language": "python",
   "name": "python3"
  },
  "language_info": {
   "codemirror_mode": {
    "name": "ipython",
    "version": 3
   },
   "file_extension": ".py",
   "mimetype": "text/x-python",
   "name": "python",
   "nbconvert_exporter": "python",
   "pygments_lexer": "ipython3",
   "version": "3.7.7"
  }
 },
 "nbformat": 4,
 "nbformat_minor": 5
}
