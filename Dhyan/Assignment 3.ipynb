{
 "cells": [
  {
   "cell_type": "code",
   "execution_count": 1,
   "id": "5dedd42a-b12c-439a-a9d0-043ef3d71f1b",
   "metadata": {},
   "outputs": [],
   "source": [
    "# Take a value greater than 1 from user (You can put it in any variable)\n",
    "# Print the sum of all numbers from 1 to that number\n",
    "#for eg: num=3\n",
    "#output should be 6 (since 1+2+3 is 6\n",
    "#Try implementing it with *For* as well as *While* Loop"
   ]
  },
  {
   "cell_type": "code",
   "execution_count": 19,
   "id": "1d0d2e67-1883-41da-a147-2eafd54ba13a",
   "metadata": {},
   "outputs": [
    {
     "name": "stdin",
     "output_type": "stream",
     "text": [
      "Enter the number:  7\n"
     ]
    },
    {
     "name": "stdout",
     "output_type": "stream",
     "text": [
      "The total is:  28\n"
     ]
    }
   ],
   "source": [
    "num = int(input(\"Enter the number: \"))\n",
    "sum = 0\n",
    "if num > 1:\n",
    "    for x in range(1,num+1):\n",
    "        sum = sum + x\n",
    "    print(\"The total is: \",sum)\n",
    "else:\n",
    "    print(\"Please enter number greater than 1\")"
   ]
  },
  {
   "cell_type": "code",
   "execution_count": 30,
   "id": "69897ce8-9373-403e-90da-66b8124b8e34",
   "metadata": {},
   "outputs": [],
   "source": [
    "# Use a loop to display elements from a given list present at odd index positions"
   ]
  },
  {
   "cell_type": "code",
   "execution_count": 23,
   "id": "fd0ec0f3-88e9-4ac6-8810-a335c14d63d5",
   "metadata": {},
   "outputs": [
    {
     "name": "stdout",
     "output_type": "stream",
     "text": [
      "10\n",
      "11\n",
      "33\n",
      "66\n",
      "87\n",
      "20\n",
      "40\n",
      "23\n",
      "67\n"
     ]
    }
   ],
   "source": [
    "my_list = [10,20,11,22,33,44,66,76,87,98,20,30,40,50,23,45,67,89]\n",
    "for x,y in enumerate(my_list):\n",
    "    if x % 2 == 0:\n",
    "        print(y) "
   ]
  },
  {
   "cell_type": "code",
   "execution_count": 25,
   "id": "e52d5f72-5ad9-465d-8963-0fea9eecdaa1",
   "metadata": {
    "collapsed": true,
    "jupyter": {
     "outputs_hidden": true
    },
    "tags": []
   },
   "outputs": [
    {
     "data": {
      "text/plain": [
       "'\\n#print pattern in the output as shown below, if the user input(or your variable value) is 4\\n*\\n**\\n***\\n****\\n***\\n**\\n*\\n# the variable value represents the max value of stars\\n'"
      ]
     },
     "execution_count": 25,
     "metadata": {},
     "output_type": "execute_result"
    }
   ],
   "source": [
    "'''\n",
    "#print pattern in the output as shown below, if the user input(or your variable value) is 4\n",
    "*\n",
    "**\n",
    "***\n",
    "****\n",
    "***\n",
    "**\n",
    "*\n",
    "# the variable value represents the max value of stars\n",
    "'''"
   ]
  },
  {
   "cell_type": "code",
   "execution_count": 29,
   "id": "dc24ff5a-fe32-4c71-bc82-ba87e9497a8f",
   "metadata": {},
   "outputs": [
    {
     "name": "stdin",
     "output_type": "stream",
     "text": [
      "Enter the number of lines 20\n"
     ]
    },
    {
     "name": "stdout",
     "output_type": "stream",
     "text": [
      "*\n",
      "**\n",
      "***\n",
      "****\n",
      "*****\n",
      "******\n",
      "*******\n",
      "********\n",
      "*********\n",
      "**********\n",
      "*********\n",
      "********\n",
      "*******\n",
      "******\n",
      "*****\n",
      "****\n",
      "***\n",
      "**\n",
      "*\n"
     ]
    }
   ],
   "source": [
    "lines = int(input(\"Enter the number of lines\"))\n",
    "breakpoint = lines/2\n",
    "for i in range(1, lines):\n",
    "    if i <= breakpoint:\n",
    "        print(\"*\" * i)\n",
    "    else:\n",
    "        print(\"*\" * (lines - i))"
   ]
  },
  {
   "cell_type": "code",
   "execution_count": 6,
   "id": "6e51d278-f819-47f3-8e3f-f96fcec2fac6",
   "metadata": {},
   "outputs": [],
   "source": [
    "# concept: Factorial of 5 is 5*4*3*2*1 = 120\n",
    "# Find the factorial of any number provided by user"
   ]
  },
  {
   "cell_type": "code",
   "execution_count": 31,
   "id": "465619c7-1e0d-4d1f-b19d-83d1a5135d88",
   "metadata": {},
   "outputs": [
    {
     "name": "stdin",
     "output_type": "stream",
     "text": [
      "Enter a number:  5\n"
     ]
    },
    {
     "name": "stdout",
     "output_type": "stream",
     "text": [
      "The factorial of 5 is 120\n"
     ]
    }
   ],
   "source": [
    "num = int(input(\"Enter a number: \"))\n",
    "factorial = 1\n",
    "\n",
    "if num < 0:\n",
    "    print(\"Sorry, factorial does not exist for negative numbers\")\n",
    "elif num == 0:\n",
    "    print(\"The factorial of 0 is 1\")\n",
    "else:\n",
    "    for i in range(1, num + 1):\n",
    "        factorial = factorial * i\n",
    "    print(\"The factorial of\", num, \"is\", factorial)"
   ]
  },
  {
   "cell_type": "code",
   "execution_count": 7,
   "id": "6bb9f8e5-a8c7-496e-a6ad-60c97b9f167c",
   "metadata": {},
   "outputs": [],
   "source": [
    "# Display numbers from -10 to -1 using While and For Loop"
   ]
  },
  {
   "cell_type": "code",
   "execution_count": 32,
   "id": "17485bb3-61d3-4ea8-b0fc-2038088f9f46",
   "metadata": {},
   "outputs": [
    {
     "name": "stdout",
     "output_type": "stream",
     "text": [
      "-10\n",
      "-9\n",
      "-8\n",
      "-7\n",
      "-6\n",
      "-5\n",
      "-4\n",
      "-3\n",
      "-2\n",
      "-1\n"
     ]
    }
   ],
   "source": [
    "# Using a while loop\n",
    "num = -10\n",
    "while num < 0:\n",
    "    print(num)\n",
    "    num += 1"
   ]
  },
  {
   "cell_type": "code",
   "execution_count": 33,
   "id": "6457ef2f-c4b8-43b6-a66e-a0eaba6be1c8",
   "metadata": {},
   "outputs": [
    {
     "name": "stdout",
     "output_type": "stream",
     "text": [
      "-10\n",
      "-9\n",
      "-8\n",
      "-7\n",
      "-6\n",
      "-5\n",
      "-4\n",
      "-3\n",
      "-2\n",
      "-1\n"
     ]
    }
   ],
   "source": [
    "# Using a for loop\n",
    "for i in range(-10, 0):\n",
    "    print(i)"
   ]
  },
  {
   "cell_type": "code",
   "execution_count": null,
   "id": "76dff60a-60de-4476-978b-acfdedd9c682",
   "metadata": {},
   "outputs": [],
   "source": []
  }
 ],
 "metadata": {
  "kernelspec": {
   "display_name": "Python 3 (ipykernel)",
   "language": "python",
   "name": "python3"
  },
  "language_info": {
   "codemirror_mode": {
    "name": "ipython",
    "version": 3
   },
   "file_extension": ".py",
   "mimetype": "text/x-python",
   "name": "python",
   "nbconvert_exporter": "python",
   "pygments_lexer": "ipython3",
   "version": "3.7.7"
  }
 },
 "nbformat": 4,
 "nbformat_minor": 5
}
