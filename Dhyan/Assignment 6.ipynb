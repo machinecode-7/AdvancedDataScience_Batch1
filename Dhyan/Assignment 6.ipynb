{
 "cells": [
  {
   "cell_type": "code",
   "execution_count": 8,
   "id": "4bc5aea7-41e2-4fa7-9467-47fc4a956eca",
   "metadata": {},
   "outputs": [],
   "source": [
    "import numpy as np"
   ]
  },
  {
   "cell_type": "code",
   "execution_count": 1,
   "id": "1c9baa4b-e210-4bc1-8373-b15529af0956",
   "metadata": {},
   "outputs": [],
   "source": [
    "# Give me every element of array4\n",
    "#array4 = array3.reshape(1,3,3)"
   ]
  },
  {
   "cell_type": "code",
   "execution_count": 9,
   "id": "f809288c-abca-4125-a2ce-3a06d7029db7",
   "metadata": {},
   "outputs": [],
   "source": [
    "array_with_nine_numbers = np.array([1,2,3,4,5,6,7,8,9])\n",
    "array3 = array_with_nine_numbers.reshape(3,3)\n",
    "array4 = array3.reshape(1,3,3)"
   ]
  },
  {
   "cell_type": "code",
   "execution_count": 10,
   "id": "89fdcadf-49a9-4fc7-ae05-4096ee89f4b2",
   "metadata": {},
   "outputs": [
    {
     "data": {
      "text/plain": [
       "array([[[1, 2, 3],\n",
       "        [4, 5, 6],\n",
       "        [7, 8, 9]]])"
      ]
     },
     "execution_count": 10,
     "metadata": {},
     "output_type": "execute_result"
    }
   ],
   "source": [
    "array4"
   ]
  },
  {
   "cell_type": "code",
   "execution_count": 13,
   "id": "eb6209af-37f6-4205-85f5-2ff07cbc8ee6",
   "metadata": {},
   "outputs": [
    {
     "name": "stdout",
     "output_type": "stream",
     "text": [
      "1\n",
      "2\n",
      "3\n",
      "4\n",
      "5\n",
      "6\n",
      "7\n",
      "8\n",
      "9\n"
     ]
    }
   ],
   "source": [
    "for x in array4:\n",
    "    for y in x:\n",
    "        for z in y:\n",
    "            print(z)"
   ]
  },
  {
   "cell_type": "code",
   "execution_count": 2,
   "id": "4c8a0fe0-0526-4b9c-abae-879b5a79a984",
   "metadata": {},
   "outputs": [],
   "source": [
    "#Get the common elements between list1 and list2\n",
    "#For eg: input from user=> list1= [2,3,4] list2=[3,4,5] (search on how to take list as an input from user, lets learn googling)\n",
    "#output: [3,4]\n",
    "#Hint: One might think to use *in* operator/"
   ]
  },
  {
   "cell_type": "code",
   "execution_count": 33,
   "id": "d86727f2-d017-4185-948f-ea5490c0e0ee",
   "metadata": {},
   "outputs": [
    {
     "name": "stdin",
     "output_type": "stream",
     "text": [
      "Enter the number of elements for List1:  3\n",
      "Enter Number at list1[0] : 2\n",
      "Enter Number at list1[1] : 3\n",
      "Enter Number at list1[2] : 4\n",
      "Enter the number of elements for List2:  3\n",
      "Enter Number at list2[0] : 3\n",
      "Enter Number at list2[1] : 4\n",
      "Enter Number at list2[2] : 5\n"
     ]
    },
    {
     "name": "stdout",
     "output_type": "stream",
     "text": [
      "[2, 3, 4] [3, 4, 5]\n"
     ]
    }
   ],
   "source": [
    "list1 = []\n",
    "ls1No = int(input(\"Enter the number of elements for List1: \"))\n",
    "for x in range(ls1No):\n",
    "    list1.append(int(input(\"Enter Number at list1[\"+str(x)+\"] :\")))\n",
    "list2 = []\n",
    "ls2No = int(input(\"Enter the number of elements for List2: \"))\n",
    "for x in range(ls2No):\n",
    "    list2.append(int(input(\"Enter Number at list2[\"+str(x)+\"] :\")))\n",
    "\n",
    "print(list1,list2)"
   ]
  },
  {
   "cell_type": "code",
   "execution_count": 34,
   "id": "d588d95f-0433-4303-88b7-c0c0516ecf58",
   "metadata": {},
   "outputs": [],
   "source": [
    "def common_member(a, b):\n",
    "    a_set = set(a)\n",
    "    b_set = set(b)\n",
    " \n",
    "    if (a_set & b_set):\n",
    "        print(list(a_set & b_set))\n",
    "    else:\n",
    "        print(\"No common elements\")"
   ]
  },
  {
   "cell_type": "code",
   "execution_count": 35,
   "id": "1fbb91db-2dd7-471f-9050-1db4fa8ea6ac",
   "metadata": {},
   "outputs": [
    {
     "name": "stdout",
     "output_type": "stream",
     "text": [
      "[3, 4]\n"
     ]
    }
   ],
   "source": [
    "common_member(list1, list2)"
   ]
  },
  {
   "cell_type": "code",
   "execution_count": 3,
   "id": "8d032e9c-3f40-4e89-acdd-fdaf8812f077",
   "metadata": {},
   "outputs": [],
   "source": [
    "#Try Q2 with numpy arrays instead of lists\n",
    "# Also, google if there are any shortcuts (I mean any dedicated function to find intersection between two arrays/list)/"
   ]
  },
  {
   "cell_type": "code",
   "execution_count": 36,
   "id": "3117e445-d254-4ffa-9166-fb7400eb251e",
   "metadata": {},
   "outputs": [
    {
     "name": "stdout",
     "output_type": "stream",
     "text": [
      "[3 4]\n"
     ]
    }
   ],
   "source": [
    "print(np.intersect1d(list1, list2))"
   ]
  },
  {
   "cell_type": "code",
   "execution_count": 4,
   "id": "fa6fbce6-d08a-47fa-a5e7-42ae8c7be885",
   "metadata": {},
   "outputs": [],
   "source": [
    "# Remove the common elements of list1 from list2\n",
    "#For eg: input=> list1=[2,3,4] list2 = [3,4,5]\n",
    "#output: [2] #removed 3 and 4 since they were present in list2\n",
    "#hint: *in* and remove function of list\n",
    "#Try to perform the same with numpy array"
   ]
  },
  {
   "cell_type": "code",
   "execution_count": 40,
   "id": "27277ad9-e5e1-4524-b07a-7bdba0d74762",
   "metadata": {},
   "outputs": [],
   "source": [
    "def uncommon_member(a, b):\n",
    "    a_set = set(a)\n",
    "    b_set = set(b)\n",
    " \n",
    "    if (a_set & b_set):\n",
    "        commonElements = (a_set & b_set)\n",
    "        list1 = list(set(a_set) - set(commonElements))\n",
    "        list2 = list(set(b_set) - set(commonElements))\n",
    "        print(list1,list2)\n",
    "    else:\n",
    "        print(\"No common elements\")"
   ]
  },
  {
   "cell_type": "code",
   "execution_count": 41,
   "id": "55c9a7c4-2f97-468f-9b86-c26fdf896d44",
   "metadata": {},
   "outputs": [
    {
     "name": "stdout",
     "output_type": "stream",
     "text": [
      "[2] [5]\n"
     ]
    }
   ],
   "source": [
    "uncommon_member(list1, list2)"
   ]
  },
  {
   "cell_type": "code",
   "execution_count": 44,
   "id": "cdfaf4ff-ff58-418d-8e8d-b670d8579324",
   "metadata": {},
   "outputs": [
    {
     "data": {
      "text/plain": [
       "([2, 3, 4], [3, 4, 5])"
      ]
     },
     "execution_count": 44,
     "metadata": {},
     "output_type": "execute_result"
    }
   ],
   "source": [
    "list1,list2"
   ]
  },
  {
   "cell_type": "code",
   "execution_count": 46,
   "id": "1e7ed92e-3917-4757-8479-e4548ce7c353",
   "metadata": {},
   "outputs": [
    {
     "name": "stdout",
     "output_type": "stream",
     "text": [
      "[2]\n"
     ]
    }
   ],
   "source": [
    "#NUMPY\n",
    "print(np.setdiff1d(list1, list2))"
   ]
  },
  {
   "cell_type": "code",
   "execution_count": 5,
   "id": "7449c1b4-96ad-4446-8059-75bf945019c4",
   "metadata": {},
   "outputs": [],
   "source": [
    "# Add(append) elements to list1 from list2 if that element is not present already in list1.\n",
    "#(I mean add the element which is not common)\n",
    "# for eg: input => list1=[1,2,3,4,5] list2=[3,4,5,6,7]\n",
    "#output=> [1,2,3,4,5,6,7] no need to add 3,4,5 again to list 1 since it is common\n",
    "#hint: *not in* and append"
   ]
  },
  {
   "cell_type": "code",
   "execution_count": 47,
   "id": "97c011f4-19a5-4a2c-8d64-5be40015674c",
   "metadata": {},
   "outputs": [],
   "source": [
    "list1=[1,2,3,4,5] \n",
    "list2=[3,4,5,6,7]"
   ]
  },
  {
   "cell_type": "code",
   "execution_count": 48,
   "id": "ea79aa16-b800-4e40-aa45-3eaa20b8e21f",
   "metadata": {},
   "outputs": [
    {
     "data": {
      "text/plain": [
       "array([1, 2, 3, 4, 5, 6, 7])"
      ]
     },
     "execution_count": 48,
     "metadata": {},
     "output_type": "execute_result"
    }
   ],
   "source": [
    "np.union1d(list1, list2)"
   ]
  },
  {
   "cell_type": "code",
   "execution_count": null,
   "id": "eed0b33c-1f7f-4c60-bc88-8b573433273e",
   "metadata": {},
   "outputs": [],
   "source": []
  },
  {
   "cell_type": "code",
   "execution_count": null,
   "id": "522a828b-e906-4b20-9739-f14c9321cfcb",
   "metadata": {},
   "outputs": [],
   "source": []
  }
 ],
 "metadata": {
  "kernelspec": {
   "display_name": "Python 3 (ipykernel)",
   "language": "python",
   "name": "python3"
  },
  "language_info": {
   "codemirror_mode": {
    "name": "ipython",
    "version": 3
   },
   "file_extension": ".py",
   "mimetype": "text/x-python",
   "name": "python",
   "nbconvert_exporter": "python",
   "pygments_lexer": "ipython3",
   "version": "3.7.7"
  }
 },
 "nbformat": 4,
 "nbformat_minor": 5
}
