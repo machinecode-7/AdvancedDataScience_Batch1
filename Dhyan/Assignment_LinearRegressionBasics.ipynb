{
 "cells": [
  {
   "cell_type": "code",
   "execution_count": 1,
   "id": "da508419",
   "metadata": {},
   "outputs": [],
   "source": [
    "import numpy as np"
   ]
  },
  {
   "cell_type": "code",
   "execution_count": 2,
   "id": "4924f290",
   "metadata": {},
   "outputs": [],
   "source": [
    "# pip install scikit-learn\n",
    "from sklearn.linear_model import LinearRegression\n",
    "#import sklearn.linear_model.LinearRegression"
   ]
  },
  {
   "cell_type": "code",
   "execution_count": 3,
   "id": "d3a85d96",
   "metadata": {},
   "outputs": [],
   "source": [
    "feature = np.array([1,2,3,4,5,6,7,8,9])\n",
    "target = np.array([2,4,6,8,10,12,14,16,18])"
   ]
  },
  {
   "cell_type": "code",
   "execution_count": 4,
   "id": "83bf7b7a",
   "metadata": {},
   "outputs": [
    {
     "data": {
      "text/plain": [
       "numpy.ndarray"
      ]
     },
     "execution_count": 4,
     "metadata": {},
     "output_type": "execute_result"
    }
   ],
   "source": [
    "type(feature)"
   ]
  },
  {
   "cell_type": "code",
   "execution_count": 5,
   "id": "392cbf17",
   "metadata": {},
   "outputs": [
    {
     "data": {
      "text/plain": [
       "(9,)"
      ]
     },
     "execution_count": 5,
     "metadata": {},
     "output_type": "execute_result"
    }
   ],
   "source": [
    "feature.shape"
   ]
  },
  {
   "cell_type": "code",
   "execution_count": 6,
   "id": "3e97ca22",
   "metadata": {},
   "outputs": [],
   "source": [
    "# scikit-learn only accepts 2d array in input for feature\n",
    "feature = feature.reshape(-1,1)"
   ]
  },
  {
   "cell_type": "code",
   "execution_count": 7,
   "id": "3be9ecfb",
   "metadata": {},
   "outputs": [],
   "source": [
    "lreg = LinearRegression()"
   ]
  },
  {
   "cell_type": "code",
   "execution_count": 8,
   "id": "24d39a0d",
   "metadata": {},
   "outputs": [
    {
     "data": {
      "text/plain": [
       "LinearRegression()"
      ]
     },
     "execution_count": 8,
     "metadata": {},
     "output_type": "execute_result"
    }
   ],
   "source": [
    "#Learning step\n",
    "lreg.fit(feature, target)"
   ]
  },
  {
   "cell_type": "code",
   "execution_count": 9,
   "id": "3ccc91d4",
   "metadata": {},
   "outputs": [
    {
     "data": {
      "text/plain": [
       "array([20.])"
      ]
     },
     "execution_count": 9,
     "metadata": {},
     "output_type": "execute_result"
    }
   ],
   "source": [
    "lreg.predict([[10]])"
   ]
  },
  {
   "cell_type": "code",
   "execution_count": 10,
   "id": "e653b626",
   "metadata": {},
   "outputs": [],
   "source": [
    "# equation of a line\n",
    "#y = mx + c\n",
    "# y = target\n",
    "# x = feature\n",
    "# m = coefficient\n",
    "# c = intercept"
   ]
  },
  {
   "cell_type": "code",
   "execution_count": 11,
   "id": "7187a726",
   "metadata": {},
   "outputs": [],
   "source": [
    "m = lreg.coef_"
   ]
  },
  {
   "cell_type": "code",
   "execution_count": 12,
   "id": "4489ee1d",
   "metadata": {},
   "outputs": [],
   "source": [
    "c = lreg.intercept_"
   ]
  },
  {
   "cell_type": "code",
   "execution_count": 13,
   "id": "8fa09cef",
   "metadata": {},
   "outputs": [
    {
     "data": {
      "text/plain": [
       "-1.7763568394002505e-15"
      ]
     },
     "execution_count": 13,
     "metadata": {},
     "output_type": "execute_result"
    }
   ],
   "source": [
    "c"
   ]
  },
  {
   "cell_type": "code",
   "execution_count": 14,
   "id": "0b00b1b5",
   "metadata": {},
   "outputs": [],
   "source": [
    "#y = 2*x + 0"
   ]
  },
  {
   "cell_type": "code",
   "execution_count": 15,
   "id": "0e613193",
   "metadata": {},
   "outputs": [],
   "source": [
    "feature2 = np.array([1,2,3,4,5,6,7,8,9])\n",
    "target2 = np.array([3,5,7,9,11,13,15,17,19])\n",
    "# y = 2x + 1"
   ]
  },
  {
   "cell_type": "code",
   "execution_count": 16,
   "id": "b7d234ea",
   "metadata": {},
   "outputs": [],
   "source": [
    "lreg2 = LinearRegression()"
   ]
  },
  {
   "cell_type": "code",
   "execution_count": 17,
   "id": "8b5da522",
   "metadata": {},
   "outputs": [
    {
     "data": {
      "text/plain": [
       "LinearRegression()"
      ]
     },
     "execution_count": 17,
     "metadata": {},
     "output_type": "execute_result"
    }
   ],
   "source": [
    "lreg2.fit(feature2.reshape(-1,1), target2)"
   ]
  },
  {
   "cell_type": "code",
   "execution_count": 18,
   "id": "0556eae3",
   "metadata": {},
   "outputs": [
    {
     "data": {
      "text/plain": [
       "array([2.])"
      ]
     },
     "execution_count": 18,
     "metadata": {},
     "output_type": "execute_result"
    }
   ],
   "source": [
    "lreg2.coef_ #m"
   ]
  },
  {
   "cell_type": "code",
   "execution_count": 19,
   "id": "5055adb2",
   "metadata": {},
   "outputs": [
    {
     "data": {
      "text/plain": [
       "0.9999999999999982"
      ]
     },
     "execution_count": 19,
     "metadata": {},
     "output_type": "execute_result"
    }
   ],
   "source": [
    "lreg2.intercept_ #c"
   ]
  },
  {
   "cell_type": "code",
   "execution_count": 20,
   "id": "a30fd12b",
   "metadata": {},
   "outputs": [],
   "source": [
    "#y = 2*x + 1"
   ]
  },
  {
   "cell_type": "markdown",
   "id": "619a3d01",
   "metadata": {},
   "source": [
    "# Assignment 1"
   ]
  },
  {
   "cell_type": "markdown",
   "id": "7899c7ec",
   "metadata": {},
   "source": [
    "### Find line equation for given data"
   ]
  },
  {
   "cell_type": "code",
   "execution_count": 23,
   "id": "6a4fa808",
   "metadata": {},
   "outputs": [],
   "source": [
    "feature3 = np.array([1,2,3,4,5,6,7,8,9])\n",
    "target3 = np.array([75, 112, 149, 186, 223, 260, 297, 334, 371])"
   ]
  },
  {
   "cell_type": "code",
   "execution_count": 21,
   "id": "0f6f227b",
   "metadata": {},
   "outputs": [],
   "source": [
    "lreg3 = LinearRegression()"
   ]
  },
  {
   "cell_type": "code",
   "execution_count": 29,
   "id": "95189d4b-1828-4d17-b4cc-a596ce8a75e3",
   "metadata": {},
   "outputs": [
    {
     "data": {
      "text/plain": [
       "LinearRegression()"
      ]
     },
     "execution_count": 29,
     "metadata": {},
     "output_type": "execute_result"
    }
   ],
   "source": [
    "lreg3.fit(feature3.reshape(-1,1), target3)"
   ]
  },
  {
   "cell_type": "code",
   "execution_count": 30,
   "id": "f41aa2a8-5eca-4ac3-aea9-ca3eb2b46b9b",
   "metadata": {},
   "outputs": [
    {
     "data": {
      "text/plain": [
       "array([408.])"
      ]
     },
     "execution_count": 30,
     "metadata": {},
     "output_type": "execute_result"
    }
   ],
   "source": [
    "lreg3.predict([[10]])"
   ]
  },
  {
   "cell_type": "code",
   "execution_count": 31,
   "id": "b0a76f37-b314-4aa2-a049-2d2d8d0e460d",
   "metadata": {},
   "outputs": [
    {
     "data": {
      "text/plain": [
       "array([37.])"
      ]
     },
     "execution_count": 31,
     "metadata": {},
     "output_type": "execute_result"
    }
   ],
   "source": [
    "lreg3.coef_ "
   ]
  },
  {
   "cell_type": "code",
   "execution_count": 32,
   "id": "3397e947",
   "metadata": {},
   "outputs": [
    {
     "data": {
      "text/plain": [
       "37.99999999999997"
      ]
     },
     "execution_count": 32,
     "metadata": {},
     "output_type": "execute_result"
    }
   ],
   "source": [
    "lreg3.intercept_ # 37x + 38"
   ]
  },
  {
   "cell_type": "markdown",
   "id": "ed632697",
   "metadata": {},
   "source": [
    "#### Data Viz"
   ]
  },
  {
   "cell_type": "code",
   "execution_count": 21,
   "id": "185d41c7",
   "metadata": {},
   "outputs": [],
   "source": [
    "import matplotlib.pyplot as plt"
   ]
  },
  {
   "cell_type": "code",
   "execution_count": 53,
   "id": "f3e8601d",
   "metadata": {},
   "outputs": [],
   "source": [
    "import pandas as pd"
   ]
  },
  {
   "cell_type": "code",
   "execution_count": 74,
   "id": "d0b3473a",
   "metadata": {},
   "outputs": [],
   "source": [
    "feature3 = np.array([1,2,3,4,5,6,7,8,9])\n",
    "target3 = np.array([2,14,6,8,11,12,15,16,30])"
   ]
  },
  {
   "cell_type": "code",
   "execution_count": 78,
   "id": "86145244",
   "metadata": {},
   "outputs": [
    {
     "name": "stdout",
     "output_type": "stream",
     "text": [
      "[2.33333333] 0.9999999999999964\n"
     ]
    },
    {
     "data": {
      "image/png": "[encoded data removed]",
      "text/plain": [
       "<Figure size 432x288 with 1 Axes>"
      ]
     },
     "metadata": {
      "needs_background": "light"
     },
     "output_type": "display_data"
    }
   ],
   "source": [
    "lreg3 = LinearRegression()\n",
    "lreg3.fit(feature3.reshape(-1,1), target3)\n",
    "\n",
    "m = lreg3.coef_ \n",
    "c = lreg3.intercept_\n",
    "data_dict = {\n",
    "    \"feature\": feature3,\n",
    "    \"target\":target3\n",
    "}\n",
    "df = pd.DataFrame(data_dict)\n",
    "print(m,c)\n",
    "plt.scatter(df['feature'],df['target'])\n",
    "plt.plot(feature3, m*feature3+c)\n",
    "plt.show()"
   ]
  },
  {
   "cell_type": "code",
   "execution_count": 45,
   "id": "7ddca24b",
   "metadata": {},
   "outputs": [],
   "source": [
    "# Practice"
   ]
  },
  {
   "cell_type": "code",
   "execution_count": 80,
   "id": "3401043c",
   "metadata": {},
   "outputs": [],
   "source": [
    "feature3 = np.array([1,2,3,4,5,6])\n",
    "target3 = np.array([5,8,11,14,17,20])"
   ]
  },
  {
   "cell_type": "code",
   "execution_count": 81,
   "id": "062a6eb8-4460-4d9c-88de-ef67b306d052",
   "metadata": {},
   "outputs": [
    {
     "name": "stdout",
     "output_type": "stream",
     "text": [
      "[3.] 2.0\n"
     ]
    },
    {
     "data": {
      "image/png": "[encoded data removed]",
      "text/plain": [
       "<Figure size 432x288 with 1 Axes>"
      ]
     },
     "metadata": {
      "needs_background": "light"
     },
     "output_type": "display_data"
    }
   ],
   "source": [
    "lreg4 = LinearRegression()\n",
    "lreg4.fit(feature3.reshape(-1,1), target3)\n",
    "\n",
    "m = lreg4.coef_ \n",
    "c = lreg4.intercept_\n",
    "data_dict = {\n",
    "    \"feature\": feature3,\n",
    "    \"target\":target3\n",
    "}\n",
    "df = pd.DataFrame(data_dict)\n",
    "print(m,c)\n",
    "plt.scatter(df['feature'],df['target'])\n",
    "plt.plot(feature3, m*feature3+c)\n",
    "plt.show()"
   ]
  },
  {
   "cell_type": "code",
   "execution_count": null,
   "id": "ae7313cb",
   "metadata": {},
   "outputs": [],
   "source": [
    "# 3*x+2"
   ]
  },
  {
   "cell_type": "code",
   "execution_count": 66,
   "id": "0284f445",
   "metadata": {},
   "outputs": [],
   "source": [
    "feature3 = np.array([1,2,3,4,5,6])\n",
    "target3 = np.array([3,7,11,15,19,23])"
   ]
  },
  {
   "cell_type": "code",
   "execution_count": 67,
   "id": "3d72142a-f726-461b-8c77-78e52eca7173",
   "metadata": {},
   "outputs": [
    {
     "name": "stdout",
     "output_type": "stream",
     "text": [
      "[4.] -1.0\n"
     ]
    },
    {
     "data": {
      "image/png": "[encoded data removed]",
      "text/plain": [
       "<Figure size 432x288 with 1 Axes>"
      ]
     },
     "metadata": {
      "needs_background": "light"
     },
     "output_type": "display_data"
    }
   ],
   "source": [
    "lreg5 = LinearRegression()\n",
    "lreg5.fit(feature3.reshape(-1,1), target3)\n",
    "\n",
    "m = lreg5.coef_ \n",
    "c = lreg5.intercept_\n",
    "data_dict = {\n",
    "    \"feature\": feature3,\n",
    "    \"target\":target3\n",
    "}\n",
    "df = pd.DataFrame(data_dict)\n",
    "print(m,c)\n",
    "plt.scatter(df['feature'],df['target'])\n",
    "plt.plot(feature3, m*feature3+c)\n",
    "plt.show()"
   ]
  },
  {
   "cell_type": "code",
   "execution_count": null,
   "id": "5d33f336",
   "metadata": {},
   "outputs": [],
   "source": [
    "# 4*x-1"
   ]
  }
 ],
 "metadata": {
  "kernelspec": {
   "display_name": "Python 3 (ipykernel)",
   "language": "python",
   "name": "python3"
  },
  "language_info": {
   "codemirror_mode": {
    "name": "ipython",
    "version": 3
   },
   "file_extension": ".py",
   "mimetype": "text/x-python",
   "name": "python",
   "nbconvert_exporter": "python",
   "pygments_lexer": "ipython3",
   "version": "3.7.7"
  }
 },
 "nbformat": 4,
 "nbformat_minor": 5
}
