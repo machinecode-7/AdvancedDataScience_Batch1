{
 "cells": [
  {
   "cell_type": "code",
   "execution_count": 1,
   "id": "34a4add4-345f-450b-a5be-becb6adca5d5",
   "metadata": {},
   "outputs": [],
   "source": [
    "# Write a program that appends the square of each number to a new list.\n",
    "# Example:\n",
    "# Given x = [2,3,4,5,6,7,8]\n",
    "\n",
    "# Expected output \n",
    "# Result: [4, 9, 16, 25, 36, 49, 64]"
   ]
  },
  {
   "cell_type": "code",
   "execution_count": 9,
   "id": "ea117442-6a85-47a2-bd31-a4c8936a1539",
   "metadata": {},
   "outputs": [
    {
     "name": "stdout",
     "output_type": "stream",
     "text": [
      "[4, 9, 16, 25, 36, 49, 64]\n"
     ]
    }
   ],
   "source": [
    "x = [2,3,4,5,6,7,8]\n",
    "result = []\n",
    "for num in x:\n",
    "    result.append(num*num)\n",
    "\n",
    "print(result)"
   ]
  },
  {
   "cell_type": "code",
   "execution_count": 8,
   "id": "7b0775a7-770f-4fca-b647-3c151469fb3a",
   "metadata": {},
   "outputs": [],
   "source": [
    "# WAP(write a program) to separate positive and negative number from a list.\n",
    "# Example:\n",
    "# Given x = [23, 4, -6, 23, -9, 21, 3, -45, -8]\n",
    "\n",
    "# Expected output \n",
    "# Result:\n",
    "# Positive: [23, 4, 23, 21, 3] Negative: [-6, -45, -9, -8]"
   ]
  },
  {
   "cell_type": "code",
   "execution_count": 12,
   "id": "93e2a21a-9d30-4fc5-bb97-caac646ac171",
   "metadata": {},
   "outputs": [
    {
     "name": "stdout",
     "output_type": "stream",
     "text": [
      "Positive numbers :  [23, 4, 23, 21, 3]\n",
      "Negative numbers :  [-6, -9, -45, -8]\n"
     ]
    }
   ],
   "source": [
    "x = [23, 4, -6, 23, -9, 21, 3, -45, -8]\n",
    "positive = []\n",
    "negative = []\n",
    "for num in x:\n",
    "    if num>0:\n",
    "        positive.append(num)\n",
    "    else:\n",
    "        negative.append(num)\n",
    "\n",
    "print(\"Positive numbers : \",positive)\n",
    "print(\"Negative numbers : \",negative)"
   ]
  },
  {
   "cell_type": "code",
   "execution_count": 3,
   "id": "798adca8-ab36-4246-a6f6-e2e39e5d248d",
   "metadata": {
    "tags": []
   },
   "outputs": [],
   "source": [
    "# Write a program that create a list with the type of elements from a  given list.\n",
    "# Example\n",
    "# Given x = [23, ‘Python’, 23.98]\n",
    "\n",
    "# Expected output \n",
    "# Result:\n",
    "# [<class 'int'>,<class 'str'>,<class 'float'>]"
   ]
  },
  {
   "cell_type": "code",
   "execution_count": 14,
   "id": "b5ad8d0a-0179-4805-8503-2d4e04fd0d55",
   "metadata": {},
   "outputs": [
    {
     "name": "stdout",
     "output_type": "stream",
     "text": [
      "[<class 'int'>, <class 'str'>, <class 'float'>]\n"
     ]
    }
   ],
   "source": [
    "x = [23, 'Python', 23.98]\n",
    "result = []\n",
    "for character in x:\n",
    "    result.append(type(character))\n",
    "print(result)"
   ]
  },
  {
   "cell_type": "code",
   "execution_count": 25,
   "id": "f2ac7f6c-9f58-4276-9ae4-6d0ae527b270",
   "metadata": {
    "tags": []
   },
   "outputs": [],
   "source": [
    "# Print a pattern as shown below:\n",
    "# 012345\n",
    "# 01234\n",
    "# 0123\n",
    "# 012\n",
    "# 01\n",
    "# 0"
   ]
  },
  {
   "cell_type": "code",
   "execution_count": 41,
   "id": "03e0a656-2934-4f7c-a768-91cd38d97b60",
   "metadata": {},
   "outputs": [
    {
     "name": "stdout",
     "output_type": "stream",
     "text": [
      "012345 \n",
      "01234 \n",
      "0123 \n",
      "012 \n",
      "01 \n",
      "0 \n"
     ]
    }
   ],
   "source": [
    "for i in range(6,0,-1):\n",
    "    for j in range(0,i):\n",
    "        print(j,end=\"\")      \n",
    "    print(\" \")"
   ]
  },
  {
   "cell_type": "code",
   "execution_count": null,
   "id": "c411e3ff-8377-42d8-9d87-55489082fc78",
   "metadata": {},
   "outputs": [],
   "source": []
  }
 ],
 "metadata": {
  "kernelspec": {
   "display_name": "Python 3 (ipykernel)",
   "language": "python",
   "name": "python3"
  },
  "language_info": {
   "codemirror_mode": {
    "name": "ipython",
    "version": 3
   },
   "file_extension": ".py",
   "mimetype": "text/x-python",
   "name": "python",
   "nbconvert_exporter": "python",
   "pygments_lexer": "ipython3",
   "version": "3.7.7"
  }
 },
 "nbformat": 4,
 "nbformat_minor": 5
}
