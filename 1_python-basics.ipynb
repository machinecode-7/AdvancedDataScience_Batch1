{
 "cells": [
  {
   "cell_type": "markdown",
   "id": "17f90d9c",
   "metadata": {},
   "source": [
    "## Get started with Python"
   ]
  },
  {
   "cell_type": "code",
   "execution_count": null,
   "id": "27759ae8",
   "metadata": {},
   "outputs": [],
   "source": [
    "print('Hello Guys')"
   ]
  },
  {
   "cell_type": "code",
   "execution_count": null,
   "id": "571c82e1",
   "metadata": {},
   "outputs": [],
   "source": [
    "print(\"Miral Thakkar.......\")\n",
    "print(\"Miral Thakkar!!!\")"
   ]
  },
  {
   "cell_type": "code",
   "execution_count": null,
   "id": "159157da",
   "metadata": {},
   "outputs": [],
   "source": [
    "# simply print your name\n",
    "print(\"Miral Thakkar.......\")\n",
    "print(\"Miral Thakkar!!!\")"
   ]
  },
  {
   "cell_type": "code",
   "execution_count": null,
   "id": "e655fd4b",
   "metadata": {},
   "outputs": [],
   "source": [
    "#print your age\n",
    "print('30')"
   ]
  },
  {
   "cell_type": "code",
   "execution_count": null,
   "id": "79e7baf7",
   "metadata": {},
   "outputs": [],
   "source": [
    "# simply print your name\n",
    "# print(\"Miral Thakkar.......\")\n",
    "print(\"Miral Thakkar!!!\")"
   ]
  },
  {
   "cell_type": "markdown",
   "id": "2846ef9a",
   "metadata": {},
   "source": [
    "# Variables"
   ]
  },
  {
   "cell_type": "code",
   "execution_count": null,
   "id": "acdb3fad",
   "metadata": {},
   "outputs": [],
   "source": [
    "print(5*1)\n",
    "print(5*2)\n",
    "print(5*3)\n",
    "print(5*4)"
   ]
  },
  {
   "cell_type": "code",
   "execution_count": null,
   "id": "4961df26",
   "metadata": {},
   "outputs": [],
   "source": [
    "print(3**4)"
   ]
  },
  {
   "cell_type": "code",
   "execution_count": null,
   "id": "d02cb91f",
   "metadata": {},
   "outputs": [],
   "source": [
    "number = 11"
   ]
  },
  {
   "cell_type": "code",
   "execution_count": null,
   "id": "c059fcd6",
   "metadata": {},
   "outputs": [],
   "source": [
    "print(number*1)\n",
    "print(number*2)\n",
    "print(number*3)\n",
    "print(number*4)"
   ]
  },
  {
   "cell_type": "markdown",
   "id": "bd1aa491",
   "metadata": {},
   "source": [
    "# Conditional Statements"
   ]
  },
  {
   "cell_type": "code",
   "execution_count": null,
   "id": "1d2dab4d",
   "metadata": {},
   "outputs": [],
   "source": [
    "#Logical Operators\n",
    "\n",
    "#And\n",
    "#Both the conditions should be True\n",
    "\n",
    "#Or\n",
    "#if either of two condition is true then its fine.\n",
    "\n",
    "# condition1: A\n",
    "# condition2: B\n",
    "\n",
    "#A: True (2<3)\n",
    "#B: True  (3>2)\n",
    "#And (Good) Or (Good)\n",
    "\n",
    "#A: False (2>3)\n",
    "#B: True  \n",
    "#And (Bad) Or (Good)\n",
    "\n",
    "#A: True\n",
    "#B: False \n",
    "#And (Bad) Or (Good)\n",
    "\n",
    "#A: False\n",
    "#B: False \n",
    "#And (Bad) Or (Bad)"
   ]
  },
  {
   "cell_type": "code",
   "execution_count": null,
   "id": "bef787c5",
   "metadata": {},
   "outputs": [],
   "source": [
    "if True or False:\n",
    "    print('Yes')"
   ]
  },
  {
   "cell_type": "code",
   "execution_count": null,
   "id": "37853a22",
   "metadata": {},
   "outputs": [],
   "source": [
    "if True and False:\n",
    "    print('Yes')"
   ]
  },
  {
   "cell_type": "markdown",
   "id": "5e31c014",
   "metadata": {},
   "source": [
    "###### If"
   ]
  },
  {
   "cell_type": "code",
   "execution_count": null,
   "id": "8d7ec53c",
   "metadata": {},
   "outputs": [],
   "source": [
    "if 5>4:\n",
    "    print('Good')\n",
    "    print('Miral')\n",
    "    \n",
    "#if condition:\n",
    "#  code-to-be-executed"
   ]
  },
  {
   "cell_type": "code",
   "execution_count": null,
   "id": "b7c509b5",
   "metadata": {},
   "outputs": [],
   "source": [
    "if 5>4:\n",
    "    print('Good')\n",
    "print('Miral')"
   ]
  },
  {
   "cell_type": "markdown",
   "id": "5553ae86",
   "metadata": {},
   "source": [
    "###### if-else"
   ]
  },
  {
   "cell_type": "code",
   "execution_count": null,
   "id": "51d11901",
   "metadata": {},
   "outputs": [],
   "source": [
    "if 2>1:\n",
    "    print('yes')\n",
    "else:\n",
    "    print('no')"
   ]
  },
  {
   "cell_type": "code",
   "execution_count": null,
   "id": "35ef3475",
   "metadata": {
    "scrolled": true
   },
   "outputs": [],
   "source": [
    "if \"miral\"==\"mira\":\n",
    "    print('yes')\n",
    "else:\n",
    "    print('no')"
   ]
  },
  {
   "cell_type": "markdown",
   "id": "8dabc99d",
   "metadata": {},
   "source": [
    "###### if-elif-else"
   ]
  },
  {
   "cell_type": "code",
   "execution_count": null,
   "id": "291c5ce1",
   "metadata": {},
   "outputs": [],
   "source": [
    "if 2>3:\n",
    "    print('I am part of if statement')\n",
    "elif 3<2:\n",
    "    print('I am part of elif statement')\n",
    "else:\n",
    "    print('LOL')"
   ]
  },
  {
   "cell_type": "markdown",
   "id": "22a20c3b",
   "metadata": {},
   "source": [
    "### Concept Combo"
   ]
  },
  {
   "cell_type": "code",
   "execution_count": null,
   "id": "38f4c001",
   "metadata": {},
   "outputs": [],
   "source": [
    "# ask age from user/customer\n",
    "# tell them their age criteria on the basis of rules\n",
    "# 1-12: kid\n",
    "#13-19: teen\n",
    "#20-55: Adult\n",
    "#56 to beyond: old"
   ]
  },
  {
   "cell_type": "code",
   "execution_count": null,
   "id": "9dba4c6c",
   "metadata": {},
   "outputs": [],
   "source": [
    "age = 57"
   ]
  },
  {
   "cell_type": "code",
   "execution_count": null,
   "id": "e2b1b2d2",
   "metadata": {},
   "outputs": [],
   "source": [
    "if age <= 12:\n",
    "    print('Kid')\n",
    "elif age>12 and age<=19:\n",
    "    print('Teen')\n",
    "elif age>=20 and age<55:\n",
    "    print('Adult')\n",
    "else:\n",
    "    print('Old')"
   ]
  },
  {
   "cell_type": "markdown",
   "id": "acd0b1d2",
   "metadata": {},
   "source": [
    "## Assignment"
   ]
  },
  {
   "cell_type": "code",
   "execution_count": null,
   "id": "6fdcaa8b",
   "metadata": {},
   "outputs": [],
   "source": [
    "# Imagine you are on a date :)\n",
    "# You both mutually decide that..\n",
    "#if *bill amount* is between 75$ to 100$ the girl will pay (print \"girl\" in this case)\n",
    "#if bill amount is less than 25$ again girl will pay (print \"girl\" in this case)\n",
    "#if bill amount is more than 150$ again girl will pay (print \"girl\" in this case)\n",
    "#else the boy will pay. (print \"boy\" in this case)\n",
    "# Completely hypothetical (we know who pays, right!!)\n",
    "#Jokes apart, this question shall solidify your concept on Logical operators(And,Or) and Conditional Statements(if-elif-else)"
   ]
  },
  {
   "cell_type": "code",
   "execution_count": null,
   "id": "a5b9f8c3",
   "metadata": {},
   "outputs": [],
   "source": []
  }
 ],
 "metadata": {
  "kernelspec": {
   "display_name": "Python 3 (ipykernel)",
   "language": "python",
   "name": "python3"
  },
  "language_info": {
   "codemirror_mode": {
    "name": "ipython",
    "version": 3
   },
   "file_extension": ".py",
   "mimetype": "text/x-python",
   "name": "python",
   "nbconvert_exporter": "python",
   "pygments_lexer": "ipython3",
   "version": "3.10.8"
  }
 },
 "nbformat": 4,
 "nbformat_minor": 5
}
