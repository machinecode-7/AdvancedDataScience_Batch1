{
 "cells": [
  {
   "cell_type": "code",
   "execution_count": null,
   "id": "6d3c28c5",
   "metadata": {},
   "outputs": [],
   "source": [
    "# There are 2 random functions"
   ]
  },
  {
   "cell_type": "code",
   "execution_count": 1,
   "id": "7abb9560",
   "metadata": {},
   "outputs": [],
   "source": [
    "# 1 Greetings"
   ]
  },
  {
   "cell_type": "code",
   "execution_count": 2,
   "id": "9632b6ea",
   "metadata": {},
   "outputs": [],
   "source": [
    "import welcome"
   ]
  },
  {
   "cell_type": "code",
   "execution_count": 3,
   "id": "480ea04e",
   "metadata": {},
   "outputs": [
    {
     "data": {
      "text/plain": [
       "'Hello Smart People'"
      ]
     },
     "execution_count": 3,
     "metadata": {},
     "output_type": "execute_result"
    }
   ],
   "source": [
    "welcome.greetings()"
   ]
  },
  {
   "cell_type": "code",
   "execution_count": 4,
   "id": "7b585213",
   "metadata": {},
   "outputs": [
    {
     "ename": "TypeError",
     "evalue": "custom_greetings() missing 1 required positional argument: 'name'",
     "output_type": "error",
     "traceback": [
      "\u001b[1;31m---------------------------------------------------------------------------\u001b[0m",
      "\u001b[1;31mTypeError\u001b[0m                                 Traceback (most recent call last)",
      "Cell \u001b[1;32mIn [4], line 1\u001b[0m\n\u001b[1;32m----> 1\u001b[0m \u001b[43mwelcome\u001b[49m\u001b[38;5;241;43m.\u001b[39;49m\u001b[43mcustom_greetings\u001b[49m\u001b[43m(\u001b[49m\u001b[43m)\u001b[49m\n",
      "\u001b[1;31mTypeError\u001b[0m: custom_greetings() missing 1 required positional argument: 'name'"
     ]
    }
   ],
   "source": [
    "welcome.custom_greetings()"
   ]
  },
  {
   "cell_type": "code",
   "execution_count": 5,
   "id": "e2f25a2f",
   "metadata": {},
   "outputs": [
    {
     "data": {
      "text/plain": [
       "'Hello Jai, How are you doing ?'"
      ]
     },
     "execution_count": 5,
     "metadata": {},
     "output_type": "execute_result"
    }
   ],
   "source": [
    "welcome.custom_greetings('Jai')"
   ]
  },
  {
   "cell_type": "code",
   "execution_count": 6,
   "id": "941ec5b6",
   "metadata": {},
   "outputs": [
    {
     "name": "stdout",
     "output_type": "stream",
     "text": [
      "66.6 ns ± 1.13 ns per loop (mean ± std. dev. of 7 runs, 10,000,000 loops each)\n"
     ]
    }
   ],
   "source": [
    "%timeit len([1,2,3,45,6,7,8,9])"
   ]
  },
  {
   "cell_type": "code",
   "execution_count": 7,
   "id": "6b2a7070",
   "metadata": {},
   "outputs": [],
   "source": [
    "# Adder function\n",
    "import adder"
   ]
  },
  {
   "cell_type": "code",
   "execution_count": 8,
   "id": "84ab1a5a",
   "metadata": {},
   "outputs": [
    {
     "data": {
      "text/plain": [
       "55"
      ]
     },
     "execution_count": 8,
     "metadata": {},
     "output_type": "execute_result"
    }
   ],
   "source": [
    "adder.sum_nn(10)"
   ]
  },
  {
   "cell_type": "code",
   "execution_count": 9,
   "id": "38c360af",
   "metadata": {},
   "outputs": [
    {
     "name": "stdout",
     "output_type": "stream",
     "text": [
      "449 ns ± 8.96 ns per loop (mean ± std. dev. of 7 runs, 1,000,000 loops each)\n"
     ]
    }
   ],
   "source": [
    "%timeit adder.sum_nn(10)"
   ]
  },
  {
   "cell_type": "code",
   "execution_count": 10,
   "id": "2437b7ea",
   "metadata": {},
   "outputs": [
    {
     "data": {
      "text/plain": [
       "55.0"
      ]
     },
     "execution_count": 10,
     "metadata": {},
     "output_type": "execute_result"
    }
   ],
   "source": [
    "adder.sum_nn_2(10)"
   ]
  },
  {
   "cell_type": "code",
   "execution_count": 11,
   "id": "e6253393",
   "metadata": {},
   "outputs": [
    {
     "name": "stdout",
     "output_type": "stream",
     "text": [
      "119 ns ± 2.25 ns per loop (mean ± std. dev. of 7 runs, 10,000,000 loops each)\n"
     ]
    }
   ],
   "source": [
    "%timeit adder.sum_nn_2(10)"
   ]
  },
  {
   "cell_type": "code",
   "execution_count": 12,
   "id": "7991137f",
   "metadata": {},
   "outputs": [],
   "source": [
    "# Error Handling"
   ]
  },
  {
   "cell_type": "code",
   "execution_count": 13,
   "id": "de6c2233",
   "metadata": {},
   "outputs": [
    {
     "ename": "ZeroDivisionError",
     "evalue": "division by zero",
     "output_type": "error",
     "traceback": [
      "\u001b[1;31m---------------------------------------------------------------------------\u001b[0m",
      "\u001b[1;31mZeroDivisionError\u001b[0m                         Traceback (most recent call last)",
      "Cell \u001b[1;32mIn [13], line 2\u001b[0m\n\u001b[0;32m      1\u001b[0m \u001b[38;5;28;01mfor\u001b[39;00m i \u001b[38;5;129;01min\u001b[39;00m \u001b[38;5;28mrange\u001b[39m(\u001b[38;5;241m0\u001b[39m,\u001b[38;5;241m10\u001b[39m):\n\u001b[1;32m----> 2\u001b[0m     \u001b[38;5;28mprint\u001b[39m(\u001b[38;5;241;43m10\u001b[39;49m\u001b[38;5;241;43m/\u001b[39;49m\u001b[43mi\u001b[49m)\n",
      "\u001b[1;31mZeroDivisionError\u001b[0m: division by zero"
     ]
    }
   ],
   "source": [
    "for i in range(0,10):\n",
    "    print(10/i)"
   ]
  },
  {
   "cell_type": "code",
   "execution_count": 14,
   "id": "cebb7327",
   "metadata": {},
   "outputs": [
    {
     "name": "stdout",
     "output_type": "stream",
     "text": [
      "An unexpected error occured\n"
     ]
    }
   ],
   "source": [
    "try:\n",
    "    for i in range(0,10):\n",
    "        print(10/i)\n",
    "except:\n",
    "    print('An unexpected error occured')"
   ]
  },
  {
   "cell_type": "code",
   "execution_count": 15,
   "id": "8335712c",
   "metadata": {},
   "outputs": [],
   "source": [
    "# File handling"
   ]
  },
  {
   "cell_type": "code",
   "execution_count": 42,
   "id": "e33acc18",
   "metadata": {},
   "outputs": [],
   "source": [
    "file = open(\"sample.txt\",\"r\")"
   ]
  },
  {
   "cell_type": "code",
   "execution_count": 29,
   "id": "5829db40",
   "metadata": {},
   "outputs": [],
   "source": [
    "# To read the file"
   ]
  },
  {
   "cell_type": "code",
   "execution_count": 30,
   "id": "572fa706",
   "metadata": {},
   "outputs": [
    {
     "data": {
      "text/plain": [
       "'Hi Everyone, Good Morning'"
      ]
     },
     "execution_count": 30,
     "metadata": {},
     "output_type": "execute_result"
    }
   ],
   "source": [
    "file.read()"
   ]
  },
  {
   "cell_type": "code",
   "execution_count": 31,
   "id": "1663f4d1",
   "metadata": {},
   "outputs": [],
   "source": [
    "# While opening the text\n",
    "#\"r\": read\n",
    "#\"x\":Create\n",
    "#\"w\": write\n",
    "#\"a\": append"
   ]
  },
  {
   "cell_type": "code",
   "execution_count": 35,
   "id": "58a6fd23",
   "metadata": {},
   "outputs": [
    {
     "data": {
      "text/plain": [
       "'Hi Ev'"
      ]
     },
     "execution_count": 35,
     "metadata": {},
     "output_type": "execute_result"
    }
   ],
   "source": [
    "file.read(5)"
   ]
  },
  {
   "cell_type": "code",
   "execution_count": 41,
   "id": "9bf1ee46",
   "metadata": {},
   "outputs": [
    {
     "data": {
      "text/plain": [
       "'Looking forward for our meeting'"
      ]
     },
     "execution_count": 41,
     "metadata": {},
     "output_type": "execute_result"
    }
   ],
   "source": [
    "file.readline()"
   ]
  },
  {
   "cell_type": "code",
   "execution_count": 43,
   "id": "ef2fe1b9",
   "metadata": {},
   "outputs": [
    {
     "name": "stdout",
     "output_type": "stream",
     "text": [
      "Hi Everyone, Good Morning\n",
      "\n",
      "Hope you are doing fine\n",
      "\n",
      "Looking forward for our meeting\n"
     ]
    }
   ],
   "source": [
    "for line in file:\n",
    "    print(line)"
   ]
  },
  {
   "cell_type": "code",
   "execution_count": 45,
   "id": "d077b0ba",
   "metadata": {},
   "outputs": [
    {
     "ename": "UnsupportedOperation",
     "evalue": "not writable",
     "output_type": "error",
     "traceback": [
      "\u001b[1;31m---------------------------------------------------------------------------\u001b[0m",
      "\u001b[1;31mUnsupportedOperation\u001b[0m                      Traceback (most recent call last)",
      "Cell \u001b[1;32mIn [45], line 1\u001b[0m\n\u001b[1;32m----> 1\u001b[0m \u001b[43mfile\u001b[49m\u001b[38;5;241;43m.\u001b[39;49m\u001b[43mwrite\u001b[49m\u001b[43m(\u001b[49m\u001b[38;5;124;43m\"\u001b[39;49m\u001b[38;5;124;43mThanks for your time\u001b[39;49m\u001b[38;5;124;43m\"\u001b[39;49m\u001b[43m)\u001b[49m\n",
      "\u001b[1;31mUnsupportedOperation\u001b[0m: not writable"
     ]
    }
   ],
   "source": [
    "file.write(\"Thanks for your time\")"
   ]
  },
  {
   "cell_type": "code",
   "execution_count": 46,
   "id": "4c8e1069",
   "metadata": {},
   "outputs": [],
   "source": [
    "file = open(\"sample.txt\",\"a\")"
   ]
  },
  {
   "cell_type": "code",
   "execution_count": 47,
   "id": "e42c11f9",
   "metadata": {},
   "outputs": [
    {
     "data": {
      "text/plain": [
       "20"
      ]
     },
     "execution_count": 47,
     "metadata": {},
     "output_type": "execute_result"
    }
   ],
   "source": [
    "file.write(\"Thanks for your time\")"
   ]
  },
  {
   "cell_type": "code",
   "execution_count": 48,
   "id": "23747de6",
   "metadata": {},
   "outputs": [],
   "source": [
    "file.close()"
   ]
  },
  {
   "cell_type": "code",
   "execution_count": 49,
   "id": "a8a4bff9",
   "metadata": {},
   "outputs": [],
   "source": [
    "file = open(\"sample.txt\",\"w\")"
   ]
  },
  {
   "cell_type": "code",
   "execution_count": 50,
   "id": "352a3e90",
   "metadata": {},
   "outputs": [
    {
     "data": {
      "text/plain": [
       "29"
      ]
     },
     "execution_count": 50,
     "metadata": {},
     "output_type": "execute_result"
    }
   ],
   "source": [
    "file.write(\"OOps, I deleted the content!!\")"
   ]
  },
  {
   "cell_type": "code",
   "execution_count": 51,
   "id": "36681d1c",
   "metadata": {},
   "outputs": [],
   "source": [
    "file.close()"
   ]
  },
  {
   "cell_type": "code",
   "execution_count": 52,
   "id": "528965d5",
   "metadata": {},
   "outputs": [
    {
     "ename": "FileNotFoundError",
     "evalue": "[Errno 2] No such file or directory: 'dev.txt'",
     "output_type": "error",
     "traceback": [
      "\u001b[1;31m---------------------------------------------------------------------------\u001b[0m",
      "\u001b[1;31mFileNotFoundError\u001b[0m                         Traceback (most recent call last)",
      "Cell \u001b[1;32mIn [52], line 1\u001b[0m\n\u001b[1;32m----> 1\u001b[0m file \u001b[38;5;241m=\u001b[39m \u001b[38;5;28;43mopen\u001b[39;49m\u001b[43m(\u001b[49m\u001b[38;5;124;43m\"\u001b[39;49m\u001b[38;5;124;43mdev.txt\u001b[39;49m\u001b[38;5;124;43m\"\u001b[39;49m\u001b[43m,\u001b[49m\u001b[38;5;124;43m\"\u001b[39;49m\u001b[38;5;124;43mr\u001b[39;49m\u001b[38;5;124;43m\"\u001b[39;49m\u001b[43m)\u001b[49m\n",
      "File \u001b[1;32m~\\MLOps_Platform_Prefect\\prefect_demo\\lib\\site-packages\\IPython\\core\\interactiveshell.py:282\u001b[0m, in \u001b[0;36m_modified_open\u001b[1;34m(file, *args, **kwargs)\u001b[0m\n\u001b[0;32m    275\u001b[0m \u001b[38;5;28;01mif\u001b[39;00m file \u001b[38;5;129;01min\u001b[39;00m {\u001b[38;5;241m0\u001b[39m, \u001b[38;5;241m1\u001b[39m, \u001b[38;5;241m2\u001b[39m}:\n\u001b[0;32m    276\u001b[0m     \u001b[38;5;28;01mraise\u001b[39;00m \u001b[38;5;167;01mValueError\u001b[39;00m(\n\u001b[0;32m    277\u001b[0m         \u001b[38;5;124mf\u001b[39m\u001b[38;5;124m\"\u001b[39m\u001b[38;5;124mIPython won\u001b[39m\u001b[38;5;124m'\u001b[39m\u001b[38;5;124mt let you open fd=\u001b[39m\u001b[38;5;132;01m{\u001b[39;00mfile\u001b[38;5;132;01m}\u001b[39;00m\u001b[38;5;124m by default \u001b[39m\u001b[38;5;124m\"\u001b[39m\n\u001b[0;32m    278\u001b[0m         \u001b[38;5;124m\"\u001b[39m\u001b[38;5;124mas it is likely to crash IPython. If you know what you are doing, \u001b[39m\u001b[38;5;124m\"\u001b[39m\n\u001b[0;32m    279\u001b[0m         \u001b[38;5;124m\"\u001b[39m\u001b[38;5;124myou can use builtins\u001b[39m\u001b[38;5;124m'\u001b[39m\u001b[38;5;124m open.\u001b[39m\u001b[38;5;124m\"\u001b[39m\n\u001b[0;32m    280\u001b[0m     )\n\u001b[1;32m--> 282\u001b[0m \u001b[38;5;28;01mreturn\u001b[39;00m io_open(file, \u001b[38;5;241m*\u001b[39margs, \u001b[38;5;241m*\u001b[39m\u001b[38;5;241m*\u001b[39mkwargs)\n",
      "\u001b[1;31mFileNotFoundError\u001b[0m: [Errno 2] No such file or directory: 'dev.txt'"
     ]
    }
   ],
   "source": [
    "file = open(\"dev.txt\",\"r\")"
   ]
  },
  {
   "cell_type": "code",
   "execution_count": 53,
   "id": "c54462a3",
   "metadata": {},
   "outputs": [],
   "source": [
    "file = open('dev.txt','x')"
   ]
  },
  {
   "cell_type": "code",
   "execution_count": 54,
   "id": "3f94cccb",
   "metadata": {},
   "outputs": [],
   "source": [
    "import os"
   ]
  },
  {
   "cell_type": "code",
   "execution_count": 55,
   "id": "98f9e656",
   "metadata": {},
   "outputs": [
    {
     "ename": "PermissionError",
     "evalue": "[WinError 32] The process cannot access the file because it is being used by another process: 'dev.txt'",
     "output_type": "error",
     "traceback": [
      "\u001b[1;31m---------------------------------------------------------------------------\u001b[0m",
      "\u001b[1;31mPermissionError\u001b[0m                           Traceback (most recent call last)",
      "Cell \u001b[1;32mIn [55], line 1\u001b[0m\n\u001b[1;32m----> 1\u001b[0m \u001b[43mos\u001b[49m\u001b[38;5;241;43m.\u001b[39;49m\u001b[43mremove\u001b[49m\u001b[43m(\u001b[49m\u001b[38;5;124;43m\"\u001b[39;49m\u001b[38;5;124;43mdev.txt\u001b[39;49m\u001b[38;5;124;43m\"\u001b[39;49m\u001b[43m)\u001b[49m\n",
      "\u001b[1;31mPermissionError\u001b[0m: [WinError 32] The process cannot access the file because it is being used by another process: 'dev.txt'"
     ]
    }
   ],
   "source": [
    "os.remove(\"dev.txt\")"
   ]
  },
  {
   "cell_type": "markdown",
   "id": "fc386cd0",
   "metadata": {},
   "source": [
    "## Assignment "
   ]
  },
  {
   "cell_type": "markdown",
   "id": "ae2610c6",
   "metadata": {},
   "source": [
    "#### Q1"
   ]
  },
  {
   "cell_type": "code",
   "execution_count": 58,
   "id": "0feebdb4",
   "metadata": {},
   "outputs": [],
   "source": [
    "# Problem statement: We are running a bus service, if any customer asks for a ticket, we will ask them their age\n",
    "# since price of ticket is based on their age and will give them the ticket\n",
    "# so input from user is age, and output we need to provide is the price of the ticket.\n",
    "\n",
    "# Create a module and import it in your main script:\n",
    "# Take the age and return the price of the ticket for that person\n",
    "    # for eg: \n",
    "    # if age <= 13 return 30$\n",
    "    #if age >=50  return 30$\n",
    "    # else return 60$\n",
    "\n",
    "#ps: In a nutshell, half price for kids and senior citizen compared to adults."
   ]
  },
  {
   "cell_type": "markdown",
   "id": "40c34849",
   "metadata": {},
   "source": [
    "#### Q2"
   ]
  },
  {
   "cell_type": "code",
   "execution_count": 57,
   "id": "34ff89b0",
   "metadata": {},
   "outputs": [],
   "source": [
    "# Follow module structure for this program as well\n",
    "# create a module to multiply each value of one list with each value of second list\n",
    "# and store all these values in a new list (can use append)\n",
    "# so basically inputs to the function are two list, let's say list1 and list 2\n",
    "# for eg:\n",
    "# list1 = [1,2]\n",
    "#list2 = [3,4]\n",
    "# desired output:\n",
    "# 1*3 = 3\n",
    "# 1*4 = 4\n",
    "# 2*3 = 6\n",
    "# 2*4 = 8\n",
    "# output_list = [3,4,6,8]"
   ]
  },
  {
   "cell_type": "code",
   "execution_count": null,
   "id": "dae85bfe",
   "metadata": {},
   "outputs": [],
   "source": []
  }
 ],
 "metadata": {
  "kernelspec": {
   "display_name": "Python 3 (ipykernel)",
   "language": "python",
   "name": "python3"
  },
  "language_info": {
   "codemirror_mode": {
    "name": "ipython",
    "version": 3
   },
   "file_extension": ".py",
   "mimetype": "text/x-python",
   "name": "python",
   "nbconvert_exporter": "python",
   "pygments_lexer": "ipython3",
   "version": "3.10.8"
  }
 },
 "nbformat": 4,
 "nbformat_minor": 5
}
